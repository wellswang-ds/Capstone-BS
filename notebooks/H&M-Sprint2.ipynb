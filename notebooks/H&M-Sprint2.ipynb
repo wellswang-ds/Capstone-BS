{
 "cells": [
  {
   "cell_type": "markdown",
   "id": "acf997f9",
   "metadata": {},
   "source": [
    "# H&M Retail Sales Analysis - Sprint 1\n",
    "---"
   ]
  },
  {
   "cell_type": "markdown",
   "id": "baf95e2b",
   "metadata": {},
   "source": [
    "# Import Packages and Load data\n",
    "There are three tables within this [Kaggle dataset](https://www.kaggle.com/competitions/h-and-m-personalized-fashion-recommendations/data?select=transactions_train.csv):\n",
    "- `articles`: Detailed metadata for each article_id (product) available for purchase.\n",
    "- `customers`: metadata for each customer_id in dataset.\n",
    "- `transactions`: The purchases each customer for each date, as well as additional information. Duplicate rows correspond to multiple purchases of the same item."
   ]
  },
  {
   "cell_type": "code",
   "execution_count": 21,
   "id": "3d24bda1",
   "metadata": {
    "tags": []
   },
   "outputs": [],
   "source": [
    "import numpy as np\n",
    "import pandas as pd\n",
    "import matplotlib.pyplot as plt\n",
    "import seaborn as sns\n",
    "# from statsmodels.regression import linear_model\n",
    "# import statsmodels.api as sm\n",
    "from scipy import stats\n",
    "import plotly.express as px\n",
    "from plotly.subplots import make_subplots\n",
    "import plotly.graph_objs as go\n",
    "%matplotlib inline"
   ]
  },
  {
   "cell_type": "code",
   "execution_count": 2,
   "id": "bed5cadb",
   "metadata": {
    "tags": []
   },
   "outputs": [],
   "source": [
    "plt.rcParams['figure.figsize']=(5,3.5)"
   ]
  },
  {
   "cell_type": "code",
   "execution_count": 3,
   "id": "297ffd82",
   "metadata": {
    "tags": []
   },
   "outputs": [],
   "source": [
    "articles = pd.read_csv('data/articles.csv')"
   ]
  },
  {
   "cell_type": "code",
   "execution_count": 4,
   "id": "f32aa1f3",
   "metadata": {
    "tags": []
   },
   "outputs": [],
   "source": [
    "customers = pd.read_csv('data/customers.csv')"
   ]
  },
  {
   "cell_type": "code",
   "execution_count": 5,
   "id": "a3849b33",
   "metadata": {
    "tags": []
   },
   "outputs": [],
   "source": [
    "transactions = pd.read_csv('data/transactions_train.csv')"
   ]
  },
  {
   "cell_type": "markdown",
   "id": "d5471671",
   "metadata": {},
   "source": [
    "---"
   ]
  },
  {
   "cell_type": "markdown",
   "id": "4b480bf6",
   "metadata": {},
   "source": [
    "# Data Cleaning"
   ]
  },
  {
   "cell_type": "markdown",
   "id": "9e3e787e",
   "metadata": {},
   "source": [
    "As a data analyst, I want to conduct data preprocessing on the H&M Sales data in order to better identify quality issues, and feature engineering opportunities, and to have further observations about the data: \n",
    "- Looking individually into the 3 tables for preprocessing.\n",
    "- Drop columns that might fall out of scope for this project.\n",
    "- Merge them into a final dataframe for the further EDA."
   ]
  },
  {
   "cell_type": "markdown",
   "id": "d22e9174",
   "metadata": {},
   "source": [
    "---"
   ]
  },
  {
   "cell_type": "markdown",
   "id": "99b40ef1",
   "metadata": {},
   "source": [
    "## Articles"
   ]
  },
  {
   "cell_type": "code",
   "execution_count": 6,
   "id": "7e5958be",
   "metadata": {
    "tags": []
   },
   "outputs": [
    {
     "data": {
      "text/html": [
       "<div>\n",
       "<style scoped>\n",
       "    .dataframe tbody tr th:only-of-type {\n",
       "        vertical-align: middle;\n",
       "    }\n",
       "\n",
       "    .dataframe tbody tr th {\n",
       "        vertical-align: top;\n",
       "    }\n",
       "\n",
       "    .dataframe thead th {\n",
       "        text-align: right;\n",
       "    }\n",
       "</style>\n",
       "<table border=\"1\" class=\"dataframe\">\n",
       "  <thead>\n",
       "    <tr style=\"text-align: right;\">\n",
       "      <th></th>\n",
       "      <th>article_id</th>\n",
       "      <th>product_code</th>\n",
       "      <th>prod_name</th>\n",
       "      <th>product_type_no</th>\n",
       "      <th>product_type_name</th>\n",
       "      <th>product_group_name</th>\n",
       "      <th>graphical_appearance_no</th>\n",
       "      <th>graphical_appearance_name</th>\n",
       "      <th>colour_group_code</th>\n",
       "      <th>colour_group_name</th>\n",
       "      <th>...</th>\n",
       "      <th>department_name</th>\n",
       "      <th>index_code</th>\n",
       "      <th>index_name</th>\n",
       "      <th>index_group_no</th>\n",
       "      <th>index_group_name</th>\n",
       "      <th>section_no</th>\n",
       "      <th>section_name</th>\n",
       "      <th>garment_group_no</th>\n",
       "      <th>garment_group_name</th>\n",
       "      <th>detail_desc</th>\n",
       "    </tr>\n",
       "  </thead>\n",
       "  <tbody>\n",
       "    <tr>\n",
       "      <th>0</th>\n",
       "      <td>108775015</td>\n",
       "      <td>108775</td>\n",
       "      <td>Strap top</td>\n",
       "      <td>253</td>\n",
       "      <td>Vest top</td>\n",
       "      <td>Garment Upper body</td>\n",
       "      <td>1010016</td>\n",
       "      <td>Solid</td>\n",
       "      <td>9</td>\n",
       "      <td>Black</td>\n",
       "      <td>...</td>\n",
       "      <td>Jersey Basic</td>\n",
       "      <td>A</td>\n",
       "      <td>Ladieswear</td>\n",
       "      <td>1</td>\n",
       "      <td>Ladieswear</td>\n",
       "      <td>16</td>\n",
       "      <td>Womens Everyday Basics</td>\n",
       "      <td>1002</td>\n",
       "      <td>Jersey Basic</td>\n",
       "      <td>Jersey top with narrow shoulder straps.</td>\n",
       "    </tr>\n",
       "    <tr>\n",
       "      <th>1</th>\n",
       "      <td>108775044</td>\n",
       "      <td>108775</td>\n",
       "      <td>Strap top</td>\n",
       "      <td>253</td>\n",
       "      <td>Vest top</td>\n",
       "      <td>Garment Upper body</td>\n",
       "      <td>1010016</td>\n",
       "      <td>Solid</td>\n",
       "      <td>10</td>\n",
       "      <td>White</td>\n",
       "      <td>...</td>\n",
       "      <td>Jersey Basic</td>\n",
       "      <td>A</td>\n",
       "      <td>Ladieswear</td>\n",
       "      <td>1</td>\n",
       "      <td>Ladieswear</td>\n",
       "      <td>16</td>\n",
       "      <td>Womens Everyday Basics</td>\n",
       "      <td>1002</td>\n",
       "      <td>Jersey Basic</td>\n",
       "      <td>Jersey top with narrow shoulder straps.</td>\n",
       "    </tr>\n",
       "    <tr>\n",
       "      <th>2</th>\n",
       "      <td>108775051</td>\n",
       "      <td>108775</td>\n",
       "      <td>Strap top (1)</td>\n",
       "      <td>253</td>\n",
       "      <td>Vest top</td>\n",
       "      <td>Garment Upper body</td>\n",
       "      <td>1010017</td>\n",
       "      <td>Stripe</td>\n",
       "      <td>11</td>\n",
       "      <td>Off White</td>\n",
       "      <td>...</td>\n",
       "      <td>Jersey Basic</td>\n",
       "      <td>A</td>\n",
       "      <td>Ladieswear</td>\n",
       "      <td>1</td>\n",
       "      <td>Ladieswear</td>\n",
       "      <td>16</td>\n",
       "      <td>Womens Everyday Basics</td>\n",
       "      <td>1002</td>\n",
       "      <td>Jersey Basic</td>\n",
       "      <td>Jersey top with narrow shoulder straps.</td>\n",
       "    </tr>\n",
       "  </tbody>\n",
       "</table>\n",
       "<p>3 rows × 25 columns</p>\n",
       "</div>"
      ],
      "text/plain": [
       "   article_id  product_code      prod_name  product_type_no product_type_name  \\\n",
       "0   108775015        108775      Strap top              253          Vest top   \n",
       "1   108775044        108775      Strap top              253          Vest top   \n",
       "2   108775051        108775  Strap top (1)              253          Vest top   \n",
       "\n",
       "   product_group_name  graphical_appearance_no graphical_appearance_name  \\\n",
       "0  Garment Upper body                  1010016                     Solid   \n",
       "1  Garment Upper body                  1010016                     Solid   \n",
       "2  Garment Upper body                  1010017                    Stripe   \n",
       "\n",
       "   colour_group_code colour_group_name  ...  department_name index_code  \\\n",
       "0                  9             Black  ...     Jersey Basic          A   \n",
       "1                 10             White  ...     Jersey Basic          A   \n",
       "2                 11         Off White  ...     Jersey Basic          A   \n",
       "\n",
       "   index_name index_group_no  index_group_name section_no  \\\n",
       "0  Ladieswear              1        Ladieswear         16   \n",
       "1  Ladieswear              1        Ladieswear         16   \n",
       "2  Ladieswear              1        Ladieswear         16   \n",
       "\n",
       "             section_name garment_group_no  garment_group_name  \\\n",
       "0  Womens Everyday Basics             1002        Jersey Basic   \n",
       "1  Womens Everyday Basics             1002        Jersey Basic   \n",
       "2  Womens Everyday Basics             1002        Jersey Basic   \n",
       "\n",
       "                               detail_desc  \n",
       "0  Jersey top with narrow shoulder straps.  \n",
       "1  Jersey top with narrow shoulder straps.  \n",
       "2  Jersey top with narrow shoulder straps.  \n",
       "\n",
       "[3 rows x 25 columns]"
      ]
     },
     "execution_count": 6,
     "metadata": {},
     "output_type": "execute_result"
    }
   ],
   "source": [
    "articles.head(3)"
   ]
  },
  {
   "cell_type": "markdown",
   "id": "593413b7",
   "metadata": {},
   "source": [
    "### Shapes, missing values, and duplicates"
   ]
  },
  {
   "cell_type": "markdown",
   "id": "17caf32b",
   "metadata": {},
   "source": [
    "`articles` is the product table for this dataset. First we look at the shape, NANs, and duplicated of this table."
   ]
  },
  {
   "cell_type": "code",
   "execution_count": 7,
   "id": "52a06c99",
   "metadata": {
    "tags": []
   },
   "outputs": [
    {
     "data": {
      "text/plain": [
       "(105542, 25)"
      ]
     },
     "execution_count": 7,
     "metadata": {},
     "output_type": "execute_result"
    }
   ],
   "source": [
    "articles.shape"
   ]
  },
  {
   "cell_type": "markdown",
   "id": "ef48ad42",
   "metadata": {},
   "source": [
    "There are more than 100k available products (rows), and 25 columns."
   ]
  },
  {
   "cell_type": "code",
   "execution_count": 8,
   "id": "c36b0c8b",
   "metadata": {
    "tags": []
   },
   "outputs": [
    {
     "data": {
      "text/plain": [
       "article_id                        0\n",
       "product_code                      0\n",
       "prod_name                         0\n",
       "product_type_no                   0\n",
       "product_type_name                 0\n",
       "product_group_name                0\n",
       "graphical_appearance_no           0\n",
       "graphical_appearance_name         0\n",
       "colour_group_code                 0\n",
       "colour_group_name                 0\n",
       "perceived_colour_value_id         0\n",
       "perceived_colour_value_name       0\n",
       "perceived_colour_master_id        0\n",
       "perceived_colour_master_name      0\n",
       "department_no                     0\n",
       "department_name                   0\n",
       "index_code                        0\n",
       "index_name                        0\n",
       "index_group_no                    0\n",
       "index_group_name                  0\n",
       "section_no                        0\n",
       "section_name                      0\n",
       "garment_group_no                  0\n",
       "garment_group_name                0\n",
       "detail_desc                     416\n",
       "dtype: int64"
      ]
     },
     "execution_count": 8,
     "metadata": {},
     "output_type": "execute_result"
    }
   ],
   "source": [
    "articles.isna().sum()"
   ]
  },
  {
   "cell_type": "markdown",
   "id": "a623c476",
   "metadata": {},
   "source": [
    "Here we can see that the only column with missing values is detail_desc, which is around 0.4% of the total rows. "
   ]
  },
  {
   "cell_type": "code",
   "execution_count": 9,
   "id": "8733cc1e",
   "metadata": {
    "tags": []
   },
   "outputs": [
    {
     "data": {
      "text/html": [
       "<div>\n",
       "<style scoped>\n",
       "    .dataframe tbody tr th:only-of-type {\n",
       "        vertical-align: middle;\n",
       "    }\n",
       "\n",
       "    .dataframe tbody tr th {\n",
       "        vertical-align: top;\n",
       "    }\n",
       "\n",
       "    .dataframe thead th {\n",
       "        text-align: right;\n",
       "    }\n",
       "</style>\n",
       "<table border=\"1\" class=\"dataframe\">\n",
       "  <thead>\n",
       "    <tr style=\"text-align: right;\">\n",
       "      <th></th>\n",
       "      <th>article_id</th>\n",
       "      <th>product_code</th>\n",
       "      <th>prod_name</th>\n",
       "      <th>product_type_no</th>\n",
       "      <th>product_type_name</th>\n",
       "      <th>product_group_name</th>\n",
       "      <th>graphical_appearance_no</th>\n",
       "      <th>graphical_appearance_name</th>\n",
       "      <th>colour_group_code</th>\n",
       "      <th>colour_group_name</th>\n",
       "      <th>...</th>\n",
       "      <th>department_name</th>\n",
       "      <th>index_code</th>\n",
       "      <th>index_name</th>\n",
       "      <th>index_group_no</th>\n",
       "      <th>index_group_name</th>\n",
       "      <th>section_no</th>\n",
       "      <th>section_name</th>\n",
       "      <th>garment_group_no</th>\n",
       "      <th>garment_group_name</th>\n",
       "      <th>detail_desc</th>\n",
       "    </tr>\n",
       "  </thead>\n",
       "  <tbody>\n",
       "    <tr>\n",
       "      <th>1467</th>\n",
       "      <td>351332007</td>\n",
       "      <td>351332</td>\n",
       "      <td>Marshall Lace up Top</td>\n",
       "      <td>252</td>\n",
       "      <td>Sweater</td>\n",
       "      <td>Garment Upper body</td>\n",
       "      <td>1010018</td>\n",
       "      <td>Treatment</td>\n",
       "      <td>7</td>\n",
       "      <td>Grey</td>\n",
       "      <td>...</td>\n",
       "      <td>Jersey Fancy DS</td>\n",
       "      <td>D</td>\n",
       "      <td>Divided</td>\n",
       "      <td>2</td>\n",
       "      <td>Divided</td>\n",
       "      <td>58</td>\n",
       "      <td>Divided Selected</td>\n",
       "      <td>1005</td>\n",
       "      <td>Jersey Fancy</td>\n",
       "      <td>NaN</td>\n",
       "    </tr>\n",
       "    <tr>\n",
       "      <th>2644</th>\n",
       "      <td>420049002</td>\n",
       "      <td>420049</td>\n",
       "      <td>OL TAGE PQ</td>\n",
       "      <td>87</td>\n",
       "      <td>Boots</td>\n",
       "      <td>Shoes</td>\n",
       "      <td>1010016</td>\n",
       "      <td>Solid</td>\n",
       "      <td>13</td>\n",
       "      <td>Beige</td>\n",
       "      <td>...</td>\n",
       "      <td>Premium Quality</td>\n",
       "      <td>C</td>\n",
       "      <td>Ladies Accessories</td>\n",
       "      <td>1</td>\n",
       "      <td>Ladieswear</td>\n",
       "      <td>64</td>\n",
       "      <td>Womens Shoes</td>\n",
       "      <td>1020</td>\n",
       "      <td>Shoes</td>\n",
       "      <td>NaN</td>\n",
       "    </tr>\n",
       "    <tr>\n",
       "      <th>2645</th>\n",
       "      <td>420049003</td>\n",
       "      <td>420049</td>\n",
       "      <td>OL TAGE PQ</td>\n",
       "      <td>87</td>\n",
       "      <td>Boots</td>\n",
       "      <td>Shoes</td>\n",
       "      <td>1010016</td>\n",
       "      <td>Solid</td>\n",
       "      <td>23</td>\n",
       "      <td>Dark Yellow</td>\n",
       "      <td>...</td>\n",
       "      <td>Premium Quality</td>\n",
       "      <td>C</td>\n",
       "      <td>Ladies Accessories</td>\n",
       "      <td>1</td>\n",
       "      <td>Ladieswear</td>\n",
       "      <td>64</td>\n",
       "      <td>Womens Shoes</td>\n",
       "      <td>1020</td>\n",
       "      <td>Shoes</td>\n",
       "      <td>NaN</td>\n",
       "    </tr>\n",
       "    <tr>\n",
       "      <th>2742</th>\n",
       "      <td>426199002</td>\n",
       "      <td>426199</td>\n",
       "      <td>Ellen Shortie Daisy Low 3p</td>\n",
       "      <td>286</td>\n",
       "      <td>Underwear bottom</td>\n",
       "      <td>Underwear</td>\n",
       "      <td>1010016</td>\n",
       "      <td>Solid</td>\n",
       "      <td>9</td>\n",
       "      <td>Black</td>\n",
       "      <td>...</td>\n",
       "      <td>Casual Lingerie</td>\n",
       "      <td>B</td>\n",
       "      <td>Lingeries/Tights</td>\n",
       "      <td>1</td>\n",
       "      <td>Ladieswear</td>\n",
       "      <td>61</td>\n",
       "      <td>Womens Lingerie</td>\n",
       "      <td>1017</td>\n",
       "      <td>Under-, Nightwear</td>\n",
       "      <td>NaN</td>\n",
       "    </tr>\n",
       "    <tr>\n",
       "      <th>2743</th>\n",
       "      <td>426199010</td>\n",
       "      <td>426199</td>\n",
       "      <td>Ellen Shortie Daisy Low 3p</td>\n",
       "      <td>286</td>\n",
       "      <td>Underwear bottom</td>\n",
       "      <td>Underwear</td>\n",
       "      <td>1010017</td>\n",
       "      <td>Stripe</td>\n",
       "      <td>8</td>\n",
       "      <td>Dark Grey</td>\n",
       "      <td>...</td>\n",
       "      <td>Casual Lingerie</td>\n",
       "      <td>B</td>\n",
       "      <td>Lingeries/Tights</td>\n",
       "      <td>1</td>\n",
       "      <td>Ladieswear</td>\n",
       "      <td>61</td>\n",
       "      <td>Womens Lingerie</td>\n",
       "      <td>1017</td>\n",
       "      <td>Under-, Nightwear</td>\n",
       "      <td>NaN</td>\n",
       "    </tr>\n",
       "    <tr>\n",
       "      <th>...</th>\n",
       "      <td>...</td>\n",
       "      <td>...</td>\n",
       "      <td>...</td>\n",
       "      <td>...</td>\n",
       "      <td>...</td>\n",
       "      <td>...</td>\n",
       "      <td>...</td>\n",
       "      <td>...</td>\n",
       "      <td>...</td>\n",
       "      <td>...</td>\n",
       "      <td>...</td>\n",
       "      <td>...</td>\n",
       "      <td>...</td>\n",
       "      <td>...</td>\n",
       "      <td>...</td>\n",
       "      <td>...</td>\n",
       "      <td>...</td>\n",
       "      <td>...</td>\n",
       "      <td>...</td>\n",
       "      <td>...</td>\n",
       "      <td>...</td>\n",
       "    </tr>\n",
       "    <tr>\n",
       "      <th>67838</th>\n",
       "      <td>752458001</td>\n",
       "      <td>752458</td>\n",
       "      <td>Poissy boho dress</td>\n",
       "      <td>265</td>\n",
       "      <td>Dress</td>\n",
       "      <td>Garment Full body</td>\n",
       "      <td>1010007</td>\n",
       "      <td>Embroidery</td>\n",
       "      <td>10</td>\n",
       "      <td>White</td>\n",
       "      <td>...</td>\n",
       "      <td>Dress</td>\n",
       "      <td>A</td>\n",
       "      <td>Ladieswear</td>\n",
       "      <td>1</td>\n",
       "      <td>Ladieswear</td>\n",
       "      <td>6</td>\n",
       "      <td>Womens Casual</td>\n",
       "      <td>1013</td>\n",
       "      <td>Dresses Ladies</td>\n",
       "      <td>NaN</td>\n",
       "    </tr>\n",
       "    <tr>\n",
       "      <th>72720</th>\n",
       "      <td>768842001</td>\n",
       "      <td>768842</td>\n",
       "      <td>Andrews set</td>\n",
       "      <td>270</td>\n",
       "      <td>Garment Set</td>\n",
       "      <td>Garment Full body</td>\n",
       "      <td>1010017</td>\n",
       "      <td>Stripe</td>\n",
       "      <td>10</td>\n",
       "      <td>White</td>\n",
       "      <td>...</td>\n",
       "      <td>Baby Boy Woven</td>\n",
       "      <td>G</td>\n",
       "      <td>Baby Sizes 50-98</td>\n",
       "      <td>4</td>\n",
       "      <td>Baby/Children</td>\n",
       "      <td>41</td>\n",
       "      <td>Baby Boy</td>\n",
       "      <td>1006</td>\n",
       "      <td>Woven/Jersey/Knitted mix Baby</td>\n",
       "      <td>NaN</td>\n",
       "    </tr>\n",
       "    <tr>\n",
       "      <th>72721</th>\n",
       "      <td>768842004</td>\n",
       "      <td>768842</td>\n",
       "      <td>Andrews set</td>\n",
       "      <td>270</td>\n",
       "      <td>Garment Set</td>\n",
       "      <td>Garment Full body</td>\n",
       "      <td>1010004</td>\n",
       "      <td>Check</td>\n",
       "      <td>73</td>\n",
       "      <td>Dark Blue</td>\n",
       "      <td>...</td>\n",
       "      <td>Baby Boy Woven</td>\n",
       "      <td>G</td>\n",
       "      <td>Baby Sizes 50-98</td>\n",
       "      <td>4</td>\n",
       "      <td>Baby/Children</td>\n",
       "      <td>41</td>\n",
       "      <td>Baby Boy</td>\n",
       "      <td>1006</td>\n",
       "      <td>Woven/Jersey/Knitted mix Baby</td>\n",
       "      <td>NaN</td>\n",
       "    </tr>\n",
       "    <tr>\n",
       "      <th>93144</th>\n",
       "      <td>856985001</td>\n",
       "      <td>856985</td>\n",
       "      <td>Pogo rope</td>\n",
       "      <td>67</td>\n",
       "      <td>Belt</td>\n",
       "      <td>Accessories</td>\n",
       "      <td>1010016</td>\n",
       "      <td>Solid</td>\n",
       "      <td>12</td>\n",
       "      <td>Light Beige</td>\n",
       "      <td>...</td>\n",
       "      <td>Belts</td>\n",
       "      <td>C</td>\n",
       "      <td>Ladies Accessories</td>\n",
       "      <td>1</td>\n",
       "      <td>Ladieswear</td>\n",
       "      <td>65</td>\n",
       "      <td>Womens Big accessories</td>\n",
       "      <td>1019</td>\n",
       "      <td>Accessories</td>\n",
       "      <td>NaN</td>\n",
       "    </tr>\n",
       "    <tr>\n",
       "      <th>95624</th>\n",
       "      <td>867200001</td>\n",
       "      <td>867200</td>\n",
       "      <td>Necklace Simon</td>\n",
       "      <td>77</td>\n",
       "      <td>Necklace</td>\n",
       "      <td>Accessories</td>\n",
       "      <td>1010011</td>\n",
       "      <td>Metallic</td>\n",
       "      <td>3</td>\n",
       "      <td>Silver</td>\n",
       "      <td>...</td>\n",
       "      <td>Small Accessories</td>\n",
       "      <td>F</td>\n",
       "      <td>Menswear</td>\n",
       "      <td>3</td>\n",
       "      <td>Menswear</td>\n",
       "      <td>25</td>\n",
       "      <td>Men Accessories</td>\n",
       "      <td>1019</td>\n",
       "      <td>Accessories</td>\n",
       "      <td>NaN</td>\n",
       "    </tr>\n",
       "  </tbody>\n",
       "</table>\n",
       "<p>416 rows × 25 columns</p>\n",
       "</div>"
      ],
      "text/plain": [
       "       article_id  product_code                   prod_name  product_type_no  \\\n",
       "1467    351332007        351332        Marshall Lace up Top              252   \n",
       "2644    420049002        420049                  OL TAGE PQ               87   \n",
       "2645    420049003        420049                  OL TAGE PQ               87   \n",
       "2742    426199002        426199  Ellen Shortie Daisy Low 3p              286   \n",
       "2743    426199010        426199  Ellen Shortie Daisy Low 3p              286   \n",
       "...           ...           ...                         ...              ...   \n",
       "67838   752458001        752458           Poissy boho dress              265   \n",
       "72720   768842001        768842                 Andrews set              270   \n",
       "72721   768842004        768842                 Andrews set              270   \n",
       "93144   856985001        856985                   Pogo rope               67   \n",
       "95624   867200001        867200              Necklace Simon               77   \n",
       "\n",
       "      product_type_name  product_group_name  graphical_appearance_no  \\\n",
       "1467            Sweater  Garment Upper body                  1010018   \n",
       "2644              Boots               Shoes                  1010016   \n",
       "2645              Boots               Shoes                  1010016   \n",
       "2742   Underwear bottom           Underwear                  1010016   \n",
       "2743   Underwear bottom           Underwear                  1010017   \n",
       "...                 ...                 ...                      ...   \n",
       "67838             Dress   Garment Full body                  1010007   \n",
       "72720       Garment Set   Garment Full body                  1010017   \n",
       "72721       Garment Set   Garment Full body                  1010004   \n",
       "93144              Belt         Accessories                  1010016   \n",
       "95624          Necklace         Accessories                  1010011   \n",
       "\n",
       "      graphical_appearance_name  colour_group_code colour_group_name  ...  \\\n",
       "1467                  Treatment                  7              Grey  ...   \n",
       "2644                      Solid                 13             Beige  ...   \n",
       "2645                      Solid                 23       Dark Yellow  ...   \n",
       "2742                      Solid                  9             Black  ...   \n",
       "2743                     Stripe                  8         Dark Grey  ...   \n",
       "...                         ...                ...               ...  ...   \n",
       "67838                Embroidery                 10             White  ...   \n",
       "72720                    Stripe                 10             White  ...   \n",
       "72721                     Check                 73         Dark Blue  ...   \n",
       "93144                     Solid                 12       Light Beige  ...   \n",
       "95624                  Metallic                  3            Silver  ...   \n",
       "\n",
       "         department_name index_code          index_name index_group_no  \\\n",
       "1467     Jersey Fancy DS          D             Divided              2   \n",
       "2644     Premium Quality          C  Ladies Accessories              1   \n",
       "2645     Premium Quality          C  Ladies Accessories              1   \n",
       "2742     Casual Lingerie          B    Lingeries/Tights              1   \n",
       "2743     Casual Lingerie          B    Lingeries/Tights              1   \n",
       "...                  ...        ...                 ...            ...   \n",
       "67838              Dress          A          Ladieswear              1   \n",
       "72720     Baby Boy Woven          G    Baby Sizes 50-98              4   \n",
       "72721     Baby Boy Woven          G    Baby Sizes 50-98              4   \n",
       "93144              Belts          C  Ladies Accessories              1   \n",
       "95624  Small Accessories          F            Menswear              3   \n",
       "\n",
       "       index_group_name section_no            section_name garment_group_no  \\\n",
       "1467            Divided         58        Divided Selected             1005   \n",
       "2644         Ladieswear         64            Womens Shoes             1020   \n",
       "2645         Ladieswear         64            Womens Shoes             1020   \n",
       "2742         Ladieswear         61         Womens Lingerie             1017   \n",
       "2743         Ladieswear         61         Womens Lingerie             1017   \n",
       "...                 ...        ...                     ...              ...   \n",
       "67838        Ladieswear          6           Womens Casual             1013   \n",
       "72720     Baby/Children         41                Baby Boy             1006   \n",
       "72721     Baby/Children         41                Baby Boy             1006   \n",
       "93144        Ladieswear         65  Womens Big accessories             1019   \n",
       "95624          Menswear         25         Men Accessories             1019   \n",
       "\n",
       "                  garment_group_name detail_desc  \n",
       "1467                    Jersey Fancy         NaN  \n",
       "2644                           Shoes         NaN  \n",
       "2645                           Shoes         NaN  \n",
       "2742               Under-, Nightwear         NaN  \n",
       "2743               Under-, Nightwear         NaN  \n",
       "...                              ...         ...  \n",
       "67838                 Dresses Ladies         NaN  \n",
       "72720  Woven/Jersey/Knitted mix Baby         NaN  \n",
       "72721  Woven/Jersey/Knitted mix Baby         NaN  \n",
       "93144                    Accessories         NaN  \n",
       "95624                    Accessories         NaN  \n",
       "\n",
       "[416 rows x 25 columns]"
      ]
     },
     "execution_count": 9,
     "metadata": {},
     "output_type": "execute_result"
    }
   ],
   "source": [
    "articles[articles['detail_desc'].isna()==1]"
   ]
  },
  {
   "cell_type": "code",
   "execution_count": 10,
   "id": "b2e63c0a",
   "metadata": {
    "tags": []
   },
   "outputs": [
    {
     "data": {
      "text/plain": [
       "0"
      ]
     },
     "execution_count": 10,
     "metadata": {},
     "output_type": "execute_result"
    }
   ],
   "source": [
    "articles.duplicated().sum()"
   ]
  },
  {
   "cell_type": "markdown",
   "id": "9e673c12",
   "metadata": {},
   "source": [
    "No duplicated rows in `articles`."
   ]
  },
  {
   "cell_type": "markdown",
   "id": "04073eb2",
   "metadata": {},
   "source": [
    "---"
   ]
  },
  {
   "cell_type": "markdown",
   "id": "3021ea07",
   "metadata": {},
   "source": [
    "### Code and name pairs"
   ]
  },
  {
   "cell_type": "markdown",
   "id": "4874b2fe",
   "metadata": {},
   "source": [
    "It seems like columns are stored with duplicated information with *code/no* and *name* pairs. Here we can take a look at if codes are assign to more than 1 name. After cleaning, we would drop the codes for EDA (Might bring back codes for machine learning)."
   ]
  },
  {
   "cell_type": "code",
   "execution_count": 11,
   "id": "765f8242",
   "metadata": {
    "tags": []
   },
   "outputs": [
    {
     "name": "stdout",
     "output_type": "stream",
     "text": [
      "<class 'pandas.core.frame.DataFrame'>\n",
      "RangeIndex: 105542 entries, 0 to 105541\n",
      "Data columns (total 25 columns):\n",
      " #   Column                        Non-Null Count   Dtype \n",
      "---  ------                        --------------   ----- \n",
      " 0   article_id                    105542 non-null  int64 \n",
      " 1   product_code                  105542 non-null  int64 \n",
      " 2   prod_name                     105542 non-null  object\n",
      " 3   product_type_no               105542 non-null  int64 \n",
      " 4   product_type_name             105542 non-null  object\n",
      " 5   product_group_name            105542 non-null  object\n",
      " 6   graphical_appearance_no       105542 non-null  int64 \n",
      " 7   graphical_appearance_name     105542 non-null  object\n",
      " 8   colour_group_code             105542 non-null  int64 \n",
      " 9   colour_group_name             105542 non-null  object\n",
      " 10  perceived_colour_value_id     105542 non-null  int64 \n",
      " 11  perceived_colour_value_name   105542 non-null  object\n",
      " 12  perceived_colour_master_id    105542 non-null  int64 \n",
      " 13  perceived_colour_master_name  105542 non-null  object\n",
      " 14  department_no                 105542 non-null  int64 \n",
      " 15  department_name               105542 non-null  object\n",
      " 16  index_code                    105542 non-null  object\n",
      " 17  index_name                    105542 non-null  object\n",
      " 18  index_group_no                105542 non-null  int64 \n",
      " 19  index_group_name              105542 non-null  object\n",
      " 20  section_no                    105542 non-null  int64 \n",
      " 21  section_name                  105542 non-null  object\n",
      " 22  garment_group_no              105542 non-null  int64 \n",
      " 23  garment_group_name            105542 non-null  object\n",
      " 24  detail_desc                   105126 non-null  object\n",
      "dtypes: int64(11), object(14)\n",
      "memory usage: 20.1+ MB\n"
     ]
    }
   ],
   "source": [
    "articles.info()"
   ]
  },
  {
   "cell_type": "markdown",
   "id": "bf43f21d",
   "metadata": {},
   "source": [
    "Only `product_group_name` is not paired with code.  \n",
    "Here, we deal with the following code and name pairs individually:\n",
    "| Code / No.                | Name                        |\n",
    "|---------------------------|-----------------------------|\n",
    "| product_code              | prod_name                   |\n",
    "| product_type_no           | product_type_name           |\n",
    "| graphical_appearance_no   | graphical_appearance_name   |\n",
    "| colour_group_code         | colour_group_name           |\n",
    "| perceived_colour_value_id | perceived_colour_value_name |\n",
    "| department_no             | department_name             |\n",
    "| index_code                | index_name                  |\n",
    "| index_group_no            | index_group_name            |\n",
    "| section_no                | section_name                |\n",
    "| garment_group_no          | garment_group_name          |"
   ]
  },
  {
   "cell_type": "code",
   "execution_count": 12,
   "id": "053dedcb",
   "metadata": {
    "tags": []
   },
   "outputs": [
    {
     "data": {
      "text/html": [
       "<div>\n",
       "<style scoped>\n",
       "    .dataframe tbody tr th:only-of-type {\n",
       "        vertical-align: middle;\n",
       "    }\n",
       "\n",
       "    .dataframe tbody tr th {\n",
       "        vertical-align: top;\n",
       "    }\n",
       "\n",
       "    .dataframe thead th {\n",
       "        text-align: right;\n",
       "    }\n",
       "</style>\n",
       "<table border=\"1\" class=\"dataframe\">\n",
       "  <thead>\n",
       "    <tr style=\"text-align: right;\">\n",
       "      <th></th>\n",
       "      <th>code</th>\n",
       "      <th>name</th>\n",
       "      <th>diff</th>\n",
       "    </tr>\n",
       "  </thead>\n",
       "  <tbody>\n",
       "    <tr>\n",
       "      <th>0</th>\n",
       "      <td>product_code</td>\n",
       "      <td>prod_name</td>\n",
       "      <td>1349</td>\n",
       "    </tr>\n",
       "    <tr>\n",
       "      <th>1</th>\n",
       "      <td>product_type_no</td>\n",
       "      <td>product_type_name</td>\n",
       "      <td>1</td>\n",
       "    </tr>\n",
       "    <tr>\n",
       "      <th>2</th>\n",
       "      <td>graphical_appearance_no</td>\n",
       "      <td>graphical_appearance_name</td>\n",
       "      <td>0</td>\n",
       "    </tr>\n",
       "    <tr>\n",
       "      <th>3</th>\n",
       "      <td>colour_group_code</td>\n",
       "      <td>colour_group_name</td>\n",
       "      <td>0</td>\n",
       "    </tr>\n",
       "    <tr>\n",
       "      <th>4</th>\n",
       "      <td>perceived_colour_value_id</td>\n",
       "      <td>perceived_colour_value_name</td>\n",
       "      <td>0</td>\n",
       "    </tr>\n",
       "    <tr>\n",
       "      <th>5</th>\n",
       "      <td>perceived_colour_master_id</td>\n",
       "      <td>perceived_colour_master_name</td>\n",
       "      <td>0</td>\n",
       "    </tr>\n",
       "    <tr>\n",
       "      <th>6</th>\n",
       "      <td>department_no</td>\n",
       "      <td>department_name</td>\n",
       "      <td>49</td>\n",
       "    </tr>\n",
       "    <tr>\n",
       "      <th>7</th>\n",
       "      <td>index_code</td>\n",
       "      <td>index_name</td>\n",
       "      <td>0</td>\n",
       "    </tr>\n",
       "    <tr>\n",
       "      <th>8</th>\n",
       "      <td>index_group_no</td>\n",
       "      <td>index_group_name</td>\n",
       "      <td>0</td>\n",
       "    </tr>\n",
       "    <tr>\n",
       "      <th>9</th>\n",
       "      <td>section_no</td>\n",
       "      <td>section_name</td>\n",
       "      <td>1</td>\n",
       "    </tr>\n",
       "    <tr>\n",
       "      <th>10</th>\n",
       "      <td>garment_group_no</td>\n",
       "      <td>garment_group_name</td>\n",
       "      <td>0</td>\n",
       "    </tr>\n",
       "  </tbody>\n",
       "</table>\n",
       "</div>"
      ],
      "text/plain": [
       "                          code                          name  diff\n",
       "0                 product_code                     prod_name  1349\n",
       "1              product_type_no             product_type_name     1\n",
       "2      graphical_appearance_no     graphical_appearance_name     0\n",
       "3            colour_group_code             colour_group_name     0\n",
       "4    perceived_colour_value_id   perceived_colour_value_name     0\n",
       "5   perceived_colour_master_id  perceived_colour_master_name     0\n",
       "6                department_no               department_name    49\n",
       "7                   index_code                    index_name     0\n",
       "8               index_group_no              index_group_name     0\n",
       "9                   section_no                  section_name     1\n",
       "10            garment_group_no            garment_group_name     0"
      ]
     },
     "execution_count": 12,
     "metadata": {},
     "output_type": "execute_result"
    }
   ],
   "source": [
    "# Find out code name pairs that are not in 1-to-1 relationships\n",
    "cnpairs = articles.drop(['article_id','product_group_name', 'detail_desc'], axis=1).copy()\n",
    "code=[]\n",
    "name=[]\n",
    "diff=[]\n",
    "for i in range(0, len(cnpairs.columns),2):\n",
    "    code.append(cnpairs.columns[i])\n",
    "    name.append(cnpairs.columns[i+1])\n",
    "    diff.append(cnpairs.iloc[:,i].nunique()-cnpairs.iloc[:,i+1].nunique())\n",
    "cnpairs_diff = pd.DataFrame({\n",
    "    'code':code,\n",
    "    'name':name,\n",
    "    'diff':diff\n",
    "})\n",
    "cnpairs_diff"
   ]
  },
  {
   "cell_type": "markdown",
   "id": "2680c084",
   "metadata": {},
   "source": [
    "It seems like we need to look further into the following pairs:"
   ]
  },
  {
   "cell_type": "code",
   "execution_count": 13,
   "id": "f1347c05",
   "metadata": {
    "tags": []
   },
   "outputs": [
    {
     "data": {
      "text/html": [
       "<div>\n",
       "<style scoped>\n",
       "    .dataframe tbody tr th:only-of-type {\n",
       "        vertical-align: middle;\n",
       "    }\n",
       "\n",
       "    .dataframe tbody tr th {\n",
       "        vertical-align: top;\n",
       "    }\n",
       "\n",
       "    .dataframe thead th {\n",
       "        text-align: right;\n",
       "    }\n",
       "</style>\n",
       "<table border=\"1\" class=\"dataframe\">\n",
       "  <thead>\n",
       "    <tr style=\"text-align: right;\">\n",
       "      <th></th>\n",
       "      <th>code</th>\n",
       "      <th>name</th>\n",
       "      <th>diff</th>\n",
       "    </tr>\n",
       "  </thead>\n",
       "  <tbody>\n",
       "    <tr>\n",
       "      <th>0</th>\n",
       "      <td>product_code</td>\n",
       "      <td>prod_name</td>\n",
       "      <td>1349</td>\n",
       "    </tr>\n",
       "    <tr>\n",
       "      <th>1</th>\n",
       "      <td>product_type_no</td>\n",
       "      <td>product_type_name</td>\n",
       "      <td>1</td>\n",
       "    </tr>\n",
       "    <tr>\n",
       "      <th>6</th>\n",
       "      <td>department_no</td>\n",
       "      <td>department_name</td>\n",
       "      <td>49</td>\n",
       "    </tr>\n",
       "    <tr>\n",
       "      <th>9</th>\n",
       "      <td>section_no</td>\n",
       "      <td>section_name</td>\n",
       "      <td>1</td>\n",
       "    </tr>\n",
       "  </tbody>\n",
       "</table>\n",
       "</div>"
      ],
      "text/plain": [
       "              code               name  diff\n",
       "0     product_code          prod_name  1349\n",
       "1  product_type_no  product_type_name     1\n",
       "6    department_no    department_name    49\n",
       "9       section_no       section_name     1"
      ]
     },
     "execution_count": 13,
     "metadata": {},
     "output_type": "execute_result"
    }
   ],
   "source": [
    "cnpairs_diff[cnpairs_diff['diff']>0]"
   ]
  },
  {
   "cell_type": "markdown",
   "id": "f06b24f5",
   "metadata": {},
   "source": [
    "---"
   ]
  },
  {
   "cell_type": "markdown",
   "id": "084ad75d",
   "metadata": {},
   "source": [
    "#### product_code and prod_name\n",
    "- It seems like 2176 product_code have more than 1 prod_name."
   ]
  },
  {
   "cell_type": "code",
   "execution_count": 14,
   "id": "408b9cc8",
   "metadata": {
    "tags": []
   },
   "outputs": [
    {
     "data": {
      "text/html": [
       "<div>\n",
       "<style scoped>\n",
       "    .dataframe tbody tr th:only-of-type {\n",
       "        vertical-align: middle;\n",
       "    }\n",
       "\n",
       "    .dataframe tbody tr th {\n",
       "        vertical-align: top;\n",
       "    }\n",
       "\n",
       "    .dataframe thead th {\n",
       "        text-align: right;\n",
       "    }\n",
       "</style>\n",
       "<table border=\"1\" class=\"dataframe\">\n",
       "  <thead>\n",
       "    <tr style=\"text-align: right;\">\n",
       "      <th></th>\n",
       "      <th>product_code</th>\n",
       "      <th>prod_name</th>\n",
       "    </tr>\n",
       "  </thead>\n",
       "  <tbody>\n",
       "    <tr>\n",
       "      <th>0</th>\n",
       "      <td>108775</td>\n",
       "      <td>2</td>\n",
       "    </tr>\n",
       "    <tr>\n",
       "      <th>18</th>\n",
       "      <td>146706</td>\n",
       "      <td>2</td>\n",
       "    </tr>\n",
       "    <tr>\n",
       "      <th>29</th>\n",
       "      <td>156610</td>\n",
       "      <td>2</td>\n",
       "    </tr>\n",
       "    <tr>\n",
       "      <th>31</th>\n",
       "      <td>160442</td>\n",
       "      <td>2</td>\n",
       "    </tr>\n",
       "    <tr>\n",
       "      <th>39</th>\n",
       "      <td>179123</td>\n",
       "      <td>2</td>\n",
       "    </tr>\n",
       "  </tbody>\n",
       "</table>\n",
       "</div>"
      ],
      "text/plain": [
       "    product_code  prod_name\n",
       "0         108775          2\n",
       "18        146706          2\n",
       "29        156610          2\n",
       "31        160442          2\n",
       "39        179123          2"
      ]
     },
     "execution_count": 14,
     "metadata": {},
     "output_type": "execute_result"
    }
   ],
   "source": [
    "# Finding product_code with more than one unique prod_name\n",
    "code_name_pairs_product = articles.groupby('product_code')['prod_name'].nunique().reset_index()\n",
    "code_name_pairs_product[code_name_pairs_product['prod_name']>1].head()"
   ]
  },
  {
   "cell_type": "code",
   "execution_count": 15,
   "id": "0c41bf92",
   "metadata": {
    "scrolled": true,
    "tags": []
   },
   "outputs": [
    {
     "data": {
      "text/html": [
       "<div>\n",
       "<style scoped>\n",
       "    .dataframe tbody tr th:only-of-type {\n",
       "        vertical-align: middle;\n",
       "    }\n",
       "\n",
       "    .dataframe tbody tr th {\n",
       "        vertical-align: top;\n",
       "    }\n",
       "\n",
       "    .dataframe thead th {\n",
       "        text-align: right;\n",
       "    }\n",
       "</style>\n",
       "<table border=\"1\" class=\"dataframe\">\n",
       "  <thead>\n",
       "    <tr style=\"text-align: right;\">\n",
       "      <th></th>\n",
       "      <th>article_id</th>\n",
       "      <th>product_code</th>\n",
       "      <th>prod_name</th>\n",
       "      <th>product_type_no</th>\n",
       "      <th>product_type_name</th>\n",
       "      <th>product_group_name</th>\n",
       "      <th>graphical_appearance_no</th>\n",
       "      <th>graphical_appearance_name</th>\n",
       "      <th>colour_group_code</th>\n",
       "      <th>colour_group_name</th>\n",
       "      <th>...</th>\n",
       "      <th>department_name</th>\n",
       "      <th>index_code</th>\n",
       "      <th>index_name</th>\n",
       "      <th>index_group_no</th>\n",
       "      <th>index_group_name</th>\n",
       "      <th>section_no</th>\n",
       "      <th>section_name</th>\n",
       "      <th>garment_group_no</th>\n",
       "      <th>garment_group_name</th>\n",
       "      <th>detail_desc</th>\n",
       "    </tr>\n",
       "  </thead>\n",
       "  <tbody>\n",
       "    <tr>\n",
       "      <th>160</th>\n",
       "      <td>188183001</td>\n",
       "      <td>188183</td>\n",
       "      <td>Spanx alot shape Swimsuit</td>\n",
       "      <td>57</td>\n",
       "      <td>Swimsuit</td>\n",
       "      <td>Swimwear</td>\n",
       "      <td>1010016</td>\n",
       "      <td>Solid</td>\n",
       "      <td>9</td>\n",
       "      <td>Black</td>\n",
       "      <td>...</td>\n",
       "      <td>Swimwear</td>\n",
       "      <td>B</td>\n",
       "      <td>Lingeries/Tights</td>\n",
       "      <td>1</td>\n",
       "      <td>Ladieswear</td>\n",
       "      <td>60</td>\n",
       "      <td>Womens Swimwear, beachwear</td>\n",
       "      <td>1018</td>\n",
       "      <td>Swimwear</td>\n",
       "      <td>Fully lined shaping swimsuit that has a sculpt...</td>\n",
       "    </tr>\n",
       "    <tr>\n",
       "      <th>161</th>\n",
       "      <td>188183008</td>\n",
       "      <td>188183</td>\n",
       "      <td>SPANX ALOT swimsuit (1)</td>\n",
       "      <td>57</td>\n",
       "      <td>Swimsuit</td>\n",
       "      <td>Swimwear</td>\n",
       "      <td>1010016</td>\n",
       "      <td>Solid</td>\n",
       "      <td>8</td>\n",
       "      <td>Dark Grey</td>\n",
       "      <td>...</td>\n",
       "      <td>Swimwear</td>\n",
       "      <td>B</td>\n",
       "      <td>Lingeries/Tights</td>\n",
       "      <td>1</td>\n",
       "      <td>Ladieswear</td>\n",
       "      <td>60</td>\n",
       "      <td>Womens Swimwear, beachwear</td>\n",
       "      <td>1018</td>\n",
       "      <td>Swimwear</td>\n",
       "      <td>Fully lined shaping swimsuit that has a sculpt...</td>\n",
       "    </tr>\n",
       "    <tr>\n",
       "      <th>162</th>\n",
       "      <td>188183009</td>\n",
       "      <td>188183</td>\n",
       "      <td>SPANX ALOT swimsuit (1)</td>\n",
       "      <td>57</td>\n",
       "      <td>Swimsuit</td>\n",
       "      <td>Swimwear</td>\n",
       "      <td>1010017</td>\n",
       "      <td>Stripe</td>\n",
       "      <td>10</td>\n",
       "      <td>White</td>\n",
       "      <td>...</td>\n",
       "      <td>Swimwear</td>\n",
       "      <td>B</td>\n",
       "      <td>Lingeries/Tights</td>\n",
       "      <td>1</td>\n",
       "      <td>Ladieswear</td>\n",
       "      <td>60</td>\n",
       "      <td>Womens Swimwear, beachwear</td>\n",
       "      <td>1018</td>\n",
       "      <td>Swimwear</td>\n",
       "      <td>Fully lined shaping swimsuit that has a sculpt...</td>\n",
       "    </tr>\n",
       "  </tbody>\n",
       "</table>\n",
       "<p>3 rows × 25 columns</p>\n",
       "</div>"
      ],
      "text/plain": [
       "     article_id  product_code                  prod_name  product_type_no  \\\n",
       "160   188183001        188183  Spanx alot shape Swimsuit               57   \n",
       "161   188183008        188183    SPANX ALOT swimsuit (1)               57   \n",
       "162   188183009        188183    SPANX ALOT swimsuit (1)               57   \n",
       "\n",
       "    product_type_name product_group_name  graphical_appearance_no  \\\n",
       "160          Swimsuit           Swimwear                  1010016   \n",
       "161          Swimsuit           Swimwear                  1010016   \n",
       "162          Swimsuit           Swimwear                  1010017   \n",
       "\n",
       "    graphical_appearance_name  colour_group_code colour_group_name  ...  \\\n",
       "160                     Solid                  9             Black  ...   \n",
       "161                     Solid                  8         Dark Grey  ...   \n",
       "162                    Stripe                 10             White  ...   \n",
       "\n",
       "     department_name index_code        index_name index_group_no  \\\n",
       "160         Swimwear          B  Lingeries/Tights              1   \n",
       "161         Swimwear          B  Lingeries/Tights              1   \n",
       "162         Swimwear          B  Lingeries/Tights              1   \n",
       "\n",
       "     index_group_name section_no                section_name garment_group_no  \\\n",
       "160        Ladieswear         60  Womens Swimwear, beachwear             1018   \n",
       "161        Ladieswear         60  Womens Swimwear, beachwear             1018   \n",
       "162        Ladieswear         60  Womens Swimwear, beachwear             1018   \n",
       "\n",
       "     garment_group_name                                        detail_desc  \n",
       "160            Swimwear  Fully lined shaping swimsuit that has a sculpt...  \n",
       "161            Swimwear  Fully lined shaping swimsuit that has a sculpt...  \n",
       "162            Swimwear  Fully lined shaping swimsuit that has a sculpt...  \n",
       "\n",
       "[3 rows x 25 columns]"
      ]
     },
     "execution_count": 15,
     "metadata": {},
     "output_type": "execute_result"
    }
   ],
   "source": [
    "articles[articles['product_code']==188183].head(3)"
   ]
  },
  {
   "cell_type": "markdown",
   "id": "ea15b8b1",
   "metadata": {},
   "source": [
    "We can see that the product_code with different prod_name are just having minor differences in strings. We can replace them with the most frequent name for each product code:"
   ]
  },
  {
   "cell_type": "code",
   "execution_count": 16,
   "id": "a32bf674",
   "metadata": {
    "tags": []
   },
   "outputs": [
    {
     "data": {
      "text/html": [
       "<div>\n",
       "<style scoped>\n",
       "    .dataframe tbody tr th:only-of-type {\n",
       "        vertical-align: middle;\n",
       "    }\n",
       "\n",
       "    .dataframe tbody tr th {\n",
       "        vertical-align: top;\n",
       "    }\n",
       "\n",
       "    .dataframe thead th {\n",
       "        text-align: right;\n",
       "    }\n",
       "</style>\n",
       "<table border=\"1\" class=\"dataframe\">\n",
       "  <thead>\n",
       "    <tr style=\"text-align: right;\">\n",
       "      <th></th>\n",
       "      <th>product_code</th>\n",
       "      <th>prod_name</th>\n",
       "    </tr>\n",
       "  </thead>\n",
       "  <tbody>\n",
       "    <tr>\n",
       "      <th>0</th>\n",
       "      <td>108775</td>\n",
       "      <td>Strap top</td>\n",
       "    </tr>\n",
       "    <tr>\n",
       "      <th>1</th>\n",
       "      <td>110065</td>\n",
       "      <td>OP T-shirt (Idro)</td>\n",
       "    </tr>\n",
       "    <tr>\n",
       "      <th>2</th>\n",
       "      <td>111565</td>\n",
       "      <td>20 den 1p Stockings</td>\n",
       "    </tr>\n",
       "    <tr>\n",
       "      <th>3</th>\n",
       "      <td>111586</td>\n",
       "      <td>Shape Up 30 den 1p Tights</td>\n",
       "    </tr>\n",
       "    <tr>\n",
       "      <th>4</th>\n",
       "      <td>111593</td>\n",
       "      <td>Support 40 den 1p Tights</td>\n",
       "    </tr>\n",
       "  </tbody>\n",
       "</table>\n",
       "</div>"
      ],
      "text/plain": [
       "   product_code                  prod_name\n",
       "0        108775                  Strap top\n",
       "1        110065          OP T-shirt (Idro)\n",
       "2        111565        20 den 1p Stockings\n",
       "3        111586  Shape Up 30 den 1p Tights\n",
       "4        111593   Support 40 den 1p Tights"
      ]
     },
     "execution_count": 16,
     "metadata": {},
     "output_type": "execute_result"
    }
   ],
   "source": [
    "# Assigning only the most frequent name to each code\n",
    "code_name_pairs_product_mode = articles.groupby('product_code')['prod_name'].agg(lambda x: pd.Series.mode(x)[0]).to_frame().reset_index()\n",
    "code_name_pairs_product_mode.head()"
   ]
  },
  {
   "cell_type": "markdown",
   "id": "66d5360a",
   "metadata": {},
   "source": [
    "Sanity check... for every product_code, we only want to have one corresponding prod_name"
   ]
  },
  {
   "cell_type": "code",
   "execution_count": 17,
   "id": "10d53e2e",
   "metadata": {
    "tags": []
   },
   "outputs": [
    {
     "data": {
      "text/plain": [
       "0"
      ]
     },
     "execution_count": 17,
     "metadata": {},
     "output_type": "execute_result"
    }
   ],
   "source": [
    "(code_name_pairs_product_mode.groupby('product_code')['prod_name'].nunique()>1).sum()"
   ]
  },
  {
   "cell_type": "markdown",
   "id": "96369897",
   "metadata": {},
   "source": [
    "Finally, we can replace the prod_name to make sure each product_code is paired with only one prod_name."
   ]
  },
  {
   "cell_type": "code",
   "execution_count": 18,
   "id": "8524262b",
   "metadata": {
    "tags": []
   },
   "outputs": [],
   "source": [
    "# Replace prod_name (resulting 1-to-1 relationship for product_code and prod_name)\n",
    "product_ref = articles[['product_code']].copy().merge(code_name_pairs_product_mode, how='left', on='product_code')\n",
    "articles['prod_name'] = product_ref['prod_name']"
   ]
  },
  {
   "cell_type": "markdown",
   "id": "79db4df3",
   "metadata": {},
   "source": [
    "Sanity check again:"
   ]
  },
  {
   "cell_type": "code",
   "execution_count": 19,
   "id": "a8ffcf84",
   "metadata": {
    "tags": []
   },
   "outputs": [
    {
     "data": {
      "text/plain": [
       "0"
      ]
     },
     "execution_count": 19,
     "metadata": {},
     "output_type": "execute_result"
    }
   ],
   "source": [
    "(articles.groupby('product_code')['prod_name'].nunique()>1).sum()"
   ]
  },
  {
   "cell_type": "markdown",
   "id": "cf768f77",
   "metadata": {},
   "source": [
    "**Note**: if we view it inversely:  \n",
    "`(articles.groupby('prod_name')['product_code'].nunique()>1).sum()`  \n",
    "We can see that there are multiple product_code sharing the same prod_name. Let's just ignore that for now."
   ]
  },
  {
   "cell_type": "markdown",
   "id": "8c46af23",
   "metadata": {},
   "source": [
    "---"
   ]
  },
  {
   "cell_type": "markdown",
   "id": "c10d3541",
   "metadata": {},
   "source": [
    "#### product_type_no and product_type_name"
   ]
  },
  {
   "cell_type": "markdown",
   "id": "4f80e819",
   "metadata": {},
   "source": [
    "As we know the unique count of product_type_no and product_type_name is different. Let's see if a product_type_no is having 2 or more product_type_name."
   ]
  },
  {
   "cell_type": "code",
   "execution_count": 20,
   "id": "e49d2a25",
   "metadata": {
    "tags": []
   },
   "outputs": [
    {
     "data": {
      "text/plain": [
       "0"
      ]
     },
     "execution_count": 20,
     "metadata": {},
     "output_type": "execute_result"
    }
   ],
   "source": [
    "# Finding product_type_no with more than one unique prod_type_name\n",
    "(articles.groupby('product_type_no')['product_type_name'].nunique()>1).sum()"
   ]
  },
  {
   "cell_type": "markdown",
   "id": "a60a2a41",
   "metadata": {},
   "source": [
    "No product_type_no is having duplicated names, let's check if it's another way around:"
   ]
  },
  {
   "cell_type": "code",
   "execution_count": 21,
   "id": "aa3b301d",
   "metadata": {
    "tags": []
   },
   "outputs": [
    {
     "data": {
      "text/plain": [
       "1"
      ]
     },
     "execution_count": 21,
     "metadata": {},
     "output_type": "execute_result"
    }
   ],
   "source": [
    "# Finding product_type_name with more than one unique prod_type_no\n",
    "(articles.groupby('product_type_name')['product_type_no'].nunique()>1).sum()"
   ]
  },
  {
   "cell_type": "markdown",
   "id": "146956a9",
   "metadata": {},
   "source": [
    "We have 1 product_type_name that shares different product_type_no:"
   ]
  },
  {
   "cell_type": "code",
   "execution_count": 22,
   "id": "82e80814",
   "metadata": {
    "tags": []
   },
   "outputs": [
    {
     "data": {
      "text/html": [
       "<div>\n",
       "<style scoped>\n",
       "    .dataframe tbody tr th:only-of-type {\n",
       "        vertical-align: middle;\n",
       "    }\n",
       "\n",
       "    .dataframe tbody tr th {\n",
       "        vertical-align: top;\n",
       "    }\n",
       "\n",
       "    .dataframe thead th {\n",
       "        text-align: right;\n",
       "    }\n",
       "</style>\n",
       "<table border=\"1\" class=\"dataframe\">\n",
       "  <thead>\n",
       "    <tr style=\"text-align: right;\">\n",
       "      <th></th>\n",
       "      <th>product_type_name</th>\n",
       "      <th>product_type_no</th>\n",
       "    </tr>\n",
       "  </thead>\n",
       "  <tbody>\n",
       "    <tr>\n",
       "      <th>113</th>\n",
       "      <td>Umbrella</td>\n",
       "      <td>2</td>\n",
       "    </tr>\n",
       "  </tbody>\n",
       "</table>\n",
       "</div>"
      ],
      "text/plain": [
       "    product_type_name  product_type_no\n",
       "113          Umbrella                2"
      ]
     },
     "execution_count": 22,
     "metadata": {},
     "output_type": "execute_result"
    }
   ],
   "source": [
    "j = articles.groupby('product_type_name')['product_type_no'].nunique().reset_index()\n",
    "j[j['product_type_no']>1]"
   ]
  },
  {
   "cell_type": "markdown",
   "id": "e1dbcaea",
   "metadata": {},
   "source": [
    "\"Umbrella\" product type has 2 corresponding product_type_no. It seems like not a big deal. I think we can safely drop the product_type_no column for the EDA as of this point."
   ]
  },
  {
   "cell_type": "markdown",
   "id": "e2219e96",
   "metadata": {},
   "source": [
    "---"
   ]
  },
  {
   "cell_type": "markdown",
   "id": "35f367df",
   "metadata": {},
   "source": [
    "#### department_no and department_name"
   ]
  },
  {
   "cell_type": "code",
   "execution_count": 23,
   "id": "fd048fa1",
   "metadata": {
    "tags": []
   },
   "outputs": [
    {
     "data": {
      "text/plain": [
       "0"
      ]
     },
     "execution_count": 23,
     "metadata": {},
     "output_type": "execute_result"
    }
   ],
   "source": [
    "# Finding department_no with more than one unique department_name\n",
    "(articles.groupby('department_no')['department_name'].nunique()>1).sum()"
   ]
  },
  {
   "cell_type": "code",
   "execution_count": 24,
   "id": "659e6e53",
   "metadata": {
    "tags": []
   },
   "outputs": [
    {
     "data": {
      "text/html": [
       "<div>\n",
       "<style scoped>\n",
       "    .dataframe tbody tr th:only-of-type {\n",
       "        vertical-align: middle;\n",
       "    }\n",
       "\n",
       "    .dataframe tbody tr th {\n",
       "        vertical-align: top;\n",
       "    }\n",
       "\n",
       "    .dataframe thead th {\n",
       "        text-align: right;\n",
       "    }\n",
       "</style>\n",
       "<table border=\"1\" class=\"dataframe\">\n",
       "  <thead>\n",
       "    <tr style=\"text-align: right;\">\n",
       "      <th></th>\n",
       "      <th>department_name</th>\n",
       "      <th>department_no</th>\n",
       "    </tr>\n",
       "  </thead>\n",
       "  <tbody>\n",
       "    <tr>\n",
       "      <th>124</th>\n",
       "      <td>Knitwear</td>\n",
       "      <td>11</td>\n",
       "    </tr>\n",
       "    <tr>\n",
       "      <th>208</th>\n",
       "      <td>Trouser</td>\n",
       "      <td>7</td>\n",
       "    </tr>\n",
       "    <tr>\n",
       "      <th>81</th>\n",
       "      <td>Jersey</td>\n",
       "      <td>5</td>\n",
       "    </tr>\n",
       "    <tr>\n",
       "      <th>173</th>\n",
       "      <td>Shorts</td>\n",
       "      <td>5</td>\n",
       "    </tr>\n",
       "    <tr>\n",
       "      <th>165</th>\n",
       "      <td>Shirt</td>\n",
       "      <td>4</td>\n",
       "    </tr>\n",
       "  </tbody>\n",
       "</table>\n",
       "</div>"
      ],
      "text/plain": [
       "    department_name  department_no\n",
       "124        Knitwear             11\n",
       "208         Trouser              7\n",
       "81           Jersey              5\n",
       "173          Shorts              5\n",
       "165           Shirt              4"
      ]
     },
     "execution_count": 24,
     "metadata": {},
     "output_type": "execute_result"
    }
   ],
   "source": [
    "j = articles.groupby('department_name')['department_no'].nunique().reset_index()\n",
    "j[j['department_no']>1].sort_values(by='department_no', ascending=False).head()"
   ]
  },
  {
   "cell_type": "code",
   "execution_count": 25,
   "id": "b64cf0d6",
   "metadata": {
    "tags": []
   },
   "outputs": [
    {
     "data": {
      "image/png": "[encoded data removed]",
      "text/plain": [
       "<Figure size 500x350 with 1 Axes>"
      ]
     },
     "metadata": {},
     "output_type": "display_data"
    }
   ],
   "source": [
    "j = articles['department_name'].value_counts(normalize=True).reset_index()\n",
    "j['perc'] = j['proportion']*100\n",
    "j[j['proportion']>=0.01]\n",
    "\n",
    "# Plotting dist by department_name\n",
    "sns.barplot(j[j['proportion']>=0.01], x='perc', y='department_name',\n",
    "           color='cornflowerblue')\n",
    "sns.despine()\n",
    "plt.title('Percentage of total number of products by department \\n (Excluding departments < 1%)')\n",
    "plt.xlabel('Percentage of total')\n",
    "plt.ylabel('Department Name')\n",
    "\n",
    "plt.show();"
   ]
  },
  {
   "cell_type": "markdown",
   "id": "ae620952",
   "metadata": {},
   "source": [
    "We do see some department_no have the same name. However, dropping no. and keep the department name as it is seems to still be applicable. In fact, we might want to drop both columns corresponding to department as the information stored is overlapping with other columns (i.e. product_group). We can discuss this in the EDA."
   ]
  },
  {
   "cell_type": "markdown",
   "id": "7c050975",
   "metadata": {},
   "source": [
    "#### section_no and section_name"
   ]
  },
  {
   "cell_type": "code",
   "execution_count": 26,
   "id": "47a7f568",
   "metadata": {
    "tags": []
   },
   "outputs": [
    {
     "data": {
      "text/plain": [
       "0"
      ]
     },
     "execution_count": 26,
     "metadata": {},
     "output_type": "execute_result"
    }
   ],
   "source": [
    "# Finding product_type_no with more than one unique prod_type_name\n",
    "(articles.groupby('section_no')['section_name'].nunique()>1).sum()"
   ]
  },
  {
   "cell_type": "code",
   "execution_count": 27,
   "id": "b1fb76fa",
   "metadata": {
    "tags": []
   },
   "outputs": [
    {
     "data": {
      "image/png": "[encoded data removed]",
      "text/plain": [
       "<Figure size 1000x1000 with 1 Axes>"
      ]
     },
     "metadata": {},
     "output_type": "display_data"
    }
   ],
   "source": [
    "j = articles['section_name'].value_counts(normalize=True).reset_index()\n",
    "j['perc'] = j['proportion']*100\n",
    "plt.figure(figsize=(10,10))\n",
    "sns.barplot(j, x='perc', y='section_name')\n",
    "sns.despine()"
   ]
  },
  {
   "cell_type": "markdown",
   "id": "33bcd001",
   "metadata": {},
   "source": [
    "We can drop section_no safely here as well, seems like section would be a column worth keeping by looking at the rather evenly distributed distribution."
   ]
  },
  {
   "cell_type": "markdown",
   "id": "7c996f05",
   "metadata": {},
   "source": [
    "---"
   ]
  },
  {
   "cell_type": "markdown",
   "id": "c21bca0a",
   "metadata": {},
   "source": [
    "### Dropping code columns"
   ]
  },
  {
   "cell_type": "markdown",
   "id": "7808fba9",
   "metadata": {},
   "source": [
    "After looking into the columns and some cleaning, we can now safely drop the \"code/no.\" columns to remove duplicated informations among columns."
   ]
  },
  {
   "cell_type": "code",
   "execution_count": 28,
   "id": "1f03aa35",
   "metadata": {
    "tags": []
   },
   "outputs": [
    {
     "name": "stdout",
     "output_type": "stream",
     "text": [
      "['product_code', 'product_type_no', 'graphical_appearance_no', 'colour_group_code', 'perceived_colour_value_id', 'perceived_colour_master_id', 'department_no', 'index_code', 'index_group_no', 'section_no', 'garment_group_no']\n",
      "columns before dropping: 25\n",
      "columns after dropping: 14\n"
     ]
    }
   ],
   "source": [
    "# Getting the code columns from the cnpairs_diff dataframe defined earlier\n",
    "cols_to_drop = cnpairs_diff.iloc[:,0].to_list()\n",
    "print(cols_to_drop)\n",
    "print(f'columns before dropping: {articles.shape[1]}')\n",
    "\n",
    "# Dropping columns\n",
    "articles.drop(cols_to_drop, axis=1, inplace=True)\n",
    "print(f'columns after dropping: {articles.shape[1]}')"
   ]
  },
  {
   "cell_type": "markdown",
   "id": "52d049bb",
   "metadata": {},
   "source": [
    "After dropping, we have 14 columns left in the articles table!"
   ]
  },
  {
   "cell_type": "markdown",
   "id": "2d268e62",
   "metadata": {},
   "source": [
    "---"
   ]
  },
  {
   "cell_type": "markdown",
   "id": "ce0f3ee6",
   "metadata": {},
   "source": [
    "## Customers"
   ]
  },
  {
   "cell_type": "markdown",
   "id": "2a966407",
   "metadata": {},
   "source": [
    "### Shape, missing values, and duplicates"
   ]
  },
  {
   "cell_type": "markdown",
   "id": "cd00a467",
   "metadata": {},
   "source": [
    "Again, for the customer table, we look at the shape, NANs, and duplicated first."
   ]
  },
  {
   "cell_type": "code",
   "execution_count": 29,
   "id": "0a0bc3e5",
   "metadata": {
    "tags": []
   },
   "outputs": [
    {
     "data": {
      "text/plain": [
       "(1371980, 7)"
      ]
     },
     "execution_count": 29,
     "metadata": {},
     "output_type": "execute_result"
    }
   ],
   "source": [
    "customers.shape"
   ]
  },
  {
   "cell_type": "markdown",
   "id": "4271eb2d",
   "metadata": {},
   "source": [
    "Over 1.3M of customers, and 7 columns. Much less information here than in the articles table. Let's see if there are useful ones, we can drop those that are not useful."
   ]
  },
  {
   "cell_type": "code",
   "execution_count": 30,
   "id": "717e1fd0",
   "metadata": {
    "scrolled": true,
    "tags": []
   },
   "outputs": [
    {
     "data": {
      "text/html": [
       "<div>\n",
       "<style scoped>\n",
       "    .dataframe tbody tr th:only-of-type {\n",
       "        vertical-align: middle;\n",
       "    }\n",
       "\n",
       "    .dataframe tbody tr th {\n",
       "        vertical-align: top;\n",
       "    }\n",
       "\n",
       "    .dataframe thead th {\n",
       "        text-align: right;\n",
       "    }\n",
       "</style>\n",
       "<table border=\"1\" class=\"dataframe\">\n",
       "  <thead>\n",
       "    <tr style=\"text-align: right;\">\n",
       "      <th></th>\n",
       "      <th>customer_id</th>\n",
       "      <th>FN</th>\n",
       "      <th>Active</th>\n",
       "      <th>club_member_status</th>\n",
       "      <th>fashion_news_frequency</th>\n",
       "      <th>age</th>\n",
       "      <th>postal_code</th>\n",
       "    </tr>\n",
       "  </thead>\n",
       "  <tbody>\n",
       "    <tr>\n",
       "      <th>0</th>\n",
       "      <td>00000dbacae5abe5e23885899a1fa44253a17956c6d1c3...</td>\n",
       "      <td>NaN</td>\n",
       "      <td>NaN</td>\n",
       "      <td>ACTIVE</td>\n",
       "      <td>NONE</td>\n",
       "      <td>49.0</td>\n",
       "      <td>52043ee2162cf5aa7ee79974281641c6f11a68d276429a...</td>\n",
       "    </tr>\n",
       "    <tr>\n",
       "      <th>1</th>\n",
       "      <td>0000423b00ade91418cceaf3b26c6af3dd342b51fd051e...</td>\n",
       "      <td>NaN</td>\n",
       "      <td>NaN</td>\n",
       "      <td>ACTIVE</td>\n",
       "      <td>NONE</td>\n",
       "      <td>25.0</td>\n",
       "      <td>2973abc54daa8a5f8ccfe9362140c63247c5eee03f1d93...</td>\n",
       "    </tr>\n",
       "    <tr>\n",
       "      <th>2</th>\n",
       "      <td>000058a12d5b43e67d225668fa1f8d618c13dc232df0ca...</td>\n",
       "      <td>NaN</td>\n",
       "      <td>NaN</td>\n",
       "      <td>ACTIVE</td>\n",
       "      <td>NONE</td>\n",
       "      <td>24.0</td>\n",
       "      <td>64f17e6a330a85798e4998f62d0930d14db8db1c054af6...</td>\n",
       "    </tr>\n",
       "    <tr>\n",
       "      <th>3</th>\n",
       "      <td>00005ca1c9ed5f5146b52ac8639a40ca9d57aeff4d1bd2...</td>\n",
       "      <td>NaN</td>\n",
       "      <td>NaN</td>\n",
       "      <td>ACTIVE</td>\n",
       "      <td>NONE</td>\n",
       "      <td>54.0</td>\n",
       "      <td>5d36574f52495e81f019b680c843c443bd343d5ca5b1c2...</td>\n",
       "    </tr>\n",
       "    <tr>\n",
       "      <th>4</th>\n",
       "      <td>00006413d8573cd20ed7128e53b7b13819fe5cfc2d801f...</td>\n",
       "      <td>1.0</td>\n",
       "      <td>1.0</td>\n",
       "      <td>ACTIVE</td>\n",
       "      <td>Regularly</td>\n",
       "      <td>52.0</td>\n",
       "      <td>25fa5ddee9aac01b35208d01736e57942317d756b32ddd...</td>\n",
       "    </tr>\n",
       "  </tbody>\n",
       "</table>\n",
       "</div>"
      ],
      "text/plain": [
       "                                         customer_id   FN  Active  \\\n",
       "0  00000dbacae5abe5e23885899a1fa44253a17956c6d1c3...  NaN     NaN   \n",
       "1  0000423b00ade91418cceaf3b26c6af3dd342b51fd051e...  NaN     NaN   \n",
       "2  000058a12d5b43e67d225668fa1f8d618c13dc232df0ca...  NaN     NaN   \n",
       "3  00005ca1c9ed5f5146b52ac8639a40ca9d57aeff4d1bd2...  NaN     NaN   \n",
       "4  00006413d8573cd20ed7128e53b7b13819fe5cfc2d801f...  1.0     1.0   \n",
       "\n",
       "  club_member_status fashion_news_frequency   age  \\\n",
       "0             ACTIVE                   NONE  49.0   \n",
       "1             ACTIVE                   NONE  25.0   \n",
       "2             ACTIVE                   NONE  24.0   \n",
       "3             ACTIVE                   NONE  54.0   \n",
       "4             ACTIVE              Regularly  52.0   \n",
       "\n",
       "                                         postal_code  \n",
       "0  52043ee2162cf5aa7ee79974281641c6f11a68d276429a...  \n",
       "1  2973abc54daa8a5f8ccfe9362140c63247c5eee03f1d93...  \n",
       "2  64f17e6a330a85798e4998f62d0930d14db8db1c054af6...  \n",
       "3  5d36574f52495e81f019b680c843c443bd343d5ca5b1c2...  \n",
       "4  25fa5ddee9aac01b35208d01736e57942317d756b32ddd...  "
      ]
     },
     "execution_count": 30,
     "metadata": {},
     "output_type": "execute_result"
    }
   ],
   "source": [
    "customers.head()"
   ]
  },
  {
   "cell_type": "code",
   "execution_count": 31,
   "id": "c3f69fc1",
   "metadata": {},
   "outputs": [
    {
     "data": {
      "text/plain": [
       "customer_id                    0\n",
       "FN                        895050\n",
       "Active                    907576\n",
       "club_member_status          6062\n",
       "fashion_news_frequency     16011\n",
       "age                        15861\n",
       "postal_code                    0\n",
       "dtype: int64"
      ]
     },
     "execution_count": 31,
     "metadata": {},
     "output_type": "execute_result"
    }
   ],
   "source": [
    "customers.isna().sum()"
   ]
  },
  {
   "cell_type": "markdown",
   "id": "981861fb",
   "metadata": {},
   "source": [
    "We can already see some NaNs here in FN and Active. [Here](https://www.kaggle.com/competitions/h-and-m-personalized-fashion-recommendations/discussion/305952#1684481), we found a comment left by the competition host explaining these two variables:\n",
    "- **FN**: if a customer get Fashion News newsletter\n",
    "- **Active**: if the customer is active for communication"
   ]
  },
  {
   "cell_type": "code",
   "execution_count": 32,
   "id": "6b9ff73b",
   "metadata": {
    "tags": []
   },
   "outputs": [
    {
     "data": {
      "text/plain": [
       "0"
      ]
     },
     "execution_count": 32,
     "metadata": {},
     "output_type": "execute_result"
    }
   ],
   "source": [
    "customers.duplicated().sum()"
   ]
  },
  {
   "cell_type": "markdown",
   "id": "9620eb18",
   "metadata": {},
   "source": [
    "No duplicated rows."
   ]
  },
  {
   "cell_type": "markdown",
   "id": "929256e8",
   "metadata": {},
   "source": [
    "---"
   ]
  },
  {
   "cell_type": "markdown",
   "id": "b986cd5b-f345-4f3f-8576-68ca61795472",
   "metadata": {},
   "source": [
    "### Imputing missing values"
   ]
  },
  {
   "cell_type": "code",
   "execution_count": 33,
   "id": "d8908be5",
   "metadata": {
    "tags": []
   },
   "outputs": [
    {
     "data": {
      "text/plain": [
       "FN\n",
       "1.0    476930\n",
       "Name: count, dtype: int64"
      ]
     },
     "execution_count": 33,
     "metadata": {},
     "output_type": "execute_result"
    }
   ],
   "source": [
    "customers['FN'].value_counts()"
   ]
  },
  {
   "cell_type": "code",
   "execution_count": 34,
   "id": "813ecdc6",
   "metadata": {
    "tags": []
   },
   "outputs": [
    {
     "data": {
      "text/plain": [
       "Active\n",
       "1.0    464404\n",
       "Name: count, dtype: int64"
      ]
     },
     "execution_count": 34,
     "metadata": {},
     "output_type": "execute_result"
    }
   ],
   "source": [
    "customers['Active'].value_counts()"
   ]
  },
  {
   "cell_type": "code",
   "execution_count": 35,
   "id": "9fc600bf",
   "metadata": {
    "tags": []
   },
   "outputs": [
    {
     "data": {
      "text/plain": [
       "club_member_status\n",
       "ACTIVE        1272491\n",
       "PRE-CREATE      92960\n",
       "LEFT CLUB         467\n",
       "Name: count, dtype: int64"
      ]
     },
     "execution_count": 35,
     "metadata": {},
     "output_type": "execute_result"
    }
   ],
   "source": [
    "customers['club_member_status'].value_counts()"
   ]
  },
  {
   "cell_type": "markdown",
   "id": "0c08f66f",
   "metadata": {},
   "source": [
    "- `FN` and `Active` are either 1 or NaN, we would replace the NaN with 0 here.\n",
    "- `club_member_status` are either ACTIVE, PRE_CREATE, or LEFT CLUB, we can assign NONE to the NaN obs."
   ]
  },
  {
   "cell_type": "code",
   "execution_count": 36,
   "id": "a1a0a8af",
   "metadata": {
    "tags": []
   },
   "outputs": [],
   "source": [
    "# Impute NaNs for FN, Active, and club_member_status \n",
    "customers['FN'] = -customers['FN'].isna()\n",
    "customers['Active'] = -customers['Active'].isna()\n",
    "customers['club_member_status'] = customers['club_member_status'].fillna('NONE')"
   ]
  },
  {
   "cell_type": "code",
   "execution_count": 37,
   "id": "1e0841c9",
   "metadata": {
    "tags": []
   },
   "outputs": [
    {
     "data": {
      "text/plain": [
       "fashion_news_frequency\n",
       "NONE         877711\n",
       "Regularly    477416\n",
       "Monthly         842\n",
       "Name: count, dtype: int64"
      ]
     },
     "execution_count": 37,
     "metadata": {},
     "output_type": "execute_result"
    }
   ],
   "source": [
    "customers['fashion_news_frequency'].value_counts()"
   ]
  },
  {
   "cell_type": "markdown",
   "id": "bcec0356",
   "metadata": {},
   "source": [
    "For the `fashion_news_frequency`, we would assign NaNs to the already exist **NONE** category."
   ]
  },
  {
   "cell_type": "code",
   "execution_count": 38,
   "id": "e932df04",
   "metadata": {
    "tags": []
   },
   "outputs": [],
   "source": [
    "# Impute fashion_news_frequency\n",
    "customers['fashion_news_frequency'] = customers['fashion_news_frequency'].fillna('NONE')"
   ]
  },
  {
   "cell_type": "markdown",
   "id": "4a1cb409",
   "metadata": {},
   "source": [
    "---"
   ]
  },
  {
   "cell_type": "markdown",
   "id": "54634c13",
   "metadata": {},
   "source": [
    "Next, age is a tricky one. Let's look at the distribution first."
   ]
  },
  {
   "cell_type": "code",
   "execution_count": 39,
   "id": "c7f14fcb",
   "metadata": {
    "tags": []
   },
   "outputs": [
    {
     "data": {
      "image/png": "[encoded data removed]",
      "text/plain": [
       "<Figure size 500x350 with 1 Axes>"
      ]
     },
     "metadata": {},
     "output_type": "display_data"
    }
   ],
   "source": [
    "customers['age'].plot(kind='hist', bins=30)\n",
    "plt.axvline(customers['age'].mean(), 0, 2000, c='coral', label='mean')\n",
    "plt.axvline(customers['age'].median(), 0, 2000, c='coral', label='median', linestyle='--')\n",
    "sns.despine()\n",
    "plt.title('Distribution of customer age')\n",
    "plt.xlabel('Customer Age')\n",
    "plt.ylabel('Counts')\n",
    "plt.legend()\n",
    "plt.show();"
   ]
  },
  {
   "cell_type": "code",
   "execution_count": 40,
   "id": "452a3da9",
   "metadata": {
    "tags": []
   },
   "outputs": [
    {
     "name": "stdout",
     "output_type": "stream",
     "text": [
      "15861\n",
      "1.1560664149623172\n"
     ]
    }
   ],
   "source": [
    "print(customers['age'].isna().sum())\n",
    "print(customers['age'].isna().mean()*100)"
   ]
  },
  {
   "cell_type": "markdown",
   "id": "1ef98a2f",
   "metadata": {},
   "source": [
    "We have 15861 missing values for age, which is around 1.15% of the total observations. Imputing them with median age of all customers might not skew the distribution too much."
   ]
  },
  {
   "cell_type": "code",
   "execution_count": 41,
   "id": "ef2fad53",
   "metadata": {
    "tags": []
   },
   "outputs": [],
   "source": [
    "# fill NaN for customer age with median\n",
    "customers['age'] = customers['age'].fillna(customers['age'].median())"
   ]
  },
  {
   "cell_type": "markdown",
   "id": "da5a899e",
   "metadata": {},
   "source": [
    "Sanity check the distribution:"
   ]
  },
  {
   "cell_type": "code",
   "execution_count": 42,
   "id": "a048edae",
   "metadata": {
    "tags": []
   },
   "outputs": [
    {
     "data": {
      "image/png": "[encoded data removed]",
      "text/plain": [
       "<Figure size 500x350 with 1 Axes>"
      ]
     },
     "metadata": {},
     "output_type": "display_data"
    }
   ],
   "source": [
    "customers['age'].plot(kind='hist', bins=30)\n",
    "plt.axvline(customers['age'].mean(), 0, 2000, c='coral', label='mean')\n",
    "plt.axvline(customers['age'].median(), 0, 2000, c='coral', label='median', linestyle='--')\n",
    "sns.despine()\n",
    "plt.title('Distribution of customer age')\n",
    "plt.xlabel('Customer Age')\n",
    "plt.ylabel('Counts')\n",
    "plt.legend()\n",
    "plt.show();"
   ]
  },
  {
   "cell_type": "markdown",
   "id": "2ec5f68d",
   "metadata": {},
   "source": [
    "Finally, sanity check if we have dealt with all missing values:"
   ]
  },
  {
   "cell_type": "code",
   "execution_count": 43,
   "id": "83578ca3",
   "metadata": {
    "tags": []
   },
   "outputs": [
    {
     "data": {
      "text/plain": [
       "customer_id               0\n",
       "FN                        0\n",
       "Active                    0\n",
       "club_member_status        0\n",
       "fashion_news_frequency    0\n",
       "age                       0\n",
       "postal_code               0\n",
       "dtype: int64"
      ]
     },
     "execution_count": 43,
     "metadata": {},
     "output_type": "execute_result"
    }
   ],
   "source": [
    "customers.isna().sum()"
   ]
  },
  {
   "cell_type": "markdown",
   "id": "1cb99e7e",
   "metadata": {},
   "source": [
    "**Note**: postal_code seems to be tokenized. We assume it is from all around the globe, hence might be messy. However, it is our only information about customer location. I think we can keep it for now and try to see if any valuable information could be derived from it."
   ]
  },
  {
   "cell_type": "code",
   "execution_count": 44,
   "id": "a079c6cd",
   "metadata": {
    "tags": []
   },
   "outputs": [
    {
     "data": {
      "text/plain": [
       "352899"
      ]
     },
     "execution_count": 44,
     "metadata": {},
     "output_type": "execute_result"
    }
   ],
   "source": [
    "customers['postal_code'].nunique()"
   ]
  },
  {
   "cell_type": "code",
   "execution_count": 45,
   "id": "a802e8b8",
   "metadata": {
    "tags": []
   },
   "outputs": [
    {
     "data": {
      "text/plain": [
       "341957"
      ]
     },
     "execution_count": 45,
     "metadata": {},
     "output_type": "execute_result"
    }
   ],
   "source": [
    "(customers['postal_code'].value_counts()<=10).sum()"
   ]
  },
  {
   "cell_type": "markdown",
   "id": "d9d6d160",
   "metadata": {},
   "source": [
    "We have 352k unique postal code. However, 341k of them have less than 10 observations. Hmm... I might want to drop it before modeling, unless we can retrieve more information from the tokenized string."
   ]
  },
  {
   "cell_type": "markdown",
   "id": "1f7410b9",
   "metadata": {},
   "source": [
    "---"
   ]
  },
  {
   "cell_type": "markdown",
   "id": "af4d1239",
   "metadata": {},
   "source": [
    "## Transactions"
   ]
  },
  {
   "cell_type": "code",
   "execution_count": 46,
   "id": "af116164",
   "metadata": {
    "tags": []
   },
   "outputs": [
    {
     "data": {
      "text/html": [
       "<div>\n",
       "<style scoped>\n",
       "    .dataframe tbody tr th:only-of-type {\n",
       "        vertical-align: middle;\n",
       "    }\n",
       "\n",
       "    .dataframe tbody tr th {\n",
       "        vertical-align: top;\n",
       "    }\n",
       "\n",
       "    .dataframe thead th {\n",
       "        text-align: right;\n",
       "    }\n",
       "</style>\n",
       "<table border=\"1\" class=\"dataframe\">\n",
       "  <thead>\n",
       "    <tr style=\"text-align: right;\">\n",
       "      <th></th>\n",
       "      <th>t_dat</th>\n",
       "      <th>customer_id</th>\n",
       "      <th>article_id</th>\n",
       "      <th>price</th>\n",
       "      <th>sales_channel_id</th>\n",
       "    </tr>\n",
       "  </thead>\n",
       "  <tbody>\n",
       "    <tr>\n",
       "      <th>0</th>\n",
       "      <td>2018-09-20</td>\n",
       "      <td>000058a12d5b43e67d225668fa1f8d618c13dc232df0ca...</td>\n",
       "      <td>663713001</td>\n",
       "      <td>0.050831</td>\n",
       "      <td>2</td>\n",
       "    </tr>\n",
       "    <tr>\n",
       "      <th>1</th>\n",
       "      <td>2018-09-20</td>\n",
       "      <td>000058a12d5b43e67d225668fa1f8d618c13dc232df0ca...</td>\n",
       "      <td>541518023</td>\n",
       "      <td>0.030492</td>\n",
       "      <td>2</td>\n",
       "    </tr>\n",
       "    <tr>\n",
       "      <th>2</th>\n",
       "      <td>2018-09-20</td>\n",
       "      <td>00007d2de826758b65a93dd24ce629ed66842531df6699...</td>\n",
       "      <td>505221004</td>\n",
       "      <td>0.015237</td>\n",
       "      <td>2</td>\n",
       "    </tr>\n",
       "    <tr>\n",
       "      <th>3</th>\n",
       "      <td>2018-09-20</td>\n",
       "      <td>00007d2de826758b65a93dd24ce629ed66842531df6699...</td>\n",
       "      <td>685687003</td>\n",
       "      <td>0.016932</td>\n",
       "      <td>2</td>\n",
       "    </tr>\n",
       "    <tr>\n",
       "      <th>4</th>\n",
       "      <td>2018-09-20</td>\n",
       "      <td>00007d2de826758b65a93dd24ce629ed66842531df6699...</td>\n",
       "      <td>685687004</td>\n",
       "      <td>0.016932</td>\n",
       "      <td>2</td>\n",
       "    </tr>\n",
       "  </tbody>\n",
       "</table>\n",
       "</div>"
      ],
      "text/plain": [
       "        t_dat                                        customer_id  article_id  \\\n",
       "0  2018-09-20  000058a12d5b43e67d225668fa1f8d618c13dc232df0ca...   663713001   \n",
       "1  2018-09-20  000058a12d5b43e67d225668fa1f8d618c13dc232df0ca...   541518023   \n",
       "2  2018-09-20  00007d2de826758b65a93dd24ce629ed66842531df6699...   505221004   \n",
       "3  2018-09-20  00007d2de826758b65a93dd24ce629ed66842531df6699...   685687003   \n",
       "4  2018-09-20  00007d2de826758b65a93dd24ce629ed66842531df6699...   685687004   \n",
       "\n",
       "      price  sales_channel_id  \n",
       "0  0.050831                 2  \n",
       "1  0.030492                 2  \n",
       "2  0.015237                 2  \n",
       "3  0.016932                 2  \n",
       "4  0.016932                 2  "
      ]
     },
     "execution_count": 46,
     "metadata": {},
     "output_type": "execute_result"
    }
   ],
   "source": [
    "transactions.head()"
   ]
  },
  {
   "cell_type": "markdown",
   "id": "bd1597f3-3693-499f-a326-867985f79033",
   "metadata": {},
   "source": [
    "It looks like we only have 5 columns in transactions:\n",
    "- With **customer_id** we can merge the `customers` table.\n",
    "- With **article_id** we can merge the `articles` table.\n",
    "- **price** column here would be our only source if we want to approximate revenue for certain product category or time period (since we don't have price information in the `articles` table).  We don't have informations about the product *costs* as well.\n",
    "- For **sales_channel_id**, we need to look further into what actual channel the id corresponds to."
   ]
  },
  {
   "cell_type": "markdown",
   "id": "0257159a-ff3d-4aa1-92cd-dae6f40118f1",
   "metadata": {},
   "source": [
    "### Shape, missing values, and duplicates"
   ]
  },
  {
   "cell_type": "code",
   "execution_count": 47,
   "id": "8496e64f-bd18-4ffd-8cf9-f3caa4c51d86",
   "metadata": {
    "tags": []
   },
   "outputs": [
    {
     "data": {
      "text/plain": [
       "(31788324, 5)"
      ]
     },
     "execution_count": 47,
     "metadata": {},
     "output_type": "execute_result"
    }
   ],
   "source": [
    "transactions.shape"
   ]
  },
  {
   "cell_type": "markdown",
   "id": "87035b51-804b-46d2-b45a-6d6c83bc7c62",
   "metadata": {
    "tags": []
   },
   "source": [
    "We have 31.7M transactions in our data...Let's check if any of the rows have missing values."
   ]
  },
  {
   "cell_type": "code",
   "execution_count": 48,
   "id": "1dddb1e0-8c1a-476b-be50-1d4dff0da214",
   "metadata": {
    "tags": []
   },
   "outputs": [
    {
     "data": {
      "text/plain": [
       "t_dat               0\n",
       "customer_id         0\n",
       "article_id          0\n",
       "price               0\n",
       "sales_channel_id    0\n",
       "dtype: int64"
      ]
     },
     "execution_count": 48,
     "metadata": {},
     "output_type": "execute_result"
    }
   ],
   "source": [
    "transactions.isna().sum()"
   ]
  },
  {
   "cell_type": "markdown",
   "id": "1a48b897-dd5b-4766-afe1-b991b681d110",
   "metadata": {},
   "source": [
    "Nice, looks clean.  \n",
    "Checking for duplicated rows:"
   ]
  },
  {
   "cell_type": "code",
   "execution_count": 49,
   "id": "bf97047e-7569-4d7f-b714-6fb06cae9118",
   "metadata": {
    "tags": []
   },
   "outputs": [
    {
     "data": {
      "text/plain": [
       "2974905"
      ]
     },
     "execution_count": 49,
     "metadata": {},
     "output_type": "execute_result"
    }
   ],
   "source": [
    "transactions.duplicated().sum()"
   ]
  },
  {
   "cell_type": "code",
   "execution_count": 50,
   "id": "a5384692-cee6-4c91-a049-0b2fb6258eb7",
   "metadata": {
    "tags": []
   },
   "outputs": [
    {
     "data": {
      "text/plain": [
       "0.09358483322367042"
      ]
     },
     "execution_count": 50,
     "metadata": {},
     "output_type": "execute_result"
    }
   ],
   "source": [
    "2974905/transactions.shape[0]"
   ]
  },
  {
   "cell_type": "markdown",
   "id": "2aa8f438-4638-4a67-9b3d-41d91f9eaf78",
   "metadata": {},
   "source": [
    "It looks like there are quite some duplicated rows (almost 10%)... My assumptions is that since we don't have number of units in the transaction data, the duplicated rows might just be indicating the customer have purchased multiple units of the same items. Let's look into it."
   ]
  },
  {
   "cell_type": "code",
   "execution_count": 51,
   "id": "3b00b676-fe19-432a-bd32-7a2d0e3e7978",
   "metadata": {
    "tags": []
   },
   "outputs": [
    {
     "data": {
      "text/html": [
       "<div>\n",
       "<style scoped>\n",
       "    .dataframe tbody tr th:only-of-type {\n",
       "        vertical-align: middle;\n",
       "    }\n",
       "\n",
       "    .dataframe tbody tr th {\n",
       "        vertical-align: top;\n",
       "    }\n",
       "\n",
       "    .dataframe thead th {\n",
       "        text-align: right;\n",
       "    }\n",
       "</style>\n",
       "<table border=\"1\" class=\"dataframe\">\n",
       "  <thead>\n",
       "    <tr style=\"text-align: right;\">\n",
       "      <th></th>\n",
       "      <th>t_dat</th>\n",
       "      <th>customer_id</th>\n",
       "      <th>article_id</th>\n",
       "      <th>price</th>\n",
       "      <th>sales_channel_id</th>\n",
       "    </tr>\n",
       "  </thead>\n",
       "  <tbody>\n",
       "    <tr>\n",
       "      <th>15</th>\n",
       "      <td>2018-09-20</td>\n",
       "      <td>000aa7f0dc06cd7174389e76c9e132a67860c5f65f9706...</td>\n",
       "      <td>501820043</td>\n",
       "      <td>0.016932</td>\n",
       "      <td>2</td>\n",
       "    </tr>\n",
       "    <tr>\n",
       "      <th>18</th>\n",
       "      <td>2018-09-20</td>\n",
       "      <td>000aa7f0dc06cd7174389e76c9e132a67860c5f65f9706...</td>\n",
       "      <td>671505001</td>\n",
       "      <td>0.033881</td>\n",
       "      <td>2</td>\n",
       "    </tr>\n",
       "    <tr>\n",
       "      <th>20</th>\n",
       "      <td>2018-09-20</td>\n",
       "      <td>000aa7f0dc06cd7174389e76c9e132a67860c5f65f9706...</td>\n",
       "      <td>631848002</td>\n",
       "      <td>0.033881</td>\n",
       "      <td>2</td>\n",
       "    </tr>\n",
       "    <tr>\n",
       "      <th>21</th>\n",
       "      <td>2018-09-20</td>\n",
       "      <td>000aa7f0dc06cd7174389e76c9e132a67860c5f65f9706...</td>\n",
       "      <td>631848002</td>\n",
       "      <td>0.033881</td>\n",
       "      <td>2</td>\n",
       "    </tr>\n",
       "    <tr>\n",
       "      <th>22</th>\n",
       "      <td>2018-09-20</td>\n",
       "      <td>000aa7f0dc06cd7174389e76c9e132a67860c5f65f9706...</td>\n",
       "      <td>631848002</td>\n",
       "      <td>0.033881</td>\n",
       "      <td>2</td>\n",
       "    </tr>\n",
       "    <tr>\n",
       "      <th>25</th>\n",
       "      <td>2018-09-20</td>\n",
       "      <td>000aa7f0dc06cd7174389e76c9e132a67860c5f65f9706...</td>\n",
       "      <td>676827002</td>\n",
       "      <td>0.042356</td>\n",
       "      <td>2</td>\n",
       "    </tr>\n",
       "    <tr>\n",
       "      <th>27</th>\n",
       "      <td>2018-09-20</td>\n",
       "      <td>000aa7f0dc06cd7174389e76c9e132a67860c5f65f9706...</td>\n",
       "      <td>685687002</td>\n",
       "      <td>0.016932</td>\n",
       "      <td>2</td>\n",
       "    </tr>\n",
       "    <tr>\n",
       "      <th>29</th>\n",
       "      <td>2018-09-20</td>\n",
       "      <td>000aa7f0dc06cd7174389e76c9e132a67860c5f65f9706...</td>\n",
       "      <td>680912006</td>\n",
       "      <td>0.016932</td>\n",
       "      <td>2</td>\n",
       "    </tr>\n",
       "    <tr>\n",
       "      <th>31</th>\n",
       "      <td>2018-09-20</td>\n",
       "      <td>000aa7f0dc06cd7174389e76c9e132a67860c5f65f9706...</td>\n",
       "      <td>692454002</td>\n",
       "      <td>0.025407</td>\n",
       "      <td>2</td>\n",
       "    </tr>\n",
       "    <tr>\n",
       "      <th>33</th>\n",
       "      <td>2018-09-20</td>\n",
       "      <td>000aa7f0dc06cd7174389e76c9e132a67860c5f65f9706...</td>\n",
       "      <td>640639001</td>\n",
       "      <td>0.010153</td>\n",
       "      <td>2</td>\n",
       "    </tr>\n",
       "  </tbody>\n",
       "</table>\n",
       "</div>"
      ],
      "text/plain": [
       "         t_dat                                        customer_id  article_id  \\\n",
       "15  2018-09-20  000aa7f0dc06cd7174389e76c9e132a67860c5f65f9706...   501820043   \n",
       "18  2018-09-20  000aa7f0dc06cd7174389e76c9e132a67860c5f65f9706...   671505001   \n",
       "20  2018-09-20  000aa7f0dc06cd7174389e76c9e132a67860c5f65f9706...   631848002   \n",
       "21  2018-09-20  000aa7f0dc06cd7174389e76c9e132a67860c5f65f9706...   631848002   \n",
       "22  2018-09-20  000aa7f0dc06cd7174389e76c9e132a67860c5f65f9706...   631848002   \n",
       "25  2018-09-20  000aa7f0dc06cd7174389e76c9e132a67860c5f65f9706...   676827002   \n",
       "27  2018-09-20  000aa7f0dc06cd7174389e76c9e132a67860c5f65f9706...   685687002   \n",
       "29  2018-09-20  000aa7f0dc06cd7174389e76c9e132a67860c5f65f9706...   680912006   \n",
       "31  2018-09-20  000aa7f0dc06cd7174389e76c9e132a67860c5f65f9706...   692454002   \n",
       "33  2018-09-20  000aa7f0dc06cd7174389e76c9e132a67860c5f65f9706...   640639001   \n",
       "\n",
       "       price  sales_channel_id  \n",
       "15  0.016932                 2  \n",
       "18  0.033881                 2  \n",
       "20  0.033881                 2  \n",
       "21  0.033881                 2  \n",
       "22  0.033881                 2  \n",
       "25  0.042356                 2  \n",
       "27  0.016932                 2  \n",
       "29  0.016932                 2  \n",
       "31  0.025407                 2  \n",
       "33  0.010153                 2  "
      ]
     },
     "execution_count": 51,
     "metadata": {},
     "output_type": "execute_result"
    }
   ],
   "source": [
    "trans_dup = transactions[transactions.duplicated()==True]\n",
    "trans_dup.head(10)"
   ]
  },
  {
   "cell_type": "markdown",
   "id": "da30fc38-f415-4759-90c9-395a9d74acf7",
   "metadata": {},
   "source": [
    "It does seems like duplicated rows are just multiple units being purchased. We can deal with this by adding a new column **units**, which counts the number of unique transactions of the same duplicates."
   ]
  },
  {
   "cell_type": "code",
   "execution_count": 52,
   "id": "976ab0a7-7ebf-4b17-bb37-48b51291da8d",
   "metadata": {
    "tags": []
   },
   "outputs": [],
   "source": [
    "# Transforming data by adding units, eliminating duplicated rows.\n",
    "transactions['units']=0\n",
    "transactions = transactions.groupby(['t_dat','customer_id', 'article_id', 'price', 'sales_channel_id'])['units'].count().reset_index()"
   ]
  },
  {
   "cell_type": "markdown",
   "id": "cee55ff2-b90b-4cd7-9479-2fa8829f5380",
   "metadata": {},
   "source": [
    "Sanity Check..."
   ]
  },
  {
   "cell_type": "code",
   "execution_count": 53,
   "id": "67774056-f79f-49b4-b7c6-aaf223efe817",
   "metadata": {
    "tags": []
   },
   "outputs": [
    {
     "data": {
      "text/plain": [
       "0"
      ]
     },
     "execution_count": 53,
     "metadata": {},
     "output_type": "execute_result"
    }
   ],
   "source": [
    "transactions.duplicated().sum()"
   ]
  },
  {
   "cell_type": "code",
   "execution_count": 54,
   "id": "a171f05f-e581-4a3f-8796-6a537d425e25",
   "metadata": {
    "tags": []
   },
   "outputs": [
    {
     "data": {
      "text/html": [
       "<div>\n",
       "<style scoped>\n",
       "    .dataframe tbody tr th:only-of-type {\n",
       "        vertical-align: middle;\n",
       "    }\n",
       "\n",
       "    .dataframe tbody tr th {\n",
       "        vertical-align: top;\n",
       "    }\n",
       "\n",
       "    .dataframe thead th {\n",
       "        text-align: right;\n",
       "    }\n",
       "</style>\n",
       "<table border=\"1\" class=\"dataframe\">\n",
       "  <thead>\n",
       "    <tr style=\"text-align: right;\">\n",
       "      <th></th>\n",
       "      <th>t_dat</th>\n",
       "      <th>customer_id</th>\n",
       "      <th>article_id</th>\n",
       "      <th>price</th>\n",
       "      <th>sales_channel_id</th>\n",
       "      <th>units</th>\n",
       "    </tr>\n",
       "  </thead>\n",
       "  <tbody>\n",
       "    <tr>\n",
       "      <th>14</th>\n",
       "      <td>2018-09-20</td>\n",
       "      <td>000aa7f0dc06cd7174389e76c9e132a67860c5f65f9706...</td>\n",
       "      <td>377277001</td>\n",
       "      <td>0.008458</td>\n",
       "      <td>2</td>\n",
       "      <td>2</td>\n",
       "    </tr>\n",
       "    <tr>\n",
       "      <th>15</th>\n",
       "      <td>2018-09-20</td>\n",
       "      <td>000aa7f0dc06cd7174389e76c9e132a67860c5f65f9706...</td>\n",
       "      <td>501820043</td>\n",
       "      <td>0.016932</td>\n",
       "      <td>2</td>\n",
       "      <td>2</td>\n",
       "    </tr>\n",
       "    <tr>\n",
       "      <th>16</th>\n",
       "      <td>2018-09-20</td>\n",
       "      <td>000aa7f0dc06cd7174389e76c9e132a67860c5f65f9706...</td>\n",
       "      <td>553139001</td>\n",
       "      <td>0.033881</td>\n",
       "      <td>2</td>\n",
       "      <td>2</td>\n",
       "    </tr>\n",
       "    <tr>\n",
       "      <th>17</th>\n",
       "      <td>2018-09-20</td>\n",
       "      <td>000aa7f0dc06cd7174389e76c9e132a67860c5f65f9706...</td>\n",
       "      <td>631848002</td>\n",
       "      <td>0.033881</td>\n",
       "      <td>2</td>\n",
       "      <td>4</td>\n",
       "    </tr>\n",
       "    <tr>\n",
       "      <th>18</th>\n",
       "      <td>2018-09-20</td>\n",
       "      <td>000aa7f0dc06cd7174389e76c9e132a67860c5f65f9706...</td>\n",
       "      <td>640639001</td>\n",
       "      <td>0.010153</td>\n",
       "      <td>2</td>\n",
       "      <td>2</td>\n",
       "    </tr>\n",
       "    <tr>\n",
       "      <th>...</th>\n",
       "      <td>...</td>\n",
       "      <td>...</td>\n",
       "      <td>...</td>\n",
       "      <td>...</td>\n",
       "      <td>...</td>\n",
       "      <td>...</td>\n",
       "    </tr>\n",
       "    <tr>\n",
       "      <th>28813325</th>\n",
       "      <td>2020-09-22</td>\n",
       "      <td>feede16a97612dbe30e7157dce5797b78cab0eda03e146...</td>\n",
       "      <td>919273002</td>\n",
       "      <td>0.042356</td>\n",
       "      <td>2</td>\n",
       "      <td>2</td>\n",
       "    </tr>\n",
       "    <tr>\n",
       "      <th>28813362</th>\n",
       "      <td>2020-09-22</td>\n",
       "      <td>ff54fe15368409b7d0d691cdeebe2d6a3fee5178105277...</td>\n",
       "      <td>885315003</td>\n",
       "      <td>0.050102</td>\n",
       "      <td>2</td>\n",
       "      <td>3</td>\n",
       "    </tr>\n",
       "    <tr>\n",
       "      <th>28813379</th>\n",
       "      <td>2020-09-22</td>\n",
       "      <td>ff6f55a51af284b71dcd264396b299e548f968c1769e71...</td>\n",
       "      <td>919786002</td>\n",
       "      <td>0.042356</td>\n",
       "      <td>2</td>\n",
       "      <td>2</td>\n",
       "    </tr>\n",
       "    <tr>\n",
       "      <th>28813389</th>\n",
       "      <td>2020-09-22</td>\n",
       "      <td>ff94f31e864d9b655643ac4d2adab3611c7241adb5d34c...</td>\n",
       "      <td>901666001</td>\n",
       "      <td>0.084729</td>\n",
       "      <td>2</td>\n",
       "      <td>2</td>\n",
       "    </tr>\n",
       "    <tr>\n",
       "      <th>28813408</th>\n",
       "      <td>2020-09-22</td>\n",
       "      <td>ffd4cf2217de4a0a3f9f610cdec334c803692a18af08ac...</td>\n",
       "      <td>791587021</td>\n",
       "      <td>0.025407</td>\n",
       "      <td>2</td>\n",
       "      <td>2</td>\n",
       "    </tr>\n",
       "  </tbody>\n",
       "</table>\n",
       "<p>2543908 rows × 6 columns</p>\n",
       "</div>"
      ],
      "text/plain": [
       "               t_dat                                        customer_id  \\\n",
       "14        2018-09-20  000aa7f0dc06cd7174389e76c9e132a67860c5f65f9706...   \n",
       "15        2018-09-20  000aa7f0dc06cd7174389e76c9e132a67860c5f65f9706...   \n",
       "16        2018-09-20  000aa7f0dc06cd7174389e76c9e132a67860c5f65f9706...   \n",
       "17        2018-09-20  000aa7f0dc06cd7174389e76c9e132a67860c5f65f9706...   \n",
       "18        2018-09-20  000aa7f0dc06cd7174389e76c9e132a67860c5f65f9706...   \n",
       "...              ...                                                ...   \n",
       "28813325  2020-09-22  feede16a97612dbe30e7157dce5797b78cab0eda03e146...   \n",
       "28813362  2020-09-22  ff54fe15368409b7d0d691cdeebe2d6a3fee5178105277...   \n",
       "28813379  2020-09-22  ff6f55a51af284b71dcd264396b299e548f968c1769e71...   \n",
       "28813389  2020-09-22  ff94f31e864d9b655643ac4d2adab3611c7241adb5d34c...   \n",
       "28813408  2020-09-22  ffd4cf2217de4a0a3f9f610cdec334c803692a18af08ac...   \n",
       "\n",
       "          article_id     price  sales_channel_id  units  \n",
       "14         377277001  0.008458                 2      2  \n",
       "15         501820043  0.016932                 2      2  \n",
       "16         553139001  0.033881                 2      2  \n",
       "17         631848002  0.033881                 2      4  \n",
       "18         640639001  0.010153                 2      2  \n",
       "...              ...       ...               ...    ...  \n",
       "28813325   919273002  0.042356                 2      2  \n",
       "28813362   885315003  0.050102                 2      3  \n",
       "28813379   919786002  0.042356                 2      2  \n",
       "28813389   901666001  0.084729                 2      2  \n",
       "28813408   791587021  0.025407                 2      2  \n",
       "\n",
       "[2543908 rows x 6 columns]"
      ]
     },
     "execution_count": 54,
     "metadata": {},
     "output_type": "execute_result"
    }
   ],
   "source": [
    "transactions[transactions['units']>1]"
   ]
  },
  {
   "cell_type": "code",
   "execution_count": 55,
   "id": "e1536aec-66c7-4169-aad1-70a35087d836",
   "metadata": {
    "tags": []
   },
   "outputs": [
    {
     "data": {
      "text/plain": [
       "(28813419, 6)"
      ]
     },
     "execution_count": 55,
     "metadata": {},
     "output_type": "execute_result"
    }
   ],
   "source": [
    "transactions.shape"
   ]
  },
  {
   "cell_type": "markdown",
   "id": "ed863320-dd40-4f13-a039-9f015df50176",
   "metadata": {},
   "source": [
    "After transformation, we have around 28.8M actual transactions left, with around 2.5M of them having multiple units. Note that the price here becomes the unit_price, might want to specity that before going further."
   ]
  },
  {
   "cell_type": "code",
   "execution_count": 56,
   "id": "abcb9690-ad60-4512-8f84-6d6ab8f053e3",
   "metadata": {
    "tags": []
   },
   "outputs": [
    {
     "data": {
      "text/html": [
       "<div>\n",
       "<style scoped>\n",
       "    .dataframe tbody tr th:only-of-type {\n",
       "        vertical-align: middle;\n",
       "    }\n",
       "\n",
       "    .dataframe tbody tr th {\n",
       "        vertical-align: top;\n",
       "    }\n",
       "\n",
       "    .dataframe thead th {\n",
       "        text-align: right;\n",
       "    }\n",
       "</style>\n",
       "<table border=\"1\" class=\"dataframe\">\n",
       "  <thead>\n",
       "    <tr style=\"text-align: right;\">\n",
       "      <th></th>\n",
       "      <th>t_dat</th>\n",
       "      <th>customer_id</th>\n",
       "      <th>article_id</th>\n",
       "      <th>unit_price</th>\n",
       "      <th>sales_channel_id</th>\n",
       "      <th>units</th>\n",
       "    </tr>\n",
       "  </thead>\n",
       "  <tbody>\n",
       "    <tr>\n",
       "      <th>0</th>\n",
       "      <td>2018-09-20</td>\n",
       "      <td>000058a12d5b43e67d225668fa1f8d618c13dc232df0ca...</td>\n",
       "      <td>541518023</td>\n",
       "      <td>0.030492</td>\n",
       "      <td>2</td>\n",
       "      <td>1</td>\n",
       "    </tr>\n",
       "    <tr>\n",
       "      <th>1</th>\n",
       "      <td>2018-09-20</td>\n",
       "      <td>000058a12d5b43e67d225668fa1f8d618c13dc232df0ca...</td>\n",
       "      <td>663713001</td>\n",
       "      <td>0.050831</td>\n",
       "      <td>2</td>\n",
       "      <td>1</td>\n",
       "    </tr>\n",
       "    <tr>\n",
       "      <th>2</th>\n",
       "      <td>2018-09-20</td>\n",
       "      <td>00007d2de826758b65a93dd24ce629ed66842531df6699...</td>\n",
       "      <td>505221001</td>\n",
       "      <td>0.020322</td>\n",
       "      <td>2</td>\n",
       "      <td>1</td>\n",
       "    </tr>\n",
       "    <tr>\n",
       "      <th>3</th>\n",
       "      <td>2018-09-20</td>\n",
       "      <td>00007d2de826758b65a93dd24ce629ed66842531df6699...</td>\n",
       "      <td>505221004</td>\n",
       "      <td>0.015237</td>\n",
       "      <td>2</td>\n",
       "      <td>1</td>\n",
       "    </tr>\n",
       "    <tr>\n",
       "      <th>4</th>\n",
       "      <td>2018-09-20</td>\n",
       "      <td>00007d2de826758b65a93dd24ce629ed66842531df6699...</td>\n",
       "      <td>685687001</td>\n",
       "      <td>0.016932</td>\n",
       "      <td>2</td>\n",
       "      <td>1</td>\n",
       "    </tr>\n",
       "  </tbody>\n",
       "</table>\n",
       "</div>"
      ],
      "text/plain": [
       "        t_dat                                        customer_id  article_id  \\\n",
       "0  2018-09-20  000058a12d5b43e67d225668fa1f8d618c13dc232df0ca...   541518023   \n",
       "1  2018-09-20  000058a12d5b43e67d225668fa1f8d618c13dc232df0ca...   663713001   \n",
       "2  2018-09-20  00007d2de826758b65a93dd24ce629ed66842531df6699...   505221001   \n",
       "3  2018-09-20  00007d2de826758b65a93dd24ce629ed66842531df6699...   505221004   \n",
       "4  2018-09-20  00007d2de826758b65a93dd24ce629ed66842531df6699...   685687001   \n",
       "\n",
       "   unit_price  sales_channel_id  units  \n",
       "0    0.030492                 2      1  \n",
       "1    0.050831                 2      1  \n",
       "2    0.020322                 2      1  \n",
       "3    0.015237                 2      1  \n",
       "4    0.016932                 2      1  "
      ]
     },
     "execution_count": 56,
     "metadata": {},
     "output_type": "execute_result"
    }
   ],
   "source": [
    "transactions = transactions.rename(columns={'price':'unit_price'})\n",
    "transactions.head()"
   ]
  },
  {
   "cell_type": "markdown",
   "id": "70d69d3e-bfd2-4707-bcf5-b9fe3e344f20",
   "metadata": {},
   "source": [
    "---"
   ]
  },
  {
   "cell_type": "markdown",
   "id": "c88229f6-2a13-46ab-a9c0-7da296efc943",
   "metadata": {},
   "source": [
    "### Data types"
   ]
  },
  {
   "cell_type": "markdown",
   "id": "dc4a2f2a-54c2-4652-8622-2ad6c7b4cf92",
   "metadata": {},
   "source": [
    "Let's check if the data types are in correct format."
   ]
  },
  {
   "cell_type": "code",
   "execution_count": 57,
   "id": "2f27cea1-2857-4420-844b-17501aed8ead",
   "metadata": {
    "tags": []
   },
   "outputs": [
    {
     "name": "stdout",
     "output_type": "stream",
     "text": [
      "<class 'pandas.core.frame.DataFrame'>\n",
      "RangeIndex: 28813419 entries, 0 to 28813418\n",
      "Data columns (total 6 columns):\n",
      " #   Column            Dtype  \n",
      "---  ------            -----  \n",
      " 0   t_dat             object \n",
      " 1   customer_id       object \n",
      " 2   article_id        int64  \n",
      " 3   unit_price        float64\n",
      " 4   sales_channel_id  int64  \n",
      " 5   units             int64  \n",
      "dtypes: float64(1), int64(3), object(2)\n",
      "memory usage: 1.3+ GB\n"
     ]
    }
   ],
   "source": [
    "transactions.info()"
   ]
  },
  {
   "cell_type": "markdown",
   "id": "3c048d41-7cf0-4762-9013-394bebffaa43",
   "metadata": {},
   "source": [
    "Looks like we need to change **t_dat** to datetime format."
   ]
  },
  {
   "cell_type": "code",
   "execution_count": 58,
   "id": "3b66f015-6e33-44f1-bff6-730aadb29288",
   "metadata": {
    "tags": []
   },
   "outputs": [],
   "source": [
    "# Change t_data foramt to date\n",
    "transactions['t_dat'] = pd.to_datetime(transactions['t_dat'])"
   ]
  },
  {
   "cell_type": "markdown",
   "id": "c064d05a-212f-49ea-9140-a679c9856658",
   "metadata": {},
   "source": [
    "Sanity check..."
   ]
  },
  {
   "cell_type": "code",
   "execution_count": 59,
   "id": "f229f251-da4d-4aeb-acb8-a4a650a32ff4",
   "metadata": {
    "tags": []
   },
   "outputs": [
    {
     "name": "stdout",
     "output_type": "stream",
     "text": [
      "<class 'pandas.core.frame.DataFrame'>\n",
      "RangeIndex: 28813419 entries, 0 to 28813418\n",
      "Data columns (total 6 columns):\n",
      " #   Column            Dtype         \n",
      "---  ------            -----         \n",
      " 0   t_dat             datetime64[ns]\n",
      " 1   customer_id       object        \n",
      " 2   article_id        int64         \n",
      " 3   unit_price        float64       \n",
      " 4   sales_channel_id  int64         \n",
      " 5   units             int64         \n",
      "dtypes: datetime64[ns](1), float64(1), int64(3), object(1)\n",
      "memory usage: 1.3+ GB\n"
     ]
    }
   ],
   "source": [
    "transactions.info()"
   ]
  },
  {
   "cell_type": "markdown",
   "id": "61cdd98c-2dfa-4855-aa2d-f6c37702a604",
   "metadata": {},
   "source": [
    "**sales_channel_id** needs some context added. We can actually find information [here](https://www.kaggle.com/competitions/h-and-m-personalized-fashion-recommendations/discussion/305952#1684481), which says \"2 is online and 1 is store\".\n",
    "- 2: Online\n",
    "- 1: Store"
   ]
  },
  {
   "cell_type": "code",
   "execution_count": 60,
   "id": "86605949-1631-4e7f-b39e-a71fc8033319",
   "metadata": {
    "tags": []
   },
   "outputs": [
    {
     "data": {
      "text/plain": [
       "sales_channel_id\n",
       "2    19686806\n",
       "1     9126613\n",
       "Name: count, dtype: int64"
      ]
     },
     "execution_count": 60,
     "metadata": {},
     "output_type": "execute_result"
    }
   ],
   "source": [
    "transactions['sales_channel_id'].value_counts()"
   ]
  },
  {
   "cell_type": "markdown",
   "id": "c22262b4-a9dc-4c13-a09d-c65d1e8331a1",
   "metadata": {},
   "source": [
    "It seems like a lot more transactions are made online... Let's add this context to our data:"
   ]
  },
  {
   "cell_type": "code",
   "execution_count": 61,
   "id": "5469e61f-774b-4d75-a72d-7ebb59a4b55b",
   "metadata": {
    "tags": []
   },
   "outputs": [
    {
     "data": {
      "text/plain": [
       "sales_channel\n",
       "Online    19686806\n",
       "Store      9126613\n",
       "Name: count, dtype: int64"
      ]
     },
     "execution_count": 61,
     "metadata": {},
     "output_type": "execute_result"
    }
   ],
   "source": [
    "# Change from (2,1) to (Online, Store)\n",
    "transactions['sales_channel'] = np.where(transactions['sales_channel_id']==1, 'Store', 'Online')\n",
    "transactions['sales_channel'].value_counts()"
   ]
  },
  {
   "cell_type": "code",
   "execution_count": 62,
   "id": "604b4e91-20a4-4581-a98a-07593e8e35e6",
   "metadata": {
    "tags": []
   },
   "outputs": [
    {
     "data": {
      "text/html": [
       "<div>\n",
       "<style scoped>\n",
       "    .dataframe tbody tr th:only-of-type {\n",
       "        vertical-align: middle;\n",
       "    }\n",
       "\n",
       "    .dataframe tbody tr th {\n",
       "        vertical-align: top;\n",
       "    }\n",
       "\n",
       "    .dataframe thead th {\n",
       "        text-align: right;\n",
       "    }\n",
       "</style>\n",
       "<table border=\"1\" class=\"dataframe\">\n",
       "  <thead>\n",
       "    <tr style=\"text-align: right;\">\n",
       "      <th></th>\n",
       "      <th>t_dat</th>\n",
       "      <th>customer_id</th>\n",
       "      <th>article_id</th>\n",
       "      <th>unit_price</th>\n",
       "      <th>units</th>\n",
       "      <th>sales_channel</th>\n",
       "    </tr>\n",
       "  </thead>\n",
       "  <tbody>\n",
       "    <tr>\n",
       "      <th>0</th>\n",
       "      <td>2018-09-20</td>\n",
       "      <td>000058a12d5b43e67d225668fa1f8d618c13dc232df0ca...</td>\n",
       "      <td>541518023</td>\n",
       "      <td>0.030492</td>\n",
       "      <td>1</td>\n",
       "      <td>Online</td>\n",
       "    </tr>\n",
       "    <tr>\n",
       "      <th>1</th>\n",
       "      <td>2018-09-20</td>\n",
       "      <td>000058a12d5b43e67d225668fa1f8d618c13dc232df0ca...</td>\n",
       "      <td>663713001</td>\n",
       "      <td>0.050831</td>\n",
       "      <td>1</td>\n",
       "      <td>Online</td>\n",
       "    </tr>\n",
       "    <tr>\n",
       "      <th>2</th>\n",
       "      <td>2018-09-20</td>\n",
       "      <td>00007d2de826758b65a93dd24ce629ed66842531df6699...</td>\n",
       "      <td>505221001</td>\n",
       "      <td>0.020322</td>\n",
       "      <td>1</td>\n",
       "      <td>Online</td>\n",
       "    </tr>\n",
       "    <tr>\n",
       "      <th>3</th>\n",
       "      <td>2018-09-20</td>\n",
       "      <td>00007d2de826758b65a93dd24ce629ed66842531df6699...</td>\n",
       "      <td>505221004</td>\n",
       "      <td>0.015237</td>\n",
       "      <td>1</td>\n",
       "      <td>Online</td>\n",
       "    </tr>\n",
       "    <tr>\n",
       "      <th>4</th>\n",
       "      <td>2018-09-20</td>\n",
       "      <td>00007d2de826758b65a93dd24ce629ed66842531df6699...</td>\n",
       "      <td>685687001</td>\n",
       "      <td>0.016932</td>\n",
       "      <td>1</td>\n",
       "      <td>Online</td>\n",
       "    </tr>\n",
       "  </tbody>\n",
       "</table>\n",
       "</div>"
      ],
      "text/plain": [
       "       t_dat                                        customer_id  article_id  \\\n",
       "0 2018-09-20  000058a12d5b43e67d225668fa1f8d618c13dc232df0ca...   541518023   \n",
       "1 2018-09-20  000058a12d5b43e67d225668fa1f8d618c13dc232df0ca...   663713001   \n",
       "2 2018-09-20  00007d2de826758b65a93dd24ce629ed66842531df6699...   505221001   \n",
       "3 2018-09-20  00007d2de826758b65a93dd24ce629ed66842531df6699...   505221004   \n",
       "4 2018-09-20  00007d2de826758b65a93dd24ce629ed66842531df6699...   685687001   \n",
       "\n",
       "   unit_price  units sales_channel  \n",
       "0    0.030492      1        Online  \n",
       "1    0.050831      1        Online  \n",
       "2    0.020322      1        Online  \n",
       "3    0.015237      1        Online  \n",
       "4    0.016932      1        Online  "
      ]
     },
     "execution_count": 62,
     "metadata": {},
     "output_type": "execute_result"
    }
   ],
   "source": [
    "# Dropping the sales_channel_id\n",
    "transactions = transactions.drop('sales_channel_id', axis=1)\n",
    "transactions.head()"
   ]
  },
  {
   "cell_type": "markdown",
   "id": "ee807958-ca94-4887-bbca-a760e8c85587",
   "metadata": {},
   "source": [
    "Looks like we are ready to merge the data.."
   ]
  },
  {
   "cell_type": "markdown",
   "id": "9bed0c47-5718-4af7-86ef-8e9ef852e890",
   "metadata": {},
   "source": [
    "---"
   ]
  },
  {
   "cell_type": "markdown",
   "id": "68e01307-0c6b-4dac-9c47-5166f047ffa7",
   "metadata": {},
   "source": [
    "## Merging the dataset"
   ]
  },
  {
   "cell_type": "markdown",
   "id": "2fbc74f1-cb97-480b-8d04-cc33414efa89",
   "metadata": {},
   "source": [
    "Before merging, let's verify the following 2 things:\n",
    "- What proportion of the unique customer_id in the customers table v.s. in the transactions table\n",
    "- What proportion of the unique article_id in the artices table v.s. in the transactions table"
   ]
  },
  {
   "cell_type": "code",
   "execution_count": 63,
   "id": "1f6f5ac7-553f-4ccb-98c3-98b5bcb52f4f",
   "metadata": {
    "tags": []
   },
   "outputs": [
    {
     "data": {
      "text/plain": [
       "0.9929306549658158"
      ]
     },
     "execution_count": 63,
     "metadata": {},
     "output_type": "execute_result"
    }
   ],
   "source": [
    "# proportion of the unique customer_id in the customers table v.s. in the transactions table\n",
    "transactions['customer_id'].nunique()/customers['customer_id'].nunique()"
   ]
  },
  {
   "cell_type": "code",
   "execution_count": 64,
   "id": "d21d4766-d903-44bb-bfab-a743c87887f2",
   "metadata": {
    "tags": []
   },
   "outputs": [
    {
     "data": {
      "text/plain": [
       "0.9905724735176518"
      ]
     },
     "execution_count": 64,
     "metadata": {},
     "output_type": "execute_result"
    }
   ],
   "source": [
    "# proportion of the unique article_id in the articles table v.s. in the transactions table\n",
    "transactions['article_id'].nunique()/articles['article_id'].nunique()"
   ]
  },
  {
   "cell_type": "markdown",
   "id": "504ed706-0769-4fcd-9baa-4c5890219f9e",
   "metadata": {},
   "source": [
    "The proportion matches pretty well, no more than 1% of the ids not there for transactions. We can start merging the data"
   ]
  },
  {
   "cell_type": "code",
   "execution_count": 65,
   "id": "00e7916d-4394-401a-9ad2-0391df41fd2e",
   "metadata": {
    "tags": []
   },
   "outputs": [
    {
     "data": {
      "text/html": [
       "<div>\n",
       "<style scoped>\n",
       "    .dataframe tbody tr th:only-of-type {\n",
       "        vertical-align: middle;\n",
       "    }\n",
       "\n",
       "    .dataframe tbody tr th {\n",
       "        vertical-align: top;\n",
       "    }\n",
       "\n",
       "    .dataframe thead th {\n",
       "        text-align: right;\n",
       "    }\n",
       "</style>\n",
       "<table border=\"1\" class=\"dataframe\">\n",
       "  <thead>\n",
       "    <tr style=\"text-align: right;\">\n",
       "      <th></th>\n",
       "      <th>t_dat</th>\n",
       "      <th>customer_id</th>\n",
       "      <th>article_id</th>\n",
       "      <th>unit_price</th>\n",
       "      <th>units</th>\n",
       "      <th>sales_channel</th>\n",
       "      <th>prod_name</th>\n",
       "      <th>product_type_name</th>\n",
       "      <th>product_group_name</th>\n",
       "      <th>graphical_appearance_name</th>\n",
       "      <th>...</th>\n",
       "      <th>index_group_name</th>\n",
       "      <th>section_name</th>\n",
       "      <th>garment_group_name</th>\n",
       "      <th>detail_desc</th>\n",
       "      <th>FN</th>\n",
       "      <th>Active</th>\n",
       "      <th>club_member_status</th>\n",
       "      <th>fashion_news_frequency</th>\n",
       "      <th>age</th>\n",
       "      <th>postal_code</th>\n",
       "    </tr>\n",
       "  </thead>\n",
       "  <tbody>\n",
       "    <tr>\n",
       "      <th>0</th>\n",
       "      <td>2018-09-20</td>\n",
       "      <td>000058a12d5b43e67d225668fa1f8d618c13dc232df0ca...</td>\n",
       "      <td>541518023</td>\n",
       "      <td>0.030492</td>\n",
       "      <td>1</td>\n",
       "      <td>Online</td>\n",
       "      <td>Rae Push (Melbourne) 2p</td>\n",
       "      <td>Bra</td>\n",
       "      <td>Underwear</td>\n",
       "      <td>Solid</td>\n",
       "      <td>...</td>\n",
       "      <td>Ladieswear</td>\n",
       "      <td>Womens Lingerie</td>\n",
       "      <td>Under-, Nightwear</td>\n",
       "      <td>Lace push-up bras with underwired, moulded, pa...</td>\n",
       "      <td>False</td>\n",
       "      <td>False</td>\n",
       "      <td>ACTIVE</td>\n",
       "      <td>NONE</td>\n",
       "      <td>24.0</td>\n",
       "      <td>64f17e6a330a85798e4998f62d0930d14db8db1c054af6...</td>\n",
       "    </tr>\n",
       "    <tr>\n",
       "      <th>1</th>\n",
       "      <td>2018-09-20</td>\n",
       "      <td>000058a12d5b43e67d225668fa1f8d618c13dc232df0ca...</td>\n",
       "      <td>663713001</td>\n",
       "      <td>0.050831</td>\n",
       "      <td>1</td>\n",
       "      <td>Online</td>\n",
       "      <td>Atlanta Push Body Harlow</td>\n",
       "      <td>Underwear body</td>\n",
       "      <td>Underwear</td>\n",
       "      <td>Solid</td>\n",
       "      <td>...</td>\n",
       "      <td>Ladieswear</td>\n",
       "      <td>Womens Lingerie</td>\n",
       "      <td>Under-, Nightwear</td>\n",
       "      <td>Lace push-up body with underwired, moulded, pa...</td>\n",
       "      <td>False</td>\n",
       "      <td>False</td>\n",
       "      <td>ACTIVE</td>\n",
       "      <td>NONE</td>\n",
       "      <td>24.0</td>\n",
       "      <td>64f17e6a330a85798e4998f62d0930d14db8db1c054af6...</td>\n",
       "    </tr>\n",
       "    <tr>\n",
       "      <th>2</th>\n",
       "      <td>2018-09-20</td>\n",
       "      <td>00007d2de826758b65a93dd24ce629ed66842531df6699...</td>\n",
       "      <td>505221001</td>\n",
       "      <td>0.020322</td>\n",
       "      <td>1</td>\n",
       "      <td>Online</td>\n",
       "      <td>Inca Jumper</td>\n",
       "      <td>Sweater</td>\n",
       "      <td>Garment Upper body</td>\n",
       "      <td>Melange</td>\n",
       "      <td>...</td>\n",
       "      <td>Divided</td>\n",
       "      <td>Divided Selected</td>\n",
       "      <td>Knitwear</td>\n",
       "      <td>Jumper in rib-knit cotton with hard-worn detai...</td>\n",
       "      <td>True</td>\n",
       "      <td>True</td>\n",
       "      <td>ACTIVE</td>\n",
       "      <td>Regularly</td>\n",
       "      <td>32.0</td>\n",
       "      <td>8d6f45050876d059c830a0fe63f1a4c022de279bb68ce3...</td>\n",
       "    </tr>\n",
       "    <tr>\n",
       "      <th>3</th>\n",
       "      <td>2018-09-20</td>\n",
       "      <td>00007d2de826758b65a93dd24ce629ed66842531df6699...</td>\n",
       "      <td>505221004</td>\n",
       "      <td>0.015237</td>\n",
       "      <td>1</td>\n",
       "      <td>Online</td>\n",
       "      <td>Inca Jumper</td>\n",
       "      <td>Sweater</td>\n",
       "      <td>Garment Upper body</td>\n",
       "      <td>Melange</td>\n",
       "      <td>...</td>\n",
       "      <td>Divided</td>\n",
       "      <td>Divided Selected</td>\n",
       "      <td>Knitwear</td>\n",
       "      <td>Jumper in rib-knit cotton with hard-worn detai...</td>\n",
       "      <td>True</td>\n",
       "      <td>True</td>\n",
       "      <td>ACTIVE</td>\n",
       "      <td>Regularly</td>\n",
       "      <td>32.0</td>\n",
       "      <td>8d6f45050876d059c830a0fe63f1a4c022de279bb68ce3...</td>\n",
       "    </tr>\n",
       "    <tr>\n",
       "      <th>4</th>\n",
       "      <td>2018-09-20</td>\n",
       "      <td>00007d2de826758b65a93dd24ce629ed66842531df6699...</td>\n",
       "      <td>685687001</td>\n",
       "      <td>0.016932</td>\n",
       "      <td>1</td>\n",
       "      <td>Online</td>\n",
       "      <td>W YODA KNIT OL OFFER</td>\n",
       "      <td>Sweater</td>\n",
       "      <td>Garment Upper body</td>\n",
       "      <td>Melange</td>\n",
       "      <td>...</td>\n",
       "      <td>Ladieswear</td>\n",
       "      <td>Womens Everyday Collection</td>\n",
       "      <td>Special Offers</td>\n",
       "      <td>V-neck knitted jumper with long sleeves and ri...</td>\n",
       "      <td>True</td>\n",
       "      <td>True</td>\n",
       "      <td>ACTIVE</td>\n",
       "      <td>Regularly</td>\n",
       "      <td>32.0</td>\n",
       "      <td>8d6f45050876d059c830a0fe63f1a4c022de279bb68ce3...</td>\n",
       "    </tr>\n",
       "  </tbody>\n",
       "</table>\n",
       "<p>5 rows × 25 columns</p>\n",
       "</div>"
      ],
      "text/plain": [
       "       t_dat                                        customer_id  article_id  \\\n",
       "0 2018-09-20  000058a12d5b43e67d225668fa1f8d618c13dc232df0ca...   541518023   \n",
       "1 2018-09-20  000058a12d5b43e67d225668fa1f8d618c13dc232df0ca...   663713001   \n",
       "2 2018-09-20  00007d2de826758b65a93dd24ce629ed66842531df6699...   505221001   \n",
       "3 2018-09-20  00007d2de826758b65a93dd24ce629ed66842531df6699...   505221004   \n",
       "4 2018-09-20  00007d2de826758b65a93dd24ce629ed66842531df6699...   685687001   \n",
       "\n",
       "   unit_price  units sales_channel                 prod_name  \\\n",
       "0    0.030492      1        Online   Rae Push (Melbourne) 2p   \n",
       "1    0.050831      1        Online  Atlanta Push Body Harlow   \n",
       "2    0.020322      1        Online               Inca Jumper   \n",
       "3    0.015237      1        Online               Inca Jumper   \n",
       "4    0.016932      1        Online      W YODA KNIT OL OFFER   \n",
       "\n",
       "  product_type_name  product_group_name graphical_appearance_name  ...  \\\n",
       "0               Bra           Underwear                     Solid  ...   \n",
       "1    Underwear body           Underwear                     Solid  ...   \n",
       "2           Sweater  Garment Upper body                   Melange  ...   \n",
       "3           Sweater  Garment Upper body                   Melange  ...   \n",
       "4           Sweater  Garment Upper body                   Melange  ...   \n",
       "\n",
       "  index_group_name                section_name garment_group_name  \\\n",
       "0       Ladieswear             Womens Lingerie  Under-, Nightwear   \n",
       "1       Ladieswear             Womens Lingerie  Under-, Nightwear   \n",
       "2          Divided            Divided Selected           Knitwear   \n",
       "3          Divided            Divided Selected           Knitwear   \n",
       "4       Ladieswear  Womens Everyday Collection     Special Offers   \n",
       "\n",
       "                                         detail_desc     FN Active  \\\n",
       "0  Lace push-up bras with underwired, moulded, pa...  False  False   \n",
       "1  Lace push-up body with underwired, moulded, pa...  False  False   \n",
       "2  Jumper in rib-knit cotton with hard-worn detai...   True   True   \n",
       "3  Jumper in rib-knit cotton with hard-worn detai...   True   True   \n",
       "4  V-neck knitted jumper with long sleeves and ri...   True   True   \n",
       "\n",
       "  club_member_status fashion_news_frequency   age  \\\n",
       "0             ACTIVE                   NONE  24.0   \n",
       "1             ACTIVE                   NONE  24.0   \n",
       "2             ACTIVE              Regularly  32.0   \n",
       "3             ACTIVE              Regularly  32.0   \n",
       "4             ACTIVE              Regularly  32.0   \n",
       "\n",
       "                                         postal_code  \n",
       "0  64f17e6a330a85798e4998f62d0930d14db8db1c054af6...  \n",
       "1  64f17e6a330a85798e4998f62d0930d14db8db1c054af6...  \n",
       "2  8d6f45050876d059c830a0fe63f1a4c022de279bb68ce3...  \n",
       "3  8d6f45050876d059c830a0fe63f1a4c022de279bb68ce3...  \n",
       "4  8d6f45050876d059c830a0fe63f1a4c022de279bb68ce3...  \n",
       "\n",
       "[5 rows x 25 columns]"
      ]
     },
     "execution_count": 65,
     "metadata": {},
     "output_type": "execute_result"
    }
   ],
   "source": [
    "# Joining the data\n",
    "temp = transactions.merge(articles, how='left', on='article_id')\n",
    "hm_sales = temp.merge(customers, how='left', on='customer_id')\n",
    "hm_sales.head()"
   ]
  },
  {
   "cell_type": "code",
   "execution_count": 66,
   "id": "ea09f349-a93a-41b6-85de-5649cdf1ce72",
   "metadata": {
    "tags": []
   },
   "outputs": [
    {
     "data": {
      "text/plain": [
       "(28813419, 25)"
      ]
     },
     "execution_count": 66,
     "metadata": {},
     "output_type": "execute_result"
    }
   ],
   "source": [
    "hm_sales.shape"
   ]
  },
  {
   "cell_type": "markdown",
   "id": "b0b8020d-24b6-48ed-9a2b-1984c32cc8de",
   "metadata": {},
   "source": [
    "After merging, verify the following 2 things:\n",
    "- Are there any customer_id recorded in the transaction table not in customers table?\n",
    "- Are there any article_id recorded in the transaction table not in articles table?  "
   ]
  },
  {
   "cell_type": "markdown",
   "id": "596f554c-82d1-4d15-8cbc-bbf5e956a556",
   "metadata": {},
   "source": [
    "We can simply do this by checking for NaNs in any of the columns of customers and articles."
   ]
  },
  {
   "cell_type": "code",
   "execution_count": 67,
   "id": "5d32895e-f161-4237-9f6b-687507dc4cc5",
   "metadata": {
    "tags": []
   },
   "outputs": [
    {
     "data": {
      "text/plain": [
       "0"
      ]
     },
     "execution_count": 67,
     "metadata": {},
     "output_type": "execute_result"
    }
   ],
   "source": [
    "hm_sales['FN'].isna().sum()"
   ]
  },
  {
   "cell_type": "code",
   "execution_count": 68,
   "id": "ccf089b8-58c4-420c-ab79-153ddd4d8b67",
   "metadata": {
    "tags": []
   },
   "outputs": [
    {
     "data": {
      "text/plain": [
       "0"
      ]
     },
     "execution_count": 68,
     "metadata": {},
     "output_type": "execute_result"
    }
   ],
   "source": [
    "hm_sales['product_type_name'].isna().sum()"
   ]
  },
  {
   "cell_type": "markdown",
   "id": "63c7f2d2-0ce5-4c4c-8d49-07d71f8c8bcd",
   "metadata": {},
   "source": [
    "No missing values! We can save the merged dataframe now!"
   ]
  },
  {
   "cell_type": "code",
   "execution_count": 69,
   "id": "720cb97e-b671-4e90-8a32-5a57fd986fb5",
   "metadata": {
    "tags": []
   },
   "outputs": [],
   "source": [
    "# Save the merged files. Blocked code in case running it by accident\n",
    "# hm_sales.to_csv('data/hm_sales.csv', index=False)"
   ]
  },
  {
   "cell_type": "code",
   "execution_count": 21,
   "id": "2bebbdf3-e3ea-48e7-ac53-a8ddfe84c67a",
   "metadata": {
    "tags": []
   },
   "outputs": [
    {
     "name": "stdout",
     "output_type": "stream",
     "text": [
      "<class 'pandas.core.frame.DataFrame'>\n",
      "DatetimeIndex: 28813419 entries, 2018-09-20 to 2020-09-22\n",
      "Data columns (total 24 columns):\n",
      " #   Column                        Dtype  \n",
      "---  ------                        -----  \n",
      " 0   customer_id                   object \n",
      " 1   article_id                    int64  \n",
      " 2   unit_price                    float64\n",
      " 3   units                         int64  \n",
      " 4   sales_channel                 object \n",
      " 5   prod_name                     object \n",
      " 6   product_type_name             object \n",
      " 7   product_group_name            object \n",
      " 8   graphical_appearance_name     object \n",
      " 9   colour_group_name             object \n",
      " 10  perceived_colour_value_name   object \n",
      " 11  perceived_colour_master_name  object \n",
      " 12  department_name               object \n",
      " 13  index_name                    object \n",
      " 14  index_group_name              object \n",
      " 15  section_name                  object \n",
      " 16  garment_group_name            object \n",
      " 17  detail_desc                   object \n",
      " 18  FN                            bool   \n",
      " 19  Active                        bool   \n",
      " 20  club_member_status            object \n",
      " 21  fashion_news_frequency        object \n",
      " 22  age                           float64\n",
      " 23  postal_code                   object \n",
      "dtypes: bool(2), float64(2), int64(2), object(18)\n",
      "memory usage: 5.0+ GB\n"
     ]
    }
   ],
   "source": [
    "hm_sales.info()"
   ]
  },
  {
   "cell_type": "markdown",
   "id": "49766a5a-c898-4f90-ab07-052af67efc90",
   "metadata": {},
   "source": [
    "# EDA"
   ]
  },
  {
   "cell_type": "code",
   "execution_count": 3,
   "id": "9dbf1ff9-8eff-4cd6-a5e1-2ab30017c78d",
   "metadata": {
    "tags": []
   },
   "outputs": [
    {
     "data": {
      "text/plain": [
       "(28813419, 25)"
      ]
     },
     "execution_count": 3,
     "metadata": {},
     "output_type": "execute_result"
    }
   ],
   "source": [
    "hm_sales = pd.read_csv('data/hm_sales.csv')\n",
    "hm_sales.shape"
   ]
  },
  {
   "cell_type": "markdown",
   "id": "c82678bb-bc7e-48cd-b488-2126658ba799",
   "metadata": {},
   "source": [
    "We already grasp some information from the data cleaning phase... Now we can look further into the data."
   ]
  },
  {
   "cell_type": "markdown",
   "id": "d131ace1-eef6-4695-8042-6e14d514eb1c",
   "metadata": {},
   "source": [
    "## Numeric Columns"
   ]
  },
  {
   "cell_type": "code",
   "execution_count": 4,
   "id": "42c941ba-c8dd-4cac-ba26-ee027633f77f",
   "metadata": {
    "tags": []
   },
   "outputs": [
    {
     "data": {
      "text/plain": [
       "(28813419, 4)"
      ]
     },
     "execution_count": 4,
     "metadata": {},
     "output_type": "execute_result"
    }
   ],
   "source": [
    "numeric_df = hm_sales.select_dtypes('number')\n",
    "numeric_df.shape"
   ]
  },
  {
   "cell_type": "markdown",
   "id": "36dbde5a-6e53-4e67-9f2b-672750d11d90",
   "metadata": {},
   "source": [
    "We only have 4 numerical columns, we can ignore the article_id as it should actually be categorical. For the other 3 columns, their distributions can be visualized as follows:"
   ]
  },
  {
   "cell_type": "code",
   "execution_count": 5,
   "id": "ee33d4e0-0279-41c4-be37-706f52674a6e",
   "metadata": {
    "tags": []
   },
   "outputs": [],
   "source": [
    "numeric_df = numeric_df.drop('article_id', axis=1)"
   ]
  },
  {
   "cell_type": "code",
   "execution_count": 6,
   "id": "a134dad1-94de-48a8-b9aa-febc3eccd081",
   "metadata": {
    "tags": []
   },
   "outputs": [
    {
     "data": {
      "text/plain": [
       "Index(['unit_price', 'units', 'age'], dtype='object')"
      ]
     },
     "execution_count": 6,
     "metadata": {},
     "output_type": "execute_result"
    }
   ],
   "source": [
    "numeric_df.columns"
   ]
  },
  {
   "cell_type": "code",
   "execution_count": 7,
   "id": "17637b59-958c-4ffc-ba61-353a8b15b25d",
   "metadata": {
    "tags": []
   },
   "outputs": [
    {
     "data": {
      "image/png": "[encoded data removed]",
      "text/plain": [
       "<Figure size 1600x350 with 3 Axes>"
      ]
     },
     "metadata": {},
     "output_type": "display_data"
    }
   ],
   "source": [
    "plt.subplots(1,3, figsize=(16,3.5))\n",
    "for i, col in enumerate(numeric_df.columns):\n",
    "    plt.subplot(1,3,i+1)\n",
    "    numeric_df[col].plot(kind='hist', bins = 40)\n",
    "    \n",
    "    # plotting mean and median lines\n",
    "    plt.axvline(numeric_df[col].mean(), 0, 2000, c='coral', label='mean')\n",
    "    plt.axvline(numeric_df[col].median(), 0, 2000, c='coral', linestyle='--', label='median')\n",
    "    \n",
    "    sns.despine()\n",
    "    plt.title(f'Distribution of {col}')\n",
    "    plt.legend()\n",
    "plt.show();   "
   ]
  },
  {
   "cell_type": "markdown",
   "id": "dac8165f-ab3b-4254-957a-1fd95c656895",
   "metadata": {},
   "source": [
    "- Unit price seems to be slightly skewed to the right. The price seems to be scaled already. \n",
    "- The majority of the units in each transactions is 1. Transactions are only aggregated with the number of units of each article. It cannot tell if a customer bought multiple different items in one order. We can retrieve this information by grouping t_dat and customer_id. The assumption here is a customer would only make one order maximum each day.\n",
    "- Two age range can be identified with the most number of transactions: 23-33 and 45-55."
   ]
  },
  {
   "cell_type": "code",
   "execution_count": 8,
   "id": "06a3cd10-a319-4458-bc39-5f7975e25c35",
   "metadata": {
    "tags": []
   },
   "outputs": [
    {
     "data": {
      "text/plain": [
       "0.027728679892200424"
      ]
     },
     "execution_count": 8,
     "metadata": {},
     "output_type": "execute_result"
    }
   ],
   "source": [
    "numeric_df['unit_price'].mean()"
   ]
  },
  {
   "cell_type": "code",
   "execution_count": 9,
   "id": "de7b0d42-c263-4d2f-9490-97faaf0d85a0",
   "metadata": {
    "tags": []
   },
   "outputs": [
    {
     "data": {
      "text/plain": [
       "units\n",
       "1      26269511\n",
       "2       2285073\n",
       "3        177237\n",
       "4         55412\n",
       "5          9259\n",
       "         ...   \n",
       "63            1\n",
       "199           1\n",
       "89            1\n",
       "86            1\n",
       "77            1\n",
       "Name: count, Length: 75, dtype: int64"
      ]
     },
     "execution_count": 9,
     "metadata": {},
     "output_type": "execute_result"
    }
   ],
   "source": [
    "numeric_df['units'].value_counts()"
   ]
  },
  {
   "cell_type": "markdown",
   "id": "a1578b46-0746-4ae5-bf9c-480d4b1383f2",
   "metadata": {},
   "source": [
    "Let's look at the correlation of the numeric columns"
   ]
  },
  {
   "cell_type": "code",
   "execution_count": 10,
   "id": "e395afb0-ed39-4398-8911-9df34479b3cc",
   "metadata": {
    "tags": []
   },
   "outputs": [
    {
     "data": {
      "image/png": "[encoded data removed]",
      "text/plain": [
       "<Figure size 500x350 with 2 Axes>"
      ]
     },
     "metadata": {},
     "output_type": "display_data"
    }
   ],
   "source": [
    "sns.heatmap(numeric_df.corr(),annot=True, cmap='coolwarm', vmin=-1, vmax=1);"
   ]
  },
  {
   "cell_type": "markdown",
   "id": "7efd73b2-db2c-447c-9f03-74fc38ad5a97",
   "metadata": {},
   "source": [
    "The correlation between numeric variables are pretty close to 0. "
   ]
  },
  {
   "cell_type": "code",
   "execution_count": 77,
   "id": "92e2b2f9-428f-4804-911a-123e72496312",
   "metadata": {
    "tags": []
   },
   "outputs": [
    {
     "data": {
      "text/html": [
       "<div>\n",
       "<style scoped>\n",
       "    .dataframe tbody tr th:only-of-type {\n",
       "        vertical-align: middle;\n",
       "    }\n",
       "\n",
       "    .dataframe tbody tr th {\n",
       "        vertical-align: top;\n",
       "    }\n",
       "\n",
       "    .dataframe thead th {\n",
       "        text-align: right;\n",
       "    }\n",
       "</style>\n",
       "<table border=\"1\" class=\"dataframe\">\n",
       "  <thead>\n",
       "    <tr style=\"text-align: right;\">\n",
       "      <th></th>\n",
       "      <th>t_dat</th>\n",
       "      <th>customer_id</th>\n",
       "      <th>article_id</th>\n",
       "      <th>unit_price</th>\n",
       "      <th>units</th>\n",
       "      <th>sales_channel</th>\n",
       "      <th>prod_name</th>\n",
       "      <th>product_type_name</th>\n",
       "      <th>product_group_name</th>\n",
       "      <th>graphical_appearance_name</th>\n",
       "      <th>...</th>\n",
       "      <th>index_group_name</th>\n",
       "      <th>section_name</th>\n",
       "      <th>garment_group_name</th>\n",
       "      <th>detail_desc</th>\n",
       "      <th>FN</th>\n",
       "      <th>Active</th>\n",
       "      <th>club_member_status</th>\n",
       "      <th>fashion_news_frequency</th>\n",
       "      <th>age</th>\n",
       "      <th>postal_code</th>\n",
       "    </tr>\n",
       "  </thead>\n",
       "  <tbody>\n",
       "    <tr>\n",
       "      <th>0</th>\n",
       "      <td>2018-09-20</td>\n",
       "      <td>000058a12d5b43e67d225668fa1f8d618c13dc232df0ca...</td>\n",
       "      <td>541518023</td>\n",
       "      <td>0.030492</td>\n",
       "      <td>1</td>\n",
       "      <td>Online</td>\n",
       "      <td>Rae Push (Melbourne) 2p</td>\n",
       "      <td>Bra</td>\n",
       "      <td>Underwear</td>\n",
       "      <td>Solid</td>\n",
       "      <td>...</td>\n",
       "      <td>Ladieswear</td>\n",
       "      <td>Womens Lingerie</td>\n",
       "      <td>Under-, Nightwear</td>\n",
       "      <td>Lace push-up bras with underwired, moulded, pa...</td>\n",
       "      <td>False</td>\n",
       "      <td>False</td>\n",
       "      <td>ACTIVE</td>\n",
       "      <td>NONE</td>\n",
       "      <td>24.0</td>\n",
       "      <td>64f17e6a330a85798e4998f62d0930d14db8db1c054af6...</td>\n",
       "    </tr>\n",
       "    <tr>\n",
       "      <th>1</th>\n",
       "      <td>2018-09-20</td>\n",
       "      <td>000058a12d5b43e67d225668fa1f8d618c13dc232df0ca...</td>\n",
       "      <td>663713001</td>\n",
       "      <td>0.050831</td>\n",
       "      <td>1</td>\n",
       "      <td>Online</td>\n",
       "      <td>Atlanta Push Body Harlow</td>\n",
       "      <td>Underwear body</td>\n",
       "      <td>Underwear</td>\n",
       "      <td>Solid</td>\n",
       "      <td>...</td>\n",
       "      <td>Ladieswear</td>\n",
       "      <td>Womens Lingerie</td>\n",
       "      <td>Under-, Nightwear</td>\n",
       "      <td>Lace push-up body with underwired, moulded, pa...</td>\n",
       "      <td>False</td>\n",
       "      <td>False</td>\n",
       "      <td>ACTIVE</td>\n",
       "      <td>NONE</td>\n",
       "      <td>24.0</td>\n",
       "      <td>64f17e6a330a85798e4998f62d0930d14db8db1c054af6...</td>\n",
       "    </tr>\n",
       "    <tr>\n",
       "      <th>2</th>\n",
       "      <td>2018-09-20</td>\n",
       "      <td>00007d2de826758b65a93dd24ce629ed66842531df6699...</td>\n",
       "      <td>505221001</td>\n",
       "      <td>0.020322</td>\n",
       "      <td>1</td>\n",
       "      <td>Online</td>\n",
       "      <td>Inca Jumper</td>\n",
       "      <td>Sweater</td>\n",
       "      <td>Garment Upper body</td>\n",
       "      <td>Melange</td>\n",
       "      <td>...</td>\n",
       "      <td>Divided</td>\n",
       "      <td>Divided Selected</td>\n",
       "      <td>Knitwear</td>\n",
       "      <td>Jumper in rib-knit cotton with hard-worn detai...</td>\n",
       "      <td>True</td>\n",
       "      <td>True</td>\n",
       "      <td>ACTIVE</td>\n",
       "      <td>Regularly</td>\n",
       "      <td>32.0</td>\n",
       "      <td>8d6f45050876d059c830a0fe63f1a4c022de279bb68ce3...</td>\n",
       "    </tr>\n",
       "    <tr>\n",
       "      <th>3</th>\n",
       "      <td>2018-09-20</td>\n",
       "      <td>00007d2de826758b65a93dd24ce629ed66842531df6699...</td>\n",
       "      <td>505221004</td>\n",
       "      <td>0.015237</td>\n",
       "      <td>1</td>\n",
       "      <td>Online</td>\n",
       "      <td>Inca Jumper</td>\n",
       "      <td>Sweater</td>\n",
       "      <td>Garment Upper body</td>\n",
       "      <td>Melange</td>\n",
       "      <td>...</td>\n",
       "      <td>Divided</td>\n",
       "      <td>Divided Selected</td>\n",
       "      <td>Knitwear</td>\n",
       "      <td>Jumper in rib-knit cotton with hard-worn detai...</td>\n",
       "      <td>True</td>\n",
       "      <td>True</td>\n",
       "      <td>ACTIVE</td>\n",
       "      <td>Regularly</td>\n",
       "      <td>32.0</td>\n",
       "      <td>8d6f45050876d059c830a0fe63f1a4c022de279bb68ce3...</td>\n",
       "    </tr>\n",
       "    <tr>\n",
       "      <th>4</th>\n",
       "      <td>2018-09-20</td>\n",
       "      <td>00007d2de826758b65a93dd24ce629ed66842531df6699...</td>\n",
       "      <td>685687001</td>\n",
       "      <td>0.016932</td>\n",
       "      <td>1</td>\n",
       "      <td>Online</td>\n",
       "      <td>W YODA KNIT OL OFFER</td>\n",
       "      <td>Sweater</td>\n",
       "      <td>Garment Upper body</td>\n",
       "      <td>Melange</td>\n",
       "      <td>...</td>\n",
       "      <td>Ladieswear</td>\n",
       "      <td>Womens Everyday Collection</td>\n",
       "      <td>Special Offers</td>\n",
       "      <td>V-neck knitted jumper with long sleeves and ri...</td>\n",
       "      <td>True</td>\n",
       "      <td>True</td>\n",
       "      <td>ACTIVE</td>\n",
       "      <td>Regularly</td>\n",
       "      <td>32.0</td>\n",
       "      <td>8d6f45050876d059c830a0fe63f1a4c022de279bb68ce3...</td>\n",
       "    </tr>\n",
       "  </tbody>\n",
       "</table>\n",
       "<p>5 rows × 25 columns</p>\n",
       "</div>"
      ],
      "text/plain": [
       "       t_dat                                        customer_id  article_id  \\\n",
       "0 2018-09-20  000058a12d5b43e67d225668fa1f8d618c13dc232df0ca...   541518023   \n",
       "1 2018-09-20  000058a12d5b43e67d225668fa1f8d618c13dc232df0ca...   663713001   \n",
       "2 2018-09-20  00007d2de826758b65a93dd24ce629ed66842531df6699...   505221001   \n",
       "3 2018-09-20  00007d2de826758b65a93dd24ce629ed66842531df6699...   505221004   \n",
       "4 2018-09-20  00007d2de826758b65a93dd24ce629ed66842531df6699...   685687001   \n",
       "\n",
       "   unit_price  units sales_channel                 prod_name  \\\n",
       "0    0.030492      1        Online   Rae Push (Melbourne) 2p   \n",
       "1    0.050831      1        Online  Atlanta Push Body Harlow   \n",
       "2    0.020322      1        Online               Inca Jumper   \n",
       "3    0.015237      1        Online               Inca Jumper   \n",
       "4    0.016932      1        Online      W YODA KNIT OL OFFER   \n",
       "\n",
       "  product_type_name  product_group_name graphical_appearance_name  ...  \\\n",
       "0               Bra           Underwear                     Solid  ...   \n",
       "1    Underwear body           Underwear                     Solid  ...   \n",
       "2           Sweater  Garment Upper body                   Melange  ...   \n",
       "3           Sweater  Garment Upper body                   Melange  ...   \n",
       "4           Sweater  Garment Upper body                   Melange  ...   \n",
       "\n",
       "  index_group_name                section_name garment_group_name  \\\n",
       "0       Ladieswear             Womens Lingerie  Under-, Nightwear   \n",
       "1       Ladieswear             Womens Lingerie  Under-, Nightwear   \n",
       "2          Divided            Divided Selected           Knitwear   \n",
       "3          Divided            Divided Selected           Knitwear   \n",
       "4       Ladieswear  Womens Everyday Collection     Special Offers   \n",
       "\n",
       "                                         detail_desc     FN Active  \\\n",
       "0  Lace push-up bras with underwired, moulded, pa...  False  False   \n",
       "1  Lace push-up body with underwired, moulded, pa...  False  False   \n",
       "2  Jumper in rib-knit cotton with hard-worn detai...   True   True   \n",
       "3  Jumper in rib-knit cotton with hard-worn detai...   True   True   \n",
       "4  V-neck knitted jumper with long sleeves and ri...   True   True   \n",
       "\n",
       "  club_member_status fashion_news_frequency   age  \\\n",
       "0             ACTIVE                   NONE  24.0   \n",
       "1             ACTIVE                   NONE  24.0   \n",
       "2             ACTIVE              Regularly  32.0   \n",
       "3             ACTIVE              Regularly  32.0   \n",
       "4             ACTIVE              Regularly  32.0   \n",
       "\n",
       "                                         postal_code  \n",
       "0  64f17e6a330a85798e4998f62d0930d14db8db1c054af6...  \n",
       "1  64f17e6a330a85798e4998f62d0930d14db8db1c054af6...  \n",
       "2  8d6f45050876d059c830a0fe63f1a4c022de279bb68ce3...  \n",
       "3  8d6f45050876d059c830a0fe63f1a4c022de279bb68ce3...  \n",
       "4  8d6f45050876d059c830a0fe63f1a4c022de279bb68ce3...  \n",
       "\n",
       "[5 rows x 25 columns]"
      ]
     },
     "execution_count": 77,
     "metadata": {},
     "output_type": "execute_result"
    }
   ],
   "source": [
    "hm_sales.head()"
   ]
  },
  {
   "cell_type": "markdown",
   "id": "f61ce64a-7b37-4862-8ae1-e3ec5bc533a4",
   "metadata": {},
   "source": [
    "## N_transactions by product category"
   ]
  },
  {
   "cell_type": "code",
   "execution_count": 11,
   "id": "aece6df2-2efd-44c9-9763-5e6d6ba9e978",
   "metadata": {
    "tags": []
   },
   "outputs": [
    {
     "data": {
      "text/plain": [
       "Index(['product_type_name', 'product_group_name', 'graphical_appearance_name',\n",
       "       'colour_group_name', 'perceived_colour_value_name',\n",
       "       'perceived_colour_master_name', 'department_name', 'index_name',\n",
       "       'index_group_name', 'section_name', 'garment_group_name'],\n",
       "      dtype='object')"
      ]
     },
     "execution_count": 11,
     "metadata": {},
     "output_type": "execute_result"
    }
   ],
   "source": [
    "hm_sales.columns[7:18]"
   ]
  },
  {
   "cell_type": "markdown",
   "id": "e4e31721-c2c9-4160-bae9-c60a3e5fee7f",
   "metadata": {},
   "source": [
    "We have 11 product related variables that can be used as segments."
   ]
  },
  {
   "cell_type": "code",
   "execution_count": 12,
   "id": "e028220b-957d-47fc-a786-887a08510876",
   "metadata": {
    "tags": []
   },
   "outputs": [
    {
     "data": {
      "text/plain": [
       "product_type_name               130\n",
       "product_group_name               19\n",
       "graphical_appearance_name        30\n",
       "colour_group_name                50\n",
       "perceived_colour_value_name       8\n",
       "perceived_colour_master_name     20\n",
       "department_name                 250\n",
       "index_name                       10\n",
       "index_group_name                  5\n",
       "section_name                     56\n",
       "garment_group_name               21\n",
       "dtype: int64"
      ]
     },
     "execution_count": 12,
     "metadata": {},
     "output_type": "execute_result"
    }
   ],
   "source": [
    "hm_sales.iloc[:,7:18].nunique()"
   ]
  },
  {
   "cell_type": "markdown",
   "id": "c3f979a8-b06d-4d02-a959-8d5bd15ec06b",
   "metadata": {},
   "source": [
    "For preliminary EDA we would like to look at a higher level category. In this case, We might want to look at product_group_name, index_name, or index_group_name."
   ]
  },
  {
   "cell_type": "markdown",
   "id": "8e5e8d3c-0f38-4f5a-a498-5d8f41393952",
   "metadata": {},
   "source": [
    "Let's look into how classes are distributed among the three columns."
   ]
  },
  {
   "cell_type": "code",
   "execution_count": 13,
   "id": "80c718af-f4db-4cd7-ab0c-f215a8097c21",
   "metadata": {
    "tags": []
   },
   "outputs": [],
   "source": [
    "prod_seg = hm_sales[['product_group_name','index_name', 'index_group_name']]"
   ]
  },
  {
   "cell_type": "code",
   "execution_count": 14,
   "id": "6a85c98f-5934-4c77-838c-e8b3f8f7d0b1",
   "metadata": {
    "tags": []
   },
   "outputs": [
    {
     "data": {
      "image/png": "[encoded data removed]",
      "text/plain": [
       "<Figure size 1700x700 with 3 Axes>"
      ]
     },
     "metadata": {},
     "output_type": "display_data"
    }
   ],
   "source": [
    "plt.subplots(1,3, figsize=(17,7))\n",
    "for i, col in enumerate(prod_seg.columns):\n",
    "    plt.subplot(1,3,i+1)\n",
    "    j = prod_seg[col].value_counts(normalize=True).to_frame().reset_index()\n",
    "    j['perc'] = j['proportion']*100\n",
    "    \n",
    "    # Plotting dist by segments\n",
    "    sns.barplot(j, x='perc', y=col,\n",
    "               color='cornflowerblue')\n",
    "    sns.despine()\n",
    "    plt.title(f'Percentage of n_trans by {col}')\n",
    "    plt.xlabel('Percentage of total')\n",
    "    plt.ylabel(None)\n",
    "\n",
    "plt.show();  "
   ]
  },
  {
   "cell_type": "markdown",
   "id": "ffb2d7f5-6821-4697-b640-ec4f0e15eed2",
   "metadata": {},
   "source": [
    "- Hierarchies can be seen from categorical variables that is related to products, might need feature engineering.\n",
    "- Over 60% of the transactions are **Ladieswaer** according to index_group_name.\n"
   ]
  },
  {
   "cell_type": "code",
   "execution_count": 34,
   "id": "8b8c7043-0d44-4520-af07-7569846145d9",
   "metadata": {},
   "outputs": [
    {
     "data": {
      "text/html": [
       "<div>\n",
       "<style scoped>\n",
       "    .dataframe tbody tr th:only-of-type {\n",
       "        vertical-align: middle;\n",
       "    }\n",
       "\n",
       "    .dataframe tbody tr th {\n",
       "        vertical-align: top;\n",
       "    }\n",
       "\n",
       "    .dataframe thead th {\n",
       "        text-align: right;\n",
       "    }\n",
       "</style>\n",
       "<table border=\"1\" class=\"dataframe\">\n",
       "  <thead>\n",
       "    <tr style=\"text-align: right;\">\n",
       "      <th></th>\n",
       "      <th></th>\n",
       "      <th>product_group_name</th>\n",
       "    </tr>\n",
       "    <tr>\n",
       "      <th>index_group_name</th>\n",
       "      <th>index_name</th>\n",
       "      <th></th>\n",
       "    </tr>\n",
       "  </thead>\n",
       "  <tbody>\n",
       "    <tr>\n",
       "      <th>Sport</th>\n",
       "      <th>Sport</th>\n",
       "      <td>1148763</td>\n",
       "    </tr>\n",
       "    <tr>\n",
       "      <th>Menswear</th>\n",
       "      <th>Menswear</th>\n",
       "      <td>1608839</td>\n",
       "    </tr>\n",
       "    <tr>\n",
       "      <th rowspan=\"3\" valign=\"top\">Ladieswear</th>\n",
       "      <th>Ladieswear</th>\n",
       "      <td>11882578</td>\n",
       "    </tr>\n",
       "    <tr>\n",
       "      <th>Lingeries/Tights</th>\n",
       "      <td>4920372</td>\n",
       "    </tr>\n",
       "    <tr>\n",
       "      <th>Ladies Accessories</th>\n",
       "      <td>1692785</td>\n",
       "    </tr>\n",
       "    <tr>\n",
       "      <th>Divided</th>\n",
       "      <th>Divided</th>\n",
       "      <td>6440803</td>\n",
       "    </tr>\n",
       "    <tr>\n",
       "      <th rowspan=\"4\" valign=\"top\">Baby/Children</th>\n",
       "      <th>Children Sizes 134-170</th>\n",
       "      <td>461455</td>\n",
       "    </tr>\n",
       "    <tr>\n",
       "      <th>Children Sizes 92-140</th>\n",
       "      <td>319675</td>\n",
       "    </tr>\n",
       "    <tr>\n",
       "      <th>Baby Sizes 50-98</th>\n",
       "      <td>239709</td>\n",
       "    </tr>\n",
       "    <tr>\n",
       "      <th>Children Accessories, Swimwear</th>\n",
       "      <td>98440</td>\n",
       "    </tr>\n",
       "  </tbody>\n",
       "</table>\n",
       "</div>"
      ],
      "text/plain": [
       "                                                 product_group_name\n",
       "index_group_name index_name                                        \n",
       "Sport            Sport                                      1148763\n",
       "Menswear         Menswear                                   1608839\n",
       "Ladieswear       Ladieswear                                11882578\n",
       "                 Lingeries/Tights                           4920372\n",
       "                 Ladies Accessories                         1692785\n",
       "Divided          Divided                                    6440803\n",
       "Baby/Children    Children Sizes 134-170                      461455\n",
       "                 Children Sizes 92-140                       319675\n",
       "                 Baby Sizes 50-98                            239709\n",
       "                 Children Accessories, Swimwear               98440"
      ]
     },
     "execution_count": 34,
     "metadata": {},
     "output_type": "execute_result"
    }
   ],
   "source": [
    "prod_seg.groupby(['index_group_name', 'index_name']).count().sort_values(['index_group_name','product_group_name'], ascending=False)"
   ]
  },
  {
   "cell_type": "markdown",
   "id": "d290c10e-4a1a-4cd4-aa10-6395e8420273",
   "metadata": {},
   "source": [
    "- **Ladieswear** and **Baby/Children** have subcategories."
   ]
  },
  {
   "cell_type": "markdown",
   "id": "eca4bcf2-47c5-4e85-bfc8-c179eda5a89e",
   "metadata": {},
   "source": [
    "## Time Series"
   ]
  },
  {
   "cell_type": "markdown",
   "id": "5f896e70-4bde-4434-9e28-c18d0d345d6c",
   "metadata": {},
   "source": [
    "To conduct time series EDA it would be easier if we set date as index first."
   ]
  },
  {
   "cell_type": "code",
   "execution_count": 16,
   "id": "4c519be6-0d9b-4cdd-8442-41fa9f971c82",
   "metadata": {
    "tags": []
   },
   "outputs": [
    {
     "data": {
      "text/html": [
       "<div>\n",
       "<style scoped>\n",
       "    .dataframe tbody tr th:only-of-type {\n",
       "        vertical-align: middle;\n",
       "    }\n",
       "\n",
       "    .dataframe tbody tr th {\n",
       "        vertical-align: top;\n",
       "    }\n",
       "\n",
       "    .dataframe thead th {\n",
       "        text-align: right;\n",
       "    }\n",
       "</style>\n",
       "<table border=\"1\" class=\"dataframe\">\n",
       "  <thead>\n",
       "    <tr style=\"text-align: right;\">\n",
       "      <th></th>\n",
       "      <th>customer_id</th>\n",
       "      <th>article_id</th>\n",
       "      <th>unit_price</th>\n",
       "      <th>units</th>\n",
       "      <th>sales_channel</th>\n",
       "      <th>prod_name</th>\n",
       "      <th>product_type_name</th>\n",
       "      <th>product_group_name</th>\n",
       "      <th>graphical_appearance_name</th>\n",
       "      <th>colour_group_name</th>\n",
       "      <th>...</th>\n",
       "      <th>index_group_name</th>\n",
       "      <th>section_name</th>\n",
       "      <th>garment_group_name</th>\n",
       "      <th>detail_desc</th>\n",
       "      <th>FN</th>\n",
       "      <th>Active</th>\n",
       "      <th>club_member_status</th>\n",
       "      <th>fashion_news_frequency</th>\n",
       "      <th>age</th>\n",
       "      <th>postal_code</th>\n",
       "    </tr>\n",
       "    <tr>\n",
       "      <th>t_dat</th>\n",
       "      <th></th>\n",
       "      <th></th>\n",
       "      <th></th>\n",
       "      <th></th>\n",
       "      <th></th>\n",
       "      <th></th>\n",
       "      <th></th>\n",
       "      <th></th>\n",
       "      <th></th>\n",
       "      <th></th>\n",
       "      <th></th>\n",
       "      <th></th>\n",
       "      <th></th>\n",
       "      <th></th>\n",
       "      <th></th>\n",
       "      <th></th>\n",
       "      <th></th>\n",
       "      <th></th>\n",
       "      <th></th>\n",
       "      <th></th>\n",
       "      <th></th>\n",
       "    </tr>\n",
       "  </thead>\n",
       "  <tbody>\n",
       "    <tr>\n",
       "      <th>2018-09-20</th>\n",
       "      <td>000058a12d5b43e67d225668fa1f8d618c13dc232df0ca...</td>\n",
       "      <td>541518023</td>\n",
       "      <td>0.030492</td>\n",
       "      <td>1</td>\n",
       "      <td>Online</td>\n",
       "      <td>Rae Push (Melbourne) 2p</td>\n",
       "      <td>Bra</td>\n",
       "      <td>Underwear</td>\n",
       "      <td>Solid</td>\n",
       "      <td>Light Pink</td>\n",
       "      <td>...</td>\n",
       "      <td>Ladieswear</td>\n",
       "      <td>Womens Lingerie</td>\n",
       "      <td>Under-, Nightwear</td>\n",
       "      <td>Lace push-up bras with underwired, moulded, pa...</td>\n",
       "      <td>False</td>\n",
       "      <td>False</td>\n",
       "      <td>ACTIVE</td>\n",
       "      <td>NONE</td>\n",
       "      <td>24.0</td>\n",
       "      <td>64f17e6a330a85798e4998f62d0930d14db8db1c054af6...</td>\n",
       "    </tr>\n",
       "    <tr>\n",
       "      <th>2018-09-20</th>\n",
       "      <td>000058a12d5b43e67d225668fa1f8d618c13dc232df0ca...</td>\n",
       "      <td>663713001</td>\n",
       "      <td>0.050831</td>\n",
       "      <td>1</td>\n",
       "      <td>Online</td>\n",
       "      <td>Atlanta Push Body Harlow</td>\n",
       "      <td>Underwear body</td>\n",
       "      <td>Underwear</td>\n",
       "      <td>Solid</td>\n",
       "      <td>Black</td>\n",
       "      <td>...</td>\n",
       "      <td>Ladieswear</td>\n",
       "      <td>Womens Lingerie</td>\n",
       "      <td>Under-, Nightwear</td>\n",
       "      <td>Lace push-up body with underwired, moulded, pa...</td>\n",
       "      <td>False</td>\n",
       "      <td>False</td>\n",
       "      <td>ACTIVE</td>\n",
       "      <td>NONE</td>\n",
       "      <td>24.0</td>\n",
       "      <td>64f17e6a330a85798e4998f62d0930d14db8db1c054af6...</td>\n",
       "    </tr>\n",
       "    <tr>\n",
       "      <th>2018-09-20</th>\n",
       "      <td>00007d2de826758b65a93dd24ce629ed66842531df6699...</td>\n",
       "      <td>505221001</td>\n",
       "      <td>0.020322</td>\n",
       "      <td>1</td>\n",
       "      <td>Online</td>\n",
       "      <td>Inca Jumper</td>\n",
       "      <td>Sweater</td>\n",
       "      <td>Garment Upper body</td>\n",
       "      <td>Melange</td>\n",
       "      <td>Grey</td>\n",
       "      <td>...</td>\n",
       "      <td>Divided</td>\n",
       "      <td>Divided Selected</td>\n",
       "      <td>Knitwear</td>\n",
       "      <td>Jumper in rib-knit cotton with hard-worn detai...</td>\n",
       "      <td>True</td>\n",
       "      <td>True</td>\n",
       "      <td>ACTIVE</td>\n",
       "      <td>Regularly</td>\n",
       "      <td>32.0</td>\n",
       "      <td>8d6f45050876d059c830a0fe63f1a4c022de279bb68ce3...</td>\n",
       "    </tr>\n",
       "    <tr>\n",
       "      <th>2018-09-20</th>\n",
       "      <td>00007d2de826758b65a93dd24ce629ed66842531df6699...</td>\n",
       "      <td>505221004</td>\n",
       "      <td>0.015237</td>\n",
       "      <td>1</td>\n",
       "      <td>Online</td>\n",
       "      <td>Inca Jumper</td>\n",
       "      <td>Sweater</td>\n",
       "      <td>Garment Upper body</td>\n",
       "      <td>Melange</td>\n",
       "      <td>Pink</td>\n",
       "      <td>...</td>\n",
       "      <td>Divided</td>\n",
       "      <td>Divided Selected</td>\n",
       "      <td>Knitwear</td>\n",
       "      <td>Jumper in rib-knit cotton with hard-worn detai...</td>\n",
       "      <td>True</td>\n",
       "      <td>True</td>\n",
       "      <td>ACTIVE</td>\n",
       "      <td>Regularly</td>\n",
       "      <td>32.0</td>\n",
       "      <td>8d6f45050876d059c830a0fe63f1a4c022de279bb68ce3...</td>\n",
       "    </tr>\n",
       "    <tr>\n",
       "      <th>2018-09-20</th>\n",
       "      <td>00007d2de826758b65a93dd24ce629ed66842531df6699...</td>\n",
       "      <td>685687001</td>\n",
       "      <td>0.016932</td>\n",
       "      <td>1</td>\n",
       "      <td>Online</td>\n",
       "      <td>W YODA KNIT OL OFFER</td>\n",
       "      <td>Sweater</td>\n",
       "      <td>Garment Upper body</td>\n",
       "      <td>Melange</td>\n",
       "      <td>Dark Grey</td>\n",
       "      <td>...</td>\n",
       "      <td>Ladieswear</td>\n",
       "      <td>Womens Everyday Collection</td>\n",
       "      <td>Special Offers</td>\n",
       "      <td>V-neck knitted jumper with long sleeves and ri...</td>\n",
       "      <td>True</td>\n",
       "      <td>True</td>\n",
       "      <td>ACTIVE</td>\n",
       "      <td>Regularly</td>\n",
       "      <td>32.0</td>\n",
       "      <td>8d6f45050876d059c830a0fe63f1a4c022de279bb68ce3...</td>\n",
       "    </tr>\n",
       "  </tbody>\n",
       "</table>\n",
       "<p>5 rows × 24 columns</p>\n",
       "</div>"
      ],
      "text/plain": [
       "                                                  customer_id  article_id  \\\n",
       "t_dat                                                                       \n",
       "2018-09-20  000058a12d5b43e67d225668fa1f8d618c13dc232df0ca...   541518023   \n",
       "2018-09-20  000058a12d5b43e67d225668fa1f8d618c13dc232df0ca...   663713001   \n",
       "2018-09-20  00007d2de826758b65a93dd24ce629ed66842531df6699...   505221001   \n",
       "2018-09-20  00007d2de826758b65a93dd24ce629ed66842531df6699...   505221004   \n",
       "2018-09-20  00007d2de826758b65a93dd24ce629ed66842531df6699...   685687001   \n",
       "\n",
       "            unit_price  units sales_channel                 prod_name  \\\n",
       "t_dat                                                                   \n",
       "2018-09-20    0.030492      1        Online   Rae Push (Melbourne) 2p   \n",
       "2018-09-20    0.050831      1        Online  Atlanta Push Body Harlow   \n",
       "2018-09-20    0.020322      1        Online               Inca Jumper   \n",
       "2018-09-20    0.015237      1        Online               Inca Jumper   \n",
       "2018-09-20    0.016932      1        Online      W YODA KNIT OL OFFER   \n",
       "\n",
       "           product_type_name  product_group_name graphical_appearance_name  \\\n",
       "t_dat                                                                        \n",
       "2018-09-20               Bra           Underwear                     Solid   \n",
       "2018-09-20    Underwear body           Underwear                     Solid   \n",
       "2018-09-20           Sweater  Garment Upper body                   Melange   \n",
       "2018-09-20           Sweater  Garment Upper body                   Melange   \n",
       "2018-09-20           Sweater  Garment Upper body                   Melange   \n",
       "\n",
       "           colour_group_name  ... index_group_name  \\\n",
       "t_dat                         ...                    \n",
       "2018-09-20        Light Pink  ...       Ladieswear   \n",
       "2018-09-20             Black  ...       Ladieswear   \n",
       "2018-09-20              Grey  ...          Divided   \n",
       "2018-09-20              Pink  ...          Divided   \n",
       "2018-09-20         Dark Grey  ...       Ladieswear   \n",
       "\n",
       "                          section_name garment_group_name  \\\n",
       "t_dat                                                       \n",
       "2018-09-20             Womens Lingerie  Under-, Nightwear   \n",
       "2018-09-20             Womens Lingerie  Under-, Nightwear   \n",
       "2018-09-20            Divided Selected           Knitwear   \n",
       "2018-09-20            Divided Selected           Knitwear   \n",
       "2018-09-20  Womens Everyday Collection     Special Offers   \n",
       "\n",
       "                                                  detail_desc     FN Active  \\\n",
       "t_dat                                                                         \n",
       "2018-09-20  Lace push-up bras with underwired, moulded, pa...  False  False   \n",
       "2018-09-20  Lace push-up body with underwired, moulded, pa...  False  False   \n",
       "2018-09-20  Jumper in rib-knit cotton with hard-worn detai...   True   True   \n",
       "2018-09-20  Jumper in rib-knit cotton with hard-worn detai...   True   True   \n",
       "2018-09-20  V-neck knitted jumper with long sleeves and ri...   True   True   \n",
       "\n",
       "           club_member_status fashion_news_frequency   age  \\\n",
       "t_dat                                                        \n",
       "2018-09-20             ACTIVE                   NONE  24.0   \n",
       "2018-09-20             ACTIVE                   NONE  24.0   \n",
       "2018-09-20             ACTIVE              Regularly  32.0   \n",
       "2018-09-20             ACTIVE              Regularly  32.0   \n",
       "2018-09-20             ACTIVE              Regularly  32.0   \n",
       "\n",
       "                                                  postal_code  \n",
       "t_dat                                                          \n",
       "2018-09-20  64f17e6a330a85798e4998f62d0930d14db8db1c054af6...  \n",
       "2018-09-20  64f17e6a330a85798e4998f62d0930d14db8db1c054af6...  \n",
       "2018-09-20  8d6f45050876d059c830a0fe63f1a4c022de279bb68ce3...  \n",
       "2018-09-20  8d6f45050876d059c830a0fe63f1a4c022de279bb68ce3...  \n",
       "2018-09-20  8d6f45050876d059c830a0fe63f1a4c022de279bb68ce3...  \n",
       "\n",
       "[5 rows x 24 columns]"
      ]
     },
     "execution_count": 16,
     "metadata": {},
     "output_type": "execute_result"
    }
   ],
   "source": [
    "hm_sales['t_dat'] = pd.to_datetime(hm_sales['t_dat'])\n",
    "hm_sales = hm_sales.set_index('t_dat')\n",
    "hm_sales.head()"
   ]
  },
  {
   "cell_type": "code",
   "execution_count": 17,
   "id": "a1e50683-f7c5-4fea-bfa9-359de37ebda6",
   "metadata": {
    "tags": []
   },
   "outputs": [
    {
     "data": {
      "text/html": [
       "<div>\n",
       "<style scoped>\n",
       "    .dataframe tbody tr th:only-of-type {\n",
       "        vertical-align: middle;\n",
       "    }\n",
       "\n",
       "    .dataframe tbody tr th {\n",
       "        vertical-align: top;\n",
       "    }\n",
       "\n",
       "    .dataframe thead th {\n",
       "        text-align: right;\n",
       "    }\n",
       "</style>\n",
       "<table border=\"1\" class=\"dataframe\">\n",
       "  <thead>\n",
       "    <tr style=\"text-align: right;\">\n",
       "      <th></th>\n",
       "      <th>customer_id</th>\n",
       "      <th>units</th>\n",
       "    </tr>\n",
       "    <tr>\n",
       "      <th>t_dat</th>\n",
       "      <th></th>\n",
       "      <th></th>\n",
       "    </tr>\n",
       "  </thead>\n",
       "  <tbody>\n",
       "    <tr>\n",
       "      <th>2018-09-01</th>\n",
       "      <td>542680</td>\n",
       "      <td>542680</td>\n",
       "    </tr>\n",
       "    <tr>\n",
       "      <th>2018-10-01</th>\n",
       "      <td>1271899</td>\n",
       "      <td>1271899</td>\n",
       "    </tr>\n",
       "    <tr>\n",
       "      <th>2018-11-01</th>\n",
       "      <td>1158527</td>\n",
       "      <td>1158527</td>\n",
       "    </tr>\n",
       "    <tr>\n",
       "      <th>2018-12-01</th>\n",
       "      <td>1046956</td>\n",
       "      <td>1046956</td>\n",
       "    </tr>\n",
       "    <tr>\n",
       "      <th>2019-01-01</th>\n",
       "      <td>1127415</td>\n",
       "      <td>1127415</td>\n",
       "    </tr>\n",
       "  </tbody>\n",
       "</table>\n",
       "</div>"
      ],
      "text/plain": [
       "            customer_id    units\n",
       "t_dat                           \n",
       "2018-09-01       542680   542680\n",
       "2018-10-01      1271899  1271899\n",
       "2018-11-01      1158527  1158527\n",
       "2018-12-01      1046956  1046956\n",
       "2019-01-01      1127415  1127415"
      ]
     },
     "execution_count": 17,
     "metadata": {},
     "output_type": "execute_result"
    }
   ],
   "source": [
    "hm_sales_monthly = hm_sales[['customer_id', 'units']].resample('MS').count()\n",
    "hm_sales_monthly.head()"
   ]
  },
  {
   "cell_type": "code",
   "execution_count": 30,
   "id": "c267d949-2ceb-420b-a68d-561c253dd87d",
   "metadata": {
    "tags": []
   },
   "outputs": [
    {
     "data": {
      "application/vnd.plotly.v1+json": {
       "config": {
        "plotlyServerURL": "https://plot.ly"
       },
       "data": [
        {
         "hovertemplate": "t_dat=%{x}<br>units=%{y}<extra></extra>",
         "legendgroup": "",
         "line": {
          "color": "#636efa",
          "dash": "solid"
         },
         "marker": {
          "symbol": "circle"
         },
         "mode": "lines",
         "name": "",
         "orientation": "v",
         "showlegend": false,
         "type": "scatter",
         "x": [
          "2018-09-01T00:00:00",
          "2018-10-01T00:00:00",
          "2018-11-01T00:00:00",
          "2018-12-01T00:00:00",
          "2019-01-01T00:00:00",
          "2019-02-01T00:00:00",
          "2019-03-01T00:00:00",
          "2019-04-01T00:00:00",
          "2019-05-01T00:00:00",
          "2019-06-01T00:00:00",
          "2019-07-01T00:00:00",
          "2019-08-01T00:00:00",
          "2019-09-01T00:00:00",
          "2019-10-01T00:00:00",
          "2019-11-01T00:00:00",
          "2019-12-01T00:00:00",
          "2020-01-01T00:00:00",
          "2020-02-01T00:00:00",
          "2020-03-01T00:00:00",
          "2020-04-01T00:00:00",
          "2020-05-01T00:00:00",
          "2020-06-01T00:00:00",
          "2020-07-01T00:00:00",
          "2020-08-01T00:00:00",
          "2020-09-01T00:00:00"
         ],
         "xaxis": "x",
         "y": [
          542680,
          1271899,
          1158527,
          1046956,
          1127415,
          1036731,
          1150798,
          1332200,
          1413315,
          1722723,
          1639571,
          1138512,
          1107102,
          1044819,
          1084859,
          1020274,
          969993,
          907837,
          944409,
          1187909,
          1240875,
          1620318,
          1245813,
          1130550,
          727334
         ],
         "yaxis": "y"
        }
       ],
       "layout": {
        "legend": {
         "title": {
          "text": ""
         },
         "tracegroupgap": 0
        },
        "margin": {
         "t": 60
        },
        "template": {
         "data": {
          "bar": [
           {
            "error_x": {
             "color": "#2a3f5f"
            },
            "error_y": {
             "color": "#2a3f5f"
            },
            "marker": {
             "line": {
              "color": "#E5ECF6",
              "width": 0.5
             },
             "pattern": {
              "fillmode": "overlay",
              "size": 10,
              "solidity": 0.2
             }
            },
            "type": "bar"
           }
          ],
          "barpolar": [
           {
            "marker": {
             "line": {
              "color": "#E5ECF6",
              "width": 0.5
             },
             "pattern": {
              "fillmode": "overlay",
              "size": 10,
              "solidity": 0.2
             }
            },
            "type": "barpolar"
           }
          ],
          "carpet": [
           {
            "aaxis": {
             "endlinecolor": "#2a3f5f",
             "gridcolor": "white",
             "linecolor": "white",
             "minorgridcolor": "white",
             "startlinecolor": "#2a3f5f"
            },
            "baxis": {
             "endlinecolor": "#2a3f5f",
             "gridcolor": "white",
             "linecolor": "white",
             "minorgridcolor": "white",
             "startlinecolor": "#2a3f5f"
            },
            "type": "carpet"
           }
          ],
          "choropleth": [
           {
            "colorbar": {
             "outlinewidth": 0,
             "ticks": ""
            },
            "type": "choropleth"
           }
          ],
          "contour": [
           {
            "colorbar": {
             "outlinewidth": 0,
             "ticks": ""
            },
            "colorscale": [
             [
              0,
              "#0d0887"
             ],
             [
              0.1111111111111111,
              "#46039f"
             ],
             [
              0.2222222222222222,
              "#7201a8"
             ],
             [
              0.3333333333333333,
              "#9c179e"
             ],
             [
              0.4444444444444444,
              "#bd3786"
             ],
             [
              0.5555555555555556,
              "#d8576b"
             ],
             [
              0.6666666666666666,
              "#ed7953"
             ],
             [
              0.7777777777777778,
              "#fb9f3a"
             ],
             [
              0.8888888888888888,
              "#fdca26"
             ],
             [
              1,
              "#f0f921"
             ]
            ],
            "type": "contour"
           }
          ],
          "contourcarpet": [
           {
            "colorbar": {
             "outlinewidth": 0,
             "ticks": ""
            },
            "type": "contourcarpet"
           }
          ],
          "heatmap": [
           {
            "colorbar": {
             "outlinewidth": 0,
             "ticks": ""
            },
            "colorscale": [
             [
              0,
              "#0d0887"
             ],
             [
              0.1111111111111111,
              "#46039f"
             ],
             [
              0.2222222222222222,
              "#7201a8"
             ],
             [
              0.3333333333333333,
              "#9c179e"
             ],
             [
              0.4444444444444444,
              "#bd3786"
             ],
             [
              0.5555555555555556,
              "#d8576b"
             ],
             [
              0.6666666666666666,
              "#ed7953"
             ],
             [
              0.7777777777777778,
              "#fb9f3a"
             ],
             [
              0.8888888888888888,
              "#fdca26"
             ],
             [
              1,
              "#f0f921"
             ]
            ],
            "type": "heatmap"
           }
          ],
          "heatmapgl": [
           {
            "colorbar": {
             "outlinewidth": 0,
             "ticks": ""
            },
            "colorscale": [
             [
              0,
              "#0d0887"
             ],
             [
              0.1111111111111111,
              "#46039f"
             ],
             [
              0.2222222222222222,
              "#7201a8"
             ],
             [
              0.3333333333333333,
              "#9c179e"
             ],
             [
              0.4444444444444444,
              "#bd3786"
             ],
             [
              0.5555555555555556,
              "#d8576b"
             ],
             [
              0.6666666666666666,
              "#ed7953"
             ],
             [
              0.7777777777777778,
              "#fb9f3a"
             ],
             [
              0.8888888888888888,
              "#fdca26"
             ],
             [
              1,
              "#f0f921"
             ]
            ],
            "type": "heatmapgl"
           }
          ],
          "histogram": [
           {
            "marker": {
             "pattern": {
              "fillmode": "overlay",
              "size": 10,
              "solidity": 0.2
             }
            },
            "type": "histogram"
           }
          ],
          "histogram2d": [
           {
            "colorbar": {
             "outlinewidth": 0,
             "ticks": ""
            },
            "colorscale": [
             [
              0,
              "#0d0887"
             ],
             [
              0.1111111111111111,
              "#46039f"
             ],
             [
              0.2222222222222222,
              "#7201a8"
             ],
             [
              0.3333333333333333,
              "#9c179e"
             ],
             [
              0.4444444444444444,
              "#bd3786"
             ],
             [
              0.5555555555555556,
              "#d8576b"
             ],
             [
              0.6666666666666666,
              "#ed7953"
             ],
             [
              0.7777777777777778,
              "#fb9f3a"
             ],
             [
              0.8888888888888888,
              "#fdca26"
             ],
             [
              1,
              "#f0f921"
             ]
            ],
            "type": "histogram2d"
           }
          ],
          "histogram2dcontour": [
           {
            "colorbar": {
             "outlinewidth": 0,
             "ticks": ""
            },
            "colorscale": [
             [
              0,
              "#0d0887"
             ],
             [
              0.1111111111111111,
              "#46039f"
             ],
             [
              0.2222222222222222,
              "#7201a8"
             ],
             [
              0.3333333333333333,
              "#9c179e"
             ],
             [
              0.4444444444444444,
              "#bd3786"
             ],
             [
              0.5555555555555556,
              "#d8576b"
             ],
             [
              0.6666666666666666,
              "#ed7953"
             ],
             [
              0.7777777777777778,
              "#fb9f3a"
             ],
             [
              0.8888888888888888,
              "#fdca26"
             ],
             [
              1,
              "#f0f921"
             ]
            ],
            "type": "histogram2dcontour"
           }
          ],
          "mesh3d": [
           {
            "colorbar": {
             "outlinewidth": 0,
             "ticks": ""
            },
            "type": "mesh3d"
           }
          ],
          "parcoords": [
           {
            "line": {
             "colorbar": {
              "outlinewidth": 0,
              "ticks": ""
             }
            },
            "type": "parcoords"
           }
          ],
          "pie": [
           {
            "automargin": true,
            "type": "pie"
           }
          ],
          "scatter": [
           {
            "fillpattern": {
             "fillmode": "overlay",
             "size": 10,
             "solidity": 0.2
            },
            "type": "scatter"
           }
          ],
          "scatter3d": [
           {
            "line": {
             "colorbar": {
              "outlinewidth": 0,
              "ticks": ""
             }
            },
            "marker": {
             "colorbar": {
              "outlinewidth": 0,
              "ticks": ""
             }
            },
            "type": "scatter3d"
           }
          ],
          "scattercarpet": [
           {
            "marker": {
             "colorbar": {
              "outlinewidth": 0,
              "ticks": ""
             }
            },
            "type": "scattercarpet"
           }
          ],
          "scattergeo": [
           {
            "marker": {
             "colorbar": {
              "outlinewidth": 0,
              "ticks": ""
             }
            },
            "type": "scattergeo"
           }
          ],
          "scattergl": [
           {
            "marker": {
             "colorbar": {
              "outlinewidth": 0,
              "ticks": ""
             }
            },
            "type": "scattergl"
           }
          ],
          "scattermapbox": [
           {
            "marker": {
             "colorbar": {
              "outlinewidth": 0,
              "ticks": ""
             }
            },
            "type": "scattermapbox"
           }
          ],
          "scatterpolar": [
           {
            "marker": {
             "colorbar": {
              "outlinewidth": 0,
              "ticks": ""
             }
            },
            "type": "scatterpolar"
           }
          ],
          "scatterpolargl": [
           {
            "marker": {
             "colorbar": {
              "outlinewidth": 0,
              "ticks": ""
             }
            },
            "type": "scatterpolargl"
           }
          ],
          "scatterternary": [
           {
            "marker": {
             "colorbar": {
              "outlinewidth": 0,
              "ticks": ""
             }
            },
            "type": "scatterternary"
           }
          ],
          "surface": [
           {
            "colorbar": {
             "outlinewidth": 0,
             "ticks": ""
            },
            "colorscale": [
             [
              0,
              "#0d0887"
             ],
             [
              0.1111111111111111,
              "#46039f"
             ],
             [
              0.2222222222222222,
              "#7201a8"
             ],
             [
              0.3333333333333333,
              "#9c179e"
             ],
             [
              0.4444444444444444,
              "#bd3786"
             ],
             [
              0.5555555555555556,
              "#d8576b"
             ],
             [
              0.6666666666666666,
              "#ed7953"
             ],
             [
              0.7777777777777778,
              "#fb9f3a"
             ],
             [
              0.8888888888888888,
              "#fdca26"
             ],
             [
              1,
              "#f0f921"
             ]
            ],
            "type": "surface"
           }
          ],
          "table": [
           {
            "cells": {
             "fill": {
              "color": "#EBF0F8"
             },
             "line": {
              "color": "white"
             }
            },
            "header": {
             "fill": {
              "color": "#C8D4E3"
             },
             "line": {
              "color": "white"
             }
            },
            "type": "table"
           }
          ]
         },
         "layout": {
          "annotationdefaults": {
           "arrowcolor": "#2a3f5f",
           "arrowhead": 0,
           "arrowwidth": 1
          },
          "autotypenumbers": "strict",
          "coloraxis": {
           "colorbar": {
            "outlinewidth": 0,
            "ticks": ""
           }
          },
          "colorscale": {
           "diverging": [
            [
             0,
             "#8e0152"
            ],
            [
             0.1,
             "#c51b7d"
            ],
            [
             0.2,
             "#de77ae"
            ],
            [
             0.3,
             "#f1b6da"
            ],
            [
             0.4,
             "#fde0ef"
            ],
            [
             0.5,
             "#f7f7f7"
            ],
            [
             0.6,
             "#e6f5d0"
            ],
            [
             0.7,
             "#b8e186"
            ],
            [
             0.8,
             "#7fbc41"
            ],
            [
             0.9,
             "#4d9221"
            ],
            [
             1,
             "#276419"
            ]
           ],
           "sequential": [
            [
             0,
             "#0d0887"
            ],
            [
             0.1111111111111111,
             "#46039f"
            ],
            [
             0.2222222222222222,
             "#7201a8"
            ],
            [
             0.3333333333333333,
             "#9c179e"
            ],
            [
             0.4444444444444444,
             "#bd3786"
            ],
            [
             0.5555555555555556,
             "#d8576b"
            ],
            [
             0.6666666666666666,
             "#ed7953"
            ],
            [
             0.7777777777777778,
             "#fb9f3a"
            ],
            [
             0.8888888888888888,
             "#fdca26"
            ],
            [
             1,
             "#f0f921"
            ]
           ],
           "sequentialminus": [
            [
             0,
             "#0d0887"
            ],
            [
             0.1111111111111111,
             "#46039f"
            ],
            [
             0.2222222222222222,
             "#7201a8"
            ],
            [
             0.3333333333333333,
             "#9c179e"
            ],
            [
             0.4444444444444444,
             "#bd3786"
            ],
            [
             0.5555555555555556,
             "#d8576b"
            ],
            [
             0.6666666666666666,
             "#ed7953"
            ],
            [
             0.7777777777777778,
             "#fb9f3a"
            ],
            [
             0.8888888888888888,
             "#fdca26"
            ],
            [
             1,
             "#f0f921"
            ]
           ]
          },
          "colorway": [
           "#636efa",
           "#EF553B",
           "#00cc96",
           "#ab63fa",
           "#FFA15A",
           "#19d3f3",
           "#FF6692",
           "#B6E880",
           "#FF97FF",
           "#FECB52"
          ],
          "font": {
           "color": "#2a3f5f"
          },
          "geo": {
           "bgcolor": "white",
           "lakecolor": "white",
           "landcolor": "#E5ECF6",
           "showlakes": true,
           "showland": true,
           "subunitcolor": "white"
          },
          "hoverlabel": {
           "align": "left"
          },
          "hovermode": "closest",
          "mapbox": {
           "style": "light"
          },
          "paper_bgcolor": "white",
          "plot_bgcolor": "#E5ECF6",
          "polar": {
           "angularaxis": {
            "gridcolor": "white",
            "linecolor": "white",
            "ticks": ""
           },
           "bgcolor": "#E5ECF6",
           "radialaxis": {
            "gridcolor": "white",
            "linecolor": "white",
            "ticks": ""
           }
          },
          "scene": {
           "xaxis": {
            "backgroundcolor": "#E5ECF6",
            "gridcolor": "white",
            "gridwidth": 2,
            "linecolor": "white",
            "showbackground": true,
            "ticks": "",
            "zerolinecolor": "white"
           },
           "yaxis": {
            "backgroundcolor": "#E5ECF6",
            "gridcolor": "white",
            "gridwidth": 2,
            "linecolor": "white",
            "showbackground": true,
            "ticks": "",
            "zerolinecolor": "white"
           },
           "zaxis": {
            "backgroundcolor": "#E5ECF6",
            "gridcolor": "white",
            "gridwidth": 2,
            "linecolor": "white",
            "showbackground": true,
            "ticks": "",
            "zerolinecolor": "white"
           }
          },
          "shapedefaults": {
           "line": {
            "color": "#2a3f5f"
           }
          },
          "ternary": {
           "aaxis": {
            "gridcolor": "white",
            "linecolor": "white",
            "ticks": ""
           },
           "baxis": {
            "gridcolor": "white",
            "linecolor": "white",
            "ticks": ""
           },
           "bgcolor": "#E5ECF6",
           "caxis": {
            "gridcolor": "white",
            "linecolor": "white",
            "ticks": ""
           }
          },
          "title": {
           "x": 0.05
          },
          "xaxis": {
           "automargin": true,
           "gridcolor": "white",
           "linecolor": "white",
           "ticks": "",
           "title": {
            "standoff": 15
           },
           "zerolinecolor": "white",
           "zerolinewidth": 2
          },
          "yaxis": {
           "automargin": true,
           "gridcolor": "white",
           "linecolor": "white",
           "ticks": "",
           "title": {
            "standoff": 15
           },
           "zerolinecolor": "white",
           "zerolinewidth": 2
          }
         }
        },
        "title": {
         "text": "Monthly transaction number from 2018 - 2019"
        },
        "xaxis": {
         "anchor": "y",
         "domain": [
          0,
          1
         ],
         "title": {
          "text": "Year"
         }
        },
        "yaxis": {
         "anchor": "x",
         "domain": [
          0,
          1
         ],
         "title": {
          "text": "Number of transactions"
         }
        }
       }
      },
      "text/html": [
       "<div>                            <div id=\"8ab67cb7-db41-4d9d-84b5-f8c66a0a4851\" class=\"plotly-graph-div\" style=\"height:525px; width:100%;\"></div>            <script type=\"text/javascript\">                require([\"plotly\"], function(Plotly) {                    window.PLOTLYENV=window.PLOTLYENV || {};                                    if (document.getElementById(\"8ab67cb7-db41-4d9d-84b5-f8c66a0a4851\")) {                    Plotly.newPlot(                        \"8ab67cb7-db41-4d9d-84b5-f8c66a0a4851\",                        [{\"hovertemplate\":\"t_dat=%{x}\\u003cbr\\u003eunits=%{y}\\u003cextra\\u003e\\u003c\\u002fextra\\u003e\",\"legendgroup\":\"\",\"line\":{\"color\":\"#636efa\",\"dash\":\"solid\"},\"marker\":{\"symbol\":\"circle\"},\"mode\":\"lines\",\"name\":\"\",\"orientation\":\"v\",\"showlegend\":false,\"x\":[\"2018-09-01T00:00:00\",\"2018-10-01T00:00:00\",\"2018-11-01T00:00:00\",\"2018-12-01T00:00:00\",\"2019-01-01T00:00:00\",\"2019-02-01T00:00:00\",\"2019-03-01T00:00:00\",\"2019-04-01T00:00:00\",\"2019-05-01T00:00:00\",\"2019-06-01T00:00:00\",\"2019-07-01T00:00:00\",\"2019-08-01T00:00:00\",\"2019-09-01T00:00:00\",\"2019-10-01T00:00:00\",\"2019-11-01T00:00:00\",\"2019-12-01T00:00:00\",\"2020-01-01T00:00:00\",\"2020-02-01T00:00:00\",\"2020-03-01T00:00:00\",\"2020-04-01T00:00:00\",\"2020-05-01T00:00:00\",\"2020-06-01T00:00:00\",\"2020-07-01T00:00:00\",\"2020-08-01T00:00:00\",\"2020-09-01T00:00:00\"],\"xaxis\":\"x\",\"y\":[542680,1271899,1158527,1046956,1127415,1036731,1150798,1332200,1413315,1722723,1639571,1138512,1107102,1044819,1084859,1020274,969993,907837,944409,1187909,1240875,1620318,1245813,1130550,727334],\"yaxis\":\"y\",\"type\":\"scatter\"}],                        {\"template\":{\"data\":{\"histogram2dcontour\":[{\"type\":\"histogram2dcontour\",\"colorbar\":{\"outlinewidth\":0,\"ticks\":\"\"},\"colorscale\":[[0.0,\"#0d0887\"],[0.1111111111111111,\"#46039f\"],[0.2222222222222222,\"#7201a8\"],[0.3333333333333333,\"#9c179e\"],[0.4444444444444444,\"#bd3786\"],[0.5555555555555556,\"#d8576b\"],[0.6666666666666666,\"#ed7953\"],[0.7777777777777778,\"#fb9f3a\"],[0.8888888888888888,\"#fdca26\"],[1.0,\"#f0f921\"]]}],\"choropleth\":[{\"type\":\"choropleth\",\"colorbar\":{\"outlinewidth\":0,\"ticks\":\"\"}}],\"histogram2d\":[{\"type\":\"histogram2d\",\"colorbar\":{\"outlinewidth\":0,\"ticks\":\"\"},\"colorscale\":[[0.0,\"#0d0887\"],[0.1111111111111111,\"#46039f\"],[0.2222222222222222,\"#7201a8\"],[0.3333333333333333,\"#9c179e\"],[0.4444444444444444,\"#bd3786\"],[0.5555555555555556,\"#d8576b\"],[0.6666666666666666,\"#ed7953\"],[0.7777777777777778,\"#fb9f3a\"],[0.8888888888888888,\"#fdca26\"],[1.0,\"#f0f921\"]]}],\"heatmap\":[{\"type\":\"heatmap\",\"colorbar\":{\"outlinewidth\":0,\"ticks\":\"\"},\"colorscale\":[[0.0,\"#0d0887\"],[0.1111111111111111,\"#46039f\"],[0.2222222222222222,\"#7201a8\"],[0.3333333333333333,\"#9c179e\"],[0.4444444444444444,\"#bd3786\"],[0.5555555555555556,\"#d8576b\"],[0.6666666666666666,\"#ed7953\"],[0.7777777777777778,\"#fb9f3a\"],[0.8888888888888888,\"#fdca26\"],[1.0,\"#f0f921\"]]}],\"heatmapgl\":[{\"type\":\"heatmapgl\",\"colorbar\":{\"outlinewidth\":0,\"ticks\":\"\"},\"colorscale\":[[0.0,\"#0d0887\"],[0.1111111111111111,\"#46039f\"],[0.2222222222222222,\"#7201a8\"],[0.3333333333333333,\"#9c179e\"],[0.4444444444444444,\"#bd3786\"],[0.5555555555555556,\"#d8576b\"],[0.6666666666666666,\"#ed7953\"],[0.7777777777777778,\"#fb9f3a\"],[0.8888888888888888,\"#fdca26\"],[1.0,\"#f0f921\"]]}],\"contourcarpet\":[{\"type\":\"contourcarpet\",\"colorbar\":{\"outlinewidth\":0,\"ticks\":\"\"}}],\"contour\":[{\"type\":\"contour\",\"colorbar\":{\"outlinewidth\":0,\"ticks\":\"\"},\"colorscale\":[[0.0,\"#0d0887\"],[0.1111111111111111,\"#46039f\"],[0.2222222222222222,\"#7201a8\"],[0.3333333333333333,\"#9c179e\"],[0.4444444444444444,\"#bd3786\"],[0.5555555555555556,\"#d8576b\"],[0.6666666666666666,\"#ed7953\"],[0.7777777777777778,\"#fb9f3a\"],[0.8888888888888888,\"#fdca26\"],[1.0,\"#f0f921\"]]}],\"surface\":[{\"type\":\"surface\",\"colorbar\":{\"outlinewidth\":0,\"ticks\":\"\"},\"colorscale\":[[0.0,\"#0d0887\"],[0.1111111111111111,\"#46039f\"],[0.2222222222222222,\"#7201a8\"],[0.3333333333333333,\"#9c179e\"],[0.4444444444444444,\"#bd3786\"],[0.5555555555555556,\"#d8576b\"],[0.6666666666666666,\"#ed7953\"],[0.7777777777777778,\"#fb9f3a\"],[0.8888888888888888,\"#fdca26\"],[1.0,\"#f0f921\"]]}],\"mesh3d\":[{\"type\":\"mesh3d\",\"colorbar\":{\"outlinewidth\":0,\"ticks\":\"\"}}],\"scatter\":[{\"fillpattern\":{\"fillmode\":\"overlay\",\"size\":10,\"solidity\":0.2},\"type\":\"scatter\"}],\"parcoords\":[{\"type\":\"parcoords\",\"line\":{\"colorbar\":{\"outlinewidth\":0,\"ticks\":\"\"}}}],\"scatterpolargl\":[{\"type\":\"scatterpolargl\",\"marker\":{\"colorbar\":{\"outlinewidth\":0,\"ticks\":\"\"}}}],\"bar\":[{\"error_x\":{\"color\":\"#2a3f5f\"},\"error_y\":{\"color\":\"#2a3f5f\"},\"marker\":{\"line\":{\"color\":\"#E5ECF6\",\"width\":0.5},\"pattern\":{\"fillmode\":\"overlay\",\"size\":10,\"solidity\":0.2}},\"type\":\"bar\"}],\"scattergeo\":[{\"type\":\"scattergeo\",\"marker\":{\"colorbar\":{\"outlinewidth\":0,\"ticks\":\"\"}}}],\"scatterpolar\":[{\"type\":\"scatterpolar\",\"marker\":{\"colorbar\":{\"outlinewidth\":0,\"ticks\":\"\"}}}],\"histogram\":[{\"marker\":{\"pattern\":{\"fillmode\":\"overlay\",\"size\":10,\"solidity\":0.2}},\"type\":\"histogram\"}],\"scattergl\":[{\"type\":\"scattergl\",\"marker\":{\"colorbar\":{\"outlinewidth\":0,\"ticks\":\"\"}}}],\"scatter3d\":[{\"type\":\"scatter3d\",\"line\":{\"colorbar\":{\"outlinewidth\":0,\"ticks\":\"\"}},\"marker\":{\"colorbar\":{\"outlinewidth\":0,\"ticks\":\"\"}}}],\"scattermapbox\":[{\"type\":\"scattermapbox\",\"marker\":{\"colorbar\":{\"outlinewidth\":0,\"ticks\":\"\"}}}],\"scatterternary\":[{\"type\":\"scatterternary\",\"marker\":{\"colorbar\":{\"outlinewidth\":0,\"ticks\":\"\"}}}],\"scattercarpet\":[{\"type\":\"scattercarpet\",\"marker\":{\"colorbar\":{\"outlinewidth\":0,\"ticks\":\"\"}}}],\"carpet\":[{\"aaxis\":{\"endlinecolor\":\"#2a3f5f\",\"gridcolor\":\"white\",\"linecolor\":\"white\",\"minorgridcolor\":\"white\",\"startlinecolor\":\"#2a3f5f\"},\"baxis\":{\"endlinecolor\":\"#2a3f5f\",\"gridcolor\":\"white\",\"linecolor\":\"white\",\"minorgridcolor\":\"white\",\"startlinecolor\":\"#2a3f5f\"},\"type\":\"carpet\"}],\"table\":[{\"cells\":{\"fill\":{\"color\":\"#EBF0F8\"},\"line\":{\"color\":\"white\"}},\"header\":{\"fill\":{\"color\":\"#C8D4E3\"},\"line\":{\"color\":\"white\"}},\"type\":\"table\"}],\"barpolar\":[{\"marker\":{\"line\":{\"color\":\"#E5ECF6\",\"width\":0.5},\"pattern\":{\"fillmode\":\"overlay\",\"size\":10,\"solidity\":0.2}},\"type\":\"barpolar\"}],\"pie\":[{\"automargin\":true,\"type\":\"pie\"}]},\"layout\":{\"autotypenumbers\":\"strict\",\"colorway\":[\"#636efa\",\"#EF553B\",\"#00cc96\",\"#ab63fa\",\"#FFA15A\",\"#19d3f3\",\"#FF6692\",\"#B6E880\",\"#FF97FF\",\"#FECB52\"],\"font\":{\"color\":\"#2a3f5f\"},\"hovermode\":\"closest\",\"hoverlabel\":{\"align\":\"left\"},\"paper_bgcolor\":\"white\",\"plot_bgcolor\":\"#E5ECF6\",\"polar\":{\"bgcolor\":\"#E5ECF6\",\"angularaxis\":{\"gridcolor\":\"white\",\"linecolor\":\"white\",\"ticks\":\"\"},\"radialaxis\":{\"gridcolor\":\"white\",\"linecolor\":\"white\",\"ticks\":\"\"}},\"ternary\":{\"bgcolor\":\"#E5ECF6\",\"aaxis\":{\"gridcolor\":\"white\",\"linecolor\":\"white\",\"ticks\":\"\"},\"baxis\":{\"gridcolor\":\"white\",\"linecolor\":\"white\",\"ticks\":\"\"},\"caxis\":{\"gridcolor\":\"white\",\"linecolor\":\"white\",\"ticks\":\"\"}},\"coloraxis\":{\"colorbar\":{\"outlinewidth\":0,\"ticks\":\"\"}},\"colorscale\":{\"sequential\":[[0.0,\"#0d0887\"],[0.1111111111111111,\"#46039f\"],[0.2222222222222222,\"#7201a8\"],[0.3333333333333333,\"#9c179e\"],[0.4444444444444444,\"#bd3786\"],[0.5555555555555556,\"#d8576b\"],[0.6666666666666666,\"#ed7953\"],[0.7777777777777778,\"#fb9f3a\"],[0.8888888888888888,\"#fdca26\"],[1.0,\"#f0f921\"]],\"sequentialminus\":[[0.0,\"#0d0887\"],[0.1111111111111111,\"#46039f\"],[0.2222222222222222,\"#7201a8\"],[0.3333333333333333,\"#9c179e\"],[0.4444444444444444,\"#bd3786\"],[0.5555555555555556,\"#d8576b\"],[0.6666666666666666,\"#ed7953\"],[0.7777777777777778,\"#fb9f3a\"],[0.8888888888888888,\"#fdca26\"],[1.0,\"#f0f921\"]],\"diverging\":[[0,\"#8e0152\"],[0.1,\"#c51b7d\"],[0.2,\"#de77ae\"],[0.3,\"#f1b6da\"],[0.4,\"#fde0ef\"],[0.5,\"#f7f7f7\"],[0.6,\"#e6f5d0\"],[0.7,\"#b8e186\"],[0.8,\"#7fbc41\"],[0.9,\"#4d9221\"],[1,\"#276419\"]]},\"xaxis\":{\"gridcolor\":\"white\",\"linecolor\":\"white\",\"ticks\":\"\",\"title\":{\"standoff\":15},\"zerolinecolor\":\"white\",\"automargin\":true,\"zerolinewidth\":2},\"yaxis\":{\"gridcolor\":\"white\",\"linecolor\":\"white\",\"ticks\":\"\",\"title\":{\"standoff\":15},\"zerolinecolor\":\"white\",\"automargin\":true,\"zerolinewidth\":2},\"scene\":{\"xaxis\":{\"backgroundcolor\":\"#E5ECF6\",\"gridcolor\":\"white\",\"linecolor\":\"white\",\"showbackground\":true,\"ticks\":\"\",\"zerolinecolor\":\"white\",\"gridwidth\":2},\"yaxis\":{\"backgroundcolor\":\"#E5ECF6\",\"gridcolor\":\"white\",\"linecolor\":\"white\",\"showbackground\":true,\"ticks\":\"\",\"zerolinecolor\":\"white\",\"gridwidth\":2},\"zaxis\":{\"backgroundcolor\":\"#E5ECF6\",\"gridcolor\":\"white\",\"linecolor\":\"white\",\"showbackground\":true,\"ticks\":\"\",\"zerolinecolor\":\"white\",\"gridwidth\":2}},\"shapedefaults\":{\"line\":{\"color\":\"#2a3f5f\"}},\"annotationdefaults\":{\"arrowcolor\":\"#2a3f5f\",\"arrowhead\":0,\"arrowwidth\":1},\"geo\":{\"bgcolor\":\"white\",\"landcolor\":\"#E5ECF6\",\"subunitcolor\":\"white\",\"showland\":true,\"showlakes\":true,\"lakecolor\":\"white\"},\"title\":{\"x\":0.05},\"mapbox\":{\"style\":\"light\"}}},\"xaxis\":{\"anchor\":\"y\",\"domain\":[0.0,1.0],\"title\":{\"text\":\"Year\"}},\"yaxis\":{\"anchor\":\"x\",\"domain\":[0.0,1.0],\"title\":{\"text\":\"Number of transactions\"}},\"legend\":{\"tracegroupgap\":0,\"title\":{\"text\":\"\"}},\"margin\":{\"t\":60},\"title\":{\"text\":\"Monthly transaction number from 2018 - 2019\"}},                        {\"responsive\": true}                    ).then(function(){\n",
       "                            \n",
       "var gd = document.getElementById('8ab67cb7-db41-4d9d-84b5-f8c66a0a4851');\n",
       "var x = new MutationObserver(function (mutations, observer) {{\n",
       "        var display = window.getComputedStyle(gd).display;\n",
       "        if (!display || display === 'none') {{\n",
       "            console.log([gd, 'removed!']);\n",
       "            Plotly.purge(gd);\n",
       "            observer.disconnect();\n",
       "        }}\n",
       "}});\n",
       "\n",
       "// Listen for the removal of the full notebook cells\n",
       "var notebookContainer = gd.closest('#notebook-container');\n",
       "if (notebookContainer) {{\n",
       "    x.observe(notebookContainer, {childList: true});\n",
       "}}\n",
       "\n",
       "// Listen for the clearing of the current output cell\n",
       "var outputEl = gd.closest('.output');\n",
       "if (outputEl) {{\n",
       "    x.observe(outputEl, {childList: true});\n",
       "}}\n",
       "\n",
       "                        })                };                });            </script>        </div>"
      ]
     },
     "metadata": {},
     "output_type": "display_data"
    }
   ],
   "source": [
    "fig = px.line(hm_sales_monthly, x=hm_sales_monthly.index, y=\"units\",)\n",
    "fig.update_layout(\n",
    "    yaxis_title=\"Number of transactions\", \n",
    "    xaxis_title=\"Year\",\n",
    "    legend_title=\"\", \n",
    "    title=\"Monthly transaction number from 2018 - 2019\"\n",
    ")\n",
    "fig.show();"
   ]
  },
  {
   "cell_type": "code",
   "execution_count": 31,
   "id": "f989e7ee-5422-4735-8f72-3eabfd05e57f",
   "metadata": {},
   "outputs": [],
   "source": [
    "# fig.write_html('sales.html')"
   ]
  },
  {
   "cell_type": "markdown",
   "id": "532aab7d",
   "metadata": {},
   "source": [
    "We can spot a seasonal trend here, with number of transactions peaked at June each year."
   ]
  },
  {
   "cell_type": "markdown",
   "id": "aae5de76-1608-40e6-b4e0-a830b0cdaae4",
   "metadata": {},
   "source": [
    "# Next Steps"
   ]
  },
  {
   "cell_type": "markdown",
   "id": "07013d7d-1dd7-4a8f-b2d3-5c9fe76347c0",
   "metadata": {},
   "source": [
    "Here we breifly sum up the preliminary EDA with some future works:\n",
    "- Feature Engineering Oppurtunities\n",
    "    - Transactions are only aggregated with the number of units of each article. It cannot tell if a customer bought multiple different items in one order. We can retrieve this information by grouping t_dat and customer_id. The assumption here is a customer would only make one order maximum each day.\n",
    "    - Hierarchies can be seen from categorical variables that is related to products, might need feature engineering.\n",
    "    - As we are doing demand forecasting for the project, we need to create a lag feature of the time series\n",
    "- More EDA\n",
    "    - We haven't thoroughly look into all the categorical variables, maybe we can determine some key variables and drop those that are redundant after we figure out the hierarchies.\n",
    "    - We may want to look into individual product groups and see if there are differences in customer demographics. (Kmeans)"
   ]
  },
  {
   "cell_type": "markdown",
   "id": "d420dfb6-6e14-4ba8-a31e-0e990bfe0e3e",
   "metadata": {},
   "source": [
    "The goal for the next step EDA is to determine which attributes effects sales (n_transactions) the most. We might come up with a plotly dashboard in the next step to grasp an overall picture of our data."
   ]
  },
  {
   "cell_type": "markdown",
   "id": "c4d3ea8b-57a8-40c6-850d-a67ebaa2212f",
   "metadata": {},
   "source": [
    "# More EDA"
   ]
  },
  {
   "cell_type": "code",
   "execution_count": 35,
   "id": "4a367e06-ae4d-4b1e-9d76-a64046eb5387",
   "metadata": {},
   "outputs": [
    {
     "name": "stdout",
     "output_type": "stream",
     "text": [
      "<class 'pandas.core.frame.DataFrame'>\n",
      "DatetimeIndex: 28813419 entries, 2018-09-20 to 2020-09-22\n",
      "Data columns (total 24 columns):\n",
      " #   Column                        Dtype  \n",
      "---  ------                        -----  \n",
      " 0   customer_id                   object \n",
      " 1   article_id                    int64  \n",
      " 2   unit_price                    float64\n",
      " 3   units                         int64  \n",
      " 4   sales_channel                 object \n",
      " 5   prod_name                     object \n",
      " 6   product_type_name             object \n",
      " 7   product_group_name            object \n",
      " 8   graphical_appearance_name     object \n",
      " 9   colour_group_name             object \n",
      " 10  perceived_colour_value_name   object \n",
      " 11  perceived_colour_master_name  object \n",
      " 12  department_name               object \n",
      " 13  index_name                    object \n",
      " 14  index_group_name              object \n",
      " 15  section_name                  object \n",
      " 16  garment_group_name            object \n",
      " 17  detail_desc                   object \n",
      " 18  FN                            bool   \n",
      " 19  Active                        bool   \n",
      " 20  club_member_status            object \n",
      " 21  fashion_news_frequency        object \n",
      " 22  age                           float64\n",
      " 23  postal_code                   object \n",
      "dtypes: bool(2), float64(2), int64(2), object(18)\n",
      "memory usage: 5.0+ GB\n"
     ]
    }
   ],
   "source": [
    "hm_sales.info()"
   ]
  },
  {
   "cell_type": "markdown",
   "id": "c040f166-0e84-47cd-847e-f2e83272a392",
   "metadata": {},
   "source": [
    "Let's look at some colors!"
   ]
  },
  {
   "cell_type": "code",
   "execution_count": 37,
   "id": "ca8b5c1a-129b-410a-ac16-e3df9a6e29dc",
   "metadata": {},
   "outputs": [
    {
     "data": {
      "text/plain": [
       "array(['Light Pink', 'Black', 'Grey', 'Pink', 'Dark Grey', 'Dark Green',\n",
       "       'Dark Red', 'Turquoise', 'Light Beige', 'Yellow', 'Red',\n",
       "       'Light Grey', 'White', 'Blue', 'Dark Blue', 'Dark Beige', 'Beige',\n",
       "       'Light Orange', 'Light Purple', 'Off White', 'Greenish Khaki',\n",
       "       'Other Pink', 'Dark Turquoise', 'Dark Pink', 'Greyish Beige',\n",
       "       'Light Blue', 'Orange', 'Other Red', 'Dark Yellow', 'Light Yellow',\n",
       "       'Light Turquoise', 'Green', 'Silver', 'Other Blue', 'Gold',\n",
       "       'Dark Purple', 'Other', 'Dark Orange', 'Yellowish Brown',\n",
       "       'Other Purple', 'Light Green', 'Other Orange', 'Other Green',\n",
       "       'Purple', 'Light Red', 'Transparent', 'Other Yellow', 'Unknown',\n",
       "       'Other Turquoise', 'Bronze/Copper'], dtype=object)"
      ]
     },
     "execution_count": 37,
     "metadata": {},
     "output_type": "execute_result"
    }
   ],
   "source": [
    "hm_sales['colour_group_name'].unique()"
   ]
  },
  {
   "cell_type": "code",
   "execution_count": 38,
   "id": "71677422-6900-4f63-bf65-87591c9c7921",
   "metadata": {},
   "outputs": [
    {
     "data": {
      "text/plain": [
       "array(['Solid', 'Melange', 'All over pattern', 'Check', 'Front print',\n",
       "       'Placement print', 'Lace', 'Denim', 'Treatment', 'Stripe', 'Dot',\n",
       "       'Contrast', 'Colour blocking', 'Jacquard', 'Other structure',\n",
       "       'Embroidery', 'Other pattern', 'Glittering/Metallic', 'Neps',\n",
       "       'Mixed solid/pattern', 'Application/3D', 'Transparent', 'Metallic',\n",
       "       'Sequin', 'Chambray', 'Argyle', 'Unknown', 'Slub', 'Mesh',\n",
       "       'Hologram'], dtype=object)"
      ]
     },
     "execution_count": 38,
     "metadata": {},
     "output_type": "execute_result"
    }
   ],
   "source": [
    "hm_sales['graphical_appearance_name'].unique()"
   ]
  },
  {
   "cell_type": "code",
   "execution_count": 39,
   "id": "d056d4dd-bb92-4dc3-8499-d3c3497e469c",
   "metadata": {},
   "outputs": [
    {
     "data": {
      "text/plain": [
       "array(['Dusty Light', 'Dark', 'Medium Dusty', 'Medium', 'Bright', 'Light',\n",
       "       'Undefined', 'Unknown'], dtype=object)"
      ]
     },
     "execution_count": 39,
     "metadata": {},
     "output_type": "execute_result"
    }
   ],
   "source": [
    "hm_sales['perceived_colour_value_name'].unique()"
   ]
  },
  {
   "cell_type": "code",
   "execution_count": 40,
   "id": "470240c8-e0b4-447e-a473-ecc3eecdf8db",
   "metadata": {},
   "outputs": [
    {
     "data": {
      "text/plain": [
       "array(['Pink', 'Black', 'Unknown', 'Grey', 'Green', 'Red', 'Turquoise',\n",
       "       'Beige', 'Yellow', 'White', 'Blue', 'Brown', 'Orange',\n",
       "       'Lilac Purple', 'Khaki green', 'Mole', 'Metal', 'undefined',\n",
       "       'Yellowish Green', 'Bluish Green'], dtype=object)"
      ]
     },
     "execution_count": 40,
     "metadata": {},
     "output_type": "execute_result"
    }
   ],
   "source": [
    "hm_sales['perceived_colour_master_name'].unique()"
   ]
  },
  {
   "cell_type": "code",
   "execution_count": 43,
   "id": "323f9571-3510-4a89-9c1a-2c506466e2dd",
   "metadata": {},
   "outputs": [],
   "source": [
    "color_group = hm_sales.groupby(['perceived_colour_master_name', 'colour_group_name']).count().sort_values('perceived_colour_master_name')['customer_id'].reset_index()"
   ]
  },
  {
   "cell_type": "code",
   "execution_count": 52,
   "id": "57f9f06c-ca33-47af-95af-f59c951c93b5",
   "metadata": {},
   "outputs": [
    {
     "data": {
      "text/html": [
       "<div>\n",
       "<style scoped>\n",
       "    .dataframe tbody tr th:only-of-type {\n",
       "        vertical-align: middle;\n",
       "    }\n",
       "\n",
       "    .dataframe tbody tr th {\n",
       "        vertical-align: top;\n",
       "    }\n",
       "\n",
       "    .dataframe thead th {\n",
       "        text-align: right;\n",
       "    }\n",
       "</style>\n",
       "<table border=\"1\" class=\"dataframe\">\n",
       "  <thead>\n",
       "    <tr style=\"text-align: right;\">\n",
       "      <th></th>\n",
       "      <th>perceived_colour_master_name</th>\n",
       "      <th>colour_group_name</th>\n",
       "      <th>customer_id</th>\n",
       "    </tr>\n",
       "  </thead>\n",
       "  <tbody>\n",
       "    <tr>\n",
       "      <th>129</th>\n",
       "      <td>Unknown</td>\n",
       "      <td>White</td>\n",
       "      <td>93477</td>\n",
       "    </tr>\n",
       "    <tr>\n",
       "      <th>130</th>\n",
       "      <td>Unknown</td>\n",
       "      <td>Unknown</td>\n",
       "      <td>4972</td>\n",
       "    </tr>\n",
       "    <tr>\n",
       "      <th>131</th>\n",
       "      <td>Unknown</td>\n",
       "      <td>Light Grey</td>\n",
       "      <td>14474</td>\n",
       "    </tr>\n",
       "    <tr>\n",
       "      <th>132</th>\n",
       "      <td>Unknown</td>\n",
       "      <td>Off White</td>\n",
       "      <td>26781</td>\n",
       "    </tr>\n",
       "    <tr>\n",
       "      <th>133</th>\n",
       "      <td>Unknown</td>\n",
       "      <td>Dark Grey</td>\n",
       "      <td>50117</td>\n",
       "    </tr>\n",
       "    <tr>\n",
       "      <th>134</th>\n",
       "      <td>Unknown</td>\n",
       "      <td>Dark Blue</td>\n",
       "      <td>703</td>\n",
       "    </tr>\n",
       "    <tr>\n",
       "      <th>135</th>\n",
       "      <td>Unknown</td>\n",
       "      <td>Black</td>\n",
       "      <td>45618</td>\n",
       "    </tr>\n",
       "    <tr>\n",
       "      <th>136</th>\n",
       "      <td>Unknown</td>\n",
       "      <td>Grey</td>\n",
       "      <td>11808</td>\n",
       "    </tr>\n",
       "  </tbody>\n",
       "</table>\n",
       "</div>"
      ],
      "text/plain": [
       "    perceived_colour_master_name colour_group_name  customer_id\n",
       "129                      Unknown             White        93477\n",
       "130                      Unknown           Unknown         4972\n",
       "131                      Unknown        Light Grey        14474\n",
       "132                      Unknown         Off White        26781\n",
       "133                      Unknown         Dark Grey        50117\n",
       "134                      Unknown         Dark Blue          703\n",
       "135                      Unknown             Black        45618\n",
       "136                      Unknown              Grey        11808"
      ]
     },
     "execution_count": 52,
     "metadata": {},
     "output_type": "execute_result"
    }
   ],
   "source": [
    "color_group[color_group['perceived_colour_master_name']=='Unknown']"
   ]
  },
  {
   "cell_type": "code",
   "execution_count": 56,
   "id": "2997fed6-3856-4796-ab10-9abf953eb295",
   "metadata": {},
   "outputs": [
    {
     "data": {
      "text/html": [
       "<div>\n",
       "<style scoped>\n",
       "    .dataframe tbody tr th:only-of-type {\n",
       "        vertical-align: middle;\n",
       "    }\n",
       "\n",
       "    .dataframe tbody tr th {\n",
       "        vertical-align: top;\n",
       "    }\n",
       "\n",
       "    .dataframe thead th {\n",
       "        text-align: right;\n",
       "    }\n",
       "</style>\n",
       "<table border=\"1\" class=\"dataframe\">\n",
       "  <thead>\n",
       "    <tr style=\"text-align: right;\">\n",
       "      <th></th>\n",
       "      <th>perceived_colour_master_name</th>\n",
       "      <th>colour_group_name</th>\n",
       "      <th>customer_id</th>\n",
       "    </tr>\n",
       "  </thead>\n",
       "  <tbody>\n",
       "    <tr>\n",
       "      <th>16</th>\n",
       "      <td>Blue</td>\n",
       "      <td>Blue</td>\n",
       "      <td>963553</td>\n",
       "    </tr>\n",
       "    <tr>\n",
       "      <th>17</th>\n",
       "      <td>Blue</td>\n",
       "      <td>Dark Blue</td>\n",
       "      <td>1958137</td>\n",
       "    </tr>\n",
       "    <tr>\n",
       "      <th>18</th>\n",
       "      <td>Blue</td>\n",
       "      <td>Dark Purple</td>\n",
       "      <td>43</td>\n",
       "    </tr>\n",
       "    <tr>\n",
       "      <th>19</th>\n",
       "      <td>Blue</td>\n",
       "      <td>Grey</td>\n",
       "      <td>13581</td>\n",
       "    </tr>\n",
       "    <tr>\n",
       "      <th>20</th>\n",
       "      <td>Blue</td>\n",
       "      <td>Light Blue</td>\n",
       "      <td>816088</td>\n",
       "    </tr>\n",
       "    <tr>\n",
       "      <th>21</th>\n",
       "      <td>Blue</td>\n",
       "      <td>Light Grey</td>\n",
       "      <td>757</td>\n",
       "    </tr>\n",
       "    <tr>\n",
       "      <th>22</th>\n",
       "      <td>Blue</td>\n",
       "      <td>Light Turquoise</td>\n",
       "      <td>11683</td>\n",
       "    </tr>\n",
       "    <tr>\n",
       "      <th>23</th>\n",
       "      <td>Blue</td>\n",
       "      <td>Other Blue</td>\n",
       "      <td>7403</td>\n",
       "    </tr>\n",
       "    <tr>\n",
       "      <th>24</th>\n",
       "      <td>Blue</td>\n",
       "      <td>Turquoise</td>\n",
       "      <td>4783</td>\n",
       "    </tr>\n",
       "  </tbody>\n",
       "</table>\n",
       "</div>"
      ],
      "text/plain": [
       "   perceived_colour_master_name colour_group_name  customer_id\n",
       "16                         Blue              Blue       963553\n",
       "17                         Blue         Dark Blue      1958137\n",
       "18                         Blue       Dark Purple           43\n",
       "19                         Blue              Grey        13581\n",
       "20                         Blue        Light Blue       816088\n",
       "21                         Blue        Light Grey          757\n",
       "22                         Blue   Light Turquoise        11683\n",
       "23                         Blue        Other Blue         7403\n",
       "24                         Blue         Turquoise         4783"
      ]
     },
     "execution_count": 56,
     "metadata": {},
     "output_type": "execute_result"
    }
   ],
   "source": [
    "color_group[color_group['perceived_colour_master_name']=='Blue']"
   ]
  },
  {
   "cell_type": "code",
   "execution_count": null,
   "id": "e6d15211-721e-4799-ae38-701d9340a75f",
   "metadata": {},
   "outputs": [],
   "source": []
  }
 ],
 "metadata": {
  "kernelspec": {
   "display_name": "timeseries",
   "language": "python",
   "name": "timeseries"
  },
  "language_info": {
   "codemirror_mode": {
    "name": "ipython",
    "version": 3
   },
   "file_extension": ".py",
   "mimetype": "text/x-python",
   "name": "python",
   "nbconvert_exporter": "python",
   "pygments_lexer": "ipython3",
   "version": "3.11.4"
  },
  "toc-autonumbering": false,
  "toc-showcode": false,
  "toc-showmarkdowntxt": false,
  "toc-showtags": false
 },
 "nbformat": 4,
 "nbformat_minor": 5
}
