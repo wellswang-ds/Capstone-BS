{
 "cells": [
  {
   "cell_type": "code",
   "execution_count": 51,
   "id": "937e55b1-a26b-4803-8807-84f554b63a68",
   "metadata": {
    "tags": []
   },
   "outputs": [],
   "source": [
    "import numpy as np\n",
    "def majovote(l):\n",
    "    # Getting the list of unique elements in the list\n",
    "    k = list(set(a))\n",
    "    \n",
    "    # value counts for each elements\n",
    "    v = [l.count(i) for i in k] \n",
    "    \n",
    "    # Checking if the max value is larger than N/2\n",
    "    if max(v) >= len(l)/2:\n",
    "    \n",
    "        # finding the position(index) max value occurence (since the majority vote must be max value if exists)\n",
    "        mv_index = np.argmax(v)\n",
    "        \n",
    "        # Getting the actual element name at index = mv_index\n",
    "        mv = k[mv_index]\n",
    "        print(f'the majority vote is {mv}')\n",
    "        \n",
    "    else:\n",
    "        print('No majority vote!')"
   ]
  },
  {
   "cell_type": "code",
   "execution_count": 52,
   "id": "f5c619ff-f6d6-4741-ab15-78495e9b036d",
   "metadata": {
    "tags": []
   },
   "outputs": [
    {
     "name": "stdout",
     "output_type": "stream",
     "text": [
      "the majority vote is 2\n"
     ]
    }
   ],
   "source": [
    "l = [1,2,22,2,2,2,2,3]\n",
    "majovote(l)"
   ]
  },
  {
   "cell_type": "code",
   "execution_count": 53,
   "id": "48718a5d-f297-4f9e-aa03-5812e44c0986",
   "metadata": {
    "tags": []
   },
   "outputs": [],
   "source": [
    "l = [1,2,3,4,5,6,7,8,8]\n",
    "majovote(l)"
   ]
  }
 ],
 "metadata": {
  "kernelspec": {
   "display_name": "Python 3 (ipykernel)",
   "language": "python",
   "name": "python3"
  },
  "language_info": {
   "codemirror_mode": {
    "name": "ipython",
    "version": 3
   },
   "file_extension": ".py",
   "mimetype": "text/x-python",
   "name": "python",
   "nbconvert_exporter": "python",
   "pygments_lexer": "ipython3",
   "version": "3.9.18"
  }
 },
 "nbformat": 4,
 "nbformat_minor": 5
}
