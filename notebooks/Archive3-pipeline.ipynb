{
 "cells": [
  {
   "cell_type": "code",
   "execution_count": 1,
   "id": "75e9a605-be24-4394-9ff5-395fb24d72e7",
   "metadata": {
    "tags": []
   },
   "outputs": [
    {
     "name": "stderr",
     "output_type": "stream",
     "text": [
      "[nltk_data] Downloading package stopwords to\n",
      "[nltk_data]     /Users/wellswang/nltk_data...\n",
      "[nltk_data]   Package stopwords is already up-to-date!\n",
      "[nltk_data] Downloading package punkt to /Users/wellswang/nltk_data...\n",
      "[nltk_data]   Package punkt is already up-to-date!\n",
      "[nltk_data] Downloading package averaged_perceptron_tagger to\n",
      "[nltk_data]     /Users/wellswang/nltk_data...\n",
      "[nltk_data]   Package averaged_perceptron_tagger is already up-to-\n",
      "[nltk_data]       date!\n",
      "[nltk_data] Downloading package wordnet to\n",
      "[nltk_data]     /Users/wellswang/nltk_data...\n",
      "[nltk_data]   Package wordnet is already up-to-date!\n"
     ]
    }
   ],
   "source": [
    "import numpy as np\n",
    "import pandas as pd\n",
    "import matplotlib.pyplot as plt\n",
    "import seaborn as sns\n",
    "# from statsmodels.regression import linear_model\n",
    "# import statsmodels.api as sm\n",
    "from scipy import stats\n",
    "import plotly.express as px\n",
    "from plotly.subplots import make_subplots\n",
    "import plotly.graph_objs as go\n",
    "import warnings\n",
    "\n",
    "#a bunch of imports!\n",
    "from sklearn.model_selection import train_test_split\n",
    "from sklearn.linear_model import LogisticRegression, LogisticRegressionCV\n",
    "from sklearn.preprocessing import StandardScaler\n",
    "from sklearn.decomposition import PCA\n",
    "from sklearn.tree import DecisionTreeClassifier\n",
    "from sklearn.pipeline import Pipeline\n",
    "from sklearn.model_selection import GridSearchCV\n",
    "from sklearn.model_selection import cross_val_score\n",
    "from sklearn.metrics import accuracy_score\n",
    "from sklearn.preprocessing import OneHotEncoder\n",
    "from sklearn.compose import ColumnTransformer\n",
    "import joblib\n",
    "\n",
    "# Text Processing\n",
    "import string\n",
    "import nltk\n",
    "import re \n",
    "# from sklearn.feature_extraction.text import CountVectorizer\n",
    "from sklearn.feature_extraction.text import TfidfVectorizer\n",
    "nltk.download('stopwords')\n",
    "from nltk.corpus import stopwords \n",
    "from nltk.stem import PorterStemmer\n",
    "\n",
    "\n",
    "# Lemmatization\n",
    "\n",
    "from nltk.stem import WordNetLemmatizer\n",
    "from nltk.corpus import wordnet\n",
    "from nltk.tokenize import word_tokenize\n",
    "from nltk.tag import pos_tag\n",
    "nltk.download('punkt')\n",
    "nltk.download('averaged_perceptron_tagger')\n",
    "nltk.download('wordnet')\n",
    "\n",
    "# Imbalance learning\n",
    "from sklearn.utils import resample\n",
    "\n",
    "# Model Evaluation\n",
    "from sklearn.metrics import classification_report\n",
    "from sklearn.metrics import confusion_matrix, ConfusionMatrixDisplay\n",
    "\n",
    "warnings.filterwarnings('ignore')\n",
    "%matplotlib inline"
   ]
  },
  {
   "cell_type": "markdown",
   "id": "53cbbffe-75aa-498f-b77c-c51b64597eba",
   "metadata": {},
   "source": [
    "# Advanced ML Modelling"
   ]
  },
  {
   "cell_type": "markdown",
   "id": "dc52eef9-a4c3-4441-b1bf-e878e9f67b79",
   "metadata": {},
   "source": [
    "Using the baseline models and model evaluation strategy you built in the previous part, we will springboard into advanced model building, optimization, evaluation and interpretation. Here are the steps:\n",
    "- Create a pipeline for tokenization, scaling, and imbalanced learning\n",
    "- Implement the pipeline for hyperparameter optimization with baseline model\n",
    "- Apply the methods to other ML models"
   ]
  },
  {
   "cell_type": "markdown",
   "id": "e98b4876-acfb-4a3b-bb55-9b2bea9e2ce8",
   "metadata": {},
   "source": [
    "## Input Features"
   ]
  },
  {
   "cell_type": "markdown",
   "id": "837a711a-c855-4f32-b826-7cc5d31a2e62",
   "metadata": {},
   "source": [
    "Finally, we will continue with feature engineering our variables."
   ]
  },
  {
   "cell_type": "code",
   "execution_count": 5,
   "id": "4389553d-e5e1-4dd8-b418-62b4f1585705",
   "metadata": {},
   "outputs": [],
   "source": [
    "# Read if start from here\n",
    "prod_df= pd.read_csv('data/prod_df.csv')"
   ]
  },
  {
   "cell_type": "markdown",
   "id": "f724a162-0b4b-4b85-b136-15f2e4d5dc00",
   "metadata": {},
   "source": [
    "### Vectorization"
   ]
  },
  {
   "cell_type": "markdown",
   "id": "bfbae258-f56d-4ebb-8de9-a1282106880a",
   "metadata": {},
   "source": [
    "We have a product description column, we can vectorize this feature for modelling. Here we will also vectorize the product name."
   ]
  },
  {
   "cell_type": "code",
   "execution_count": 7,
   "id": "48adce5b-98ee-4e76-8b0f-2d67eb935e6a",
   "metadata": {},
   "outputs": [
    {
     "name": "stdout",
     "output_type": "stream",
     "text": [
      "(28962, 131) (7241, 131)\n"
     ]
    }
   ],
   "source": [
    "# One-Hot Encoding\n",
    "categorical_columns = ['product_type_name', 'product_group_name', 'index_group_name', 'section_name', 'graphical_appearance_name']\n",
    "df_encoded = pd.get_dummies(prod_df, columns=categorical_columns, drop_first=True)\n",
    "df_encoded.shape\n",
    "\n",
    "# Spliting features X and target y (Reviewer Score)\n",
    "X = df_encoded.drop('trending', axis=1)\n",
    "y = df_encoded['trending']\n",
    "\n",
    "# Train/Test split\n",
    "X_train, X_test, y_train, y_test = train_test_split(X, y, test_size=0.2, stratify=y, random_state=123)\n",
    "print(X_train.shape, X_test.shape)"
   ]
  },
  {
   "cell_type": "markdown",
   "id": "a2c108a6-6216-488a-875b-77f9f4427e41",
   "metadata": {},
   "source": [
    "Let's split the X_train, X_test into positive reviews, negative reviews, and other."
   ]
  },
  {
   "cell_type": "code",
   "execution_count": 8,
   "id": "6d750423-90de-45dc-81cd-e6352f745735",
   "metadata": {},
   "outputs": [],
   "source": [
    "# Splitting X_train and X_test into desired 3 tables\n",
    "X_train_name = X_train['prod_name']\n",
    "X_train_desc = X_train['detail_desc']\n",
    "X_train_og = X_train.drop(columns=['prod_name', 'detail_desc'], axis=1)\n",
    "\n",
    "X_test_name = X_test['prod_name']\n",
    "X_test_desc = X_test['detail_desc']\n",
    "X_test_og = X_test.drop(columns=['prod_name', 'detail_desc'], axis=1)"
   ]
  },
  {
   "cell_type": "markdown",
   "id": "a4508b2c-ae37-44e2-9461-557672f18d28",
   "metadata": {},
   "source": [
    "Now that we have them separated, we can continue to deal with the reviews and leave the others aside for now. "
   ]
  },
  {
   "cell_type": "code",
   "execution_count": 9,
   "id": "6a2b3079-502e-49e9-ac7e-501eaaa7398f",
   "metadata": {},
   "outputs": [
    {
     "data": {
      "text/plain": [
       "prod_name\n",
       "Molly dress         7\n",
       "Bella dress         6\n",
       "Dolly dress         6\n",
       "Bowie               6\n",
       "Ruby                6\n",
       "Daisy               6\n",
       "Melrose             6\n",
       "Rose                5\n",
       "Presley PU skirt    5\n",
       "Cora                5\n",
       "Name: count, dtype: int64"
      ]
     },
     "execution_count": 9,
     "metadata": {},
     "output_type": "execute_result"
    }
   ],
   "source": [
    "X_train_name.value_counts(sort=True, ascending=False)[0:10]"
   ]
  },
  {
   "cell_type": "code",
   "execution_count": 10,
   "id": "481aef9a-3c3c-4cd3-92ff-83fd8058b0eb",
   "metadata": {},
   "outputs": [
    {
     "data": {
      "text/plain": [
       "detail_desc\n",
       "                                                                                                          100\n",
       "T-shirt in printed cotton jersey.                                                                          18\n",
       "Boxer shorts in a cotton weave with an elasticated waist, long legs and button fly.                        12\n",
       "Leggings in soft cotton jersey with an elasticated waist.                                                  12\n",
       "T-shirt in soft cotton jersey with a print motif on the front.                                             10\n",
       "T-shirt in cotton jersey with a print motif on the front.                                                  10\n",
       "Leggings in soft organic cotton jersey with an elasticated waist.                                          10\n",
       "Trunks in stretch cotton jersey with flatlock seams, short legs, an elasticated waist and lined front.     10\n",
       "Boxer shorts in cotton jersey with short legs, an elasticated waist and lined front.                       10\n",
       "T-shirt in soft, printed cotton jersey.                                                                     9\n",
       "Name: count, dtype: int64"
      ]
     },
     "execution_count": 10,
     "metadata": {},
     "output_type": "execute_result"
    }
   ],
   "source": [
    "X_train_desc.value_counts(sort=True, ascending=False)[0:10]"
   ]
  },
  {
   "cell_type": "markdown",
   "id": "2a524908-1f0b-4c38-9640-351b5f4991c4",
   "metadata": {},
   "source": [
    "Let's get our custom tokenizer."
   ]
  },
  {
   "cell_type": "markdown",
   "id": "222eacfa-26f6-4e43-a220-13b644bd364a",
   "metadata": {},
   "source": [
    "**Tokenizer - Custom - Lemmatization**"
   ]
  },
  {
   "cell_type": "code",
   "execution_count": 11,
   "id": "e006b38e-89eb-4d65-9ea3-4e0e755b57be",
   "metadata": {},
   "outputs": [],
   "source": [
    "# Custom tokenizer using lemmatizing\n",
    "def get_wordnet_pos(treebank_tag):\n",
    "    if treebank_tag.startswith('J'):\n",
    "        return wordnet.ADJ\n",
    "    elif treebank_tag.startswith('V'):\n",
    "        return wordnet.VERB\n",
    "    elif treebank_tag.startswith('N'):\n",
    "        return wordnet.NOUN\n",
    "    elif treebank_tag.startswith('R'):\n",
    "        return wordnet.ADV\n",
    "    else:\n",
    "        return wordnet.NOUN\n",
    "\n",
    "\n",
    "lemmatizer = WordNetLemmatizer()\n",
    "\n",
    "ENGLISH_STOP_WORDS = stopwords.words('english')\n",
    "# Include words we want to clean in stop words\n",
    "# ENGLISH_STOP_WORDS.extend(['none','no', 'nothing','n','a','negative','positive'])\n",
    "\n",
    "def my_lemma_tokenizer(sentence):\n",
    "    # # remove punctuation, numbers, and set to lower case\n",
    "    # sentence = re.sub(r'[^a-zA-Z\\s]', '', sentence).lower()\n",
    "    \n",
    "    # remove punctuation and set to lower case\n",
    "    for punctuation_mark in string.punctuation:\n",
    "        sentence = sentence.replace(punctuation_mark,'').lower()\n",
    "\n",
    "    # split sentence into words\n",
    "    listofwords = sentence.split(' ')\n",
    "    pos_tags = nltk.pos_tag(listofwords)\n",
    "    listoflemmatized_words = []\n",
    "    \n",
    "    # remove stopwords and any tokens that are just empty strings\n",
    "    for word, tag in pos_tags:\n",
    "        if (not word in ENGLISH_STOP_WORDS) and (word!=''):\n",
    "            # Lemmatized words\n",
    "            \n",
    "            lemmatized_word = lemmatizer.lemmatize(word,get_wordnet_pos(tag))\n",
    "            listoflemmatized_words.append(lemmatized_word)\n",
    "\n",
    "    return listoflemmatized_words"
   ]
  },
  {
   "cell_type": "markdown",
   "id": "9021e3fe-6c87-4761-bc95-7e7bc313511d",
   "metadata": {},
   "source": [
    "## Imbalanced Learning"
   ]
  },
  {
   "cell_type": "markdown",
   "id": "75c50f52-db45-4e88-a70a-b1a02a00c35c",
   "metadata": {},
   "source": [
    "Since our data is imbalanced, it would be better if we had introduce some upsampling to our dataset."
   ]
  },
  {
   "cell_type": "markdown",
   "id": "107cd7fc-55ba-4693-b480-f346e62d74c6",
   "metadata": {},
   "source": [
    "### SMOTE"
   ]
  },
  {
   "cell_type": "code",
   "execution_count": 49,
   "id": "4861b6ce-320e-4698-ab37-c5a71eda1703",
   "metadata": {},
   "outputs": [
    {
     "name": "stdout",
     "output_type": "stream",
     "text": [
      "(51792, 1129) (51792,)\n"
     ]
    }
   ],
   "source": [
    "# Upsampling with SMOTE\n",
    "from imblearn.over_sampling import SMOTE\n",
    "sampler = SMOTE(random_state=123)\n",
    "X_train_res, y_train_res = sampler.fit_resample(X_train, y_train)\n",
    "print(X_train_res.shape, y_train_res.shape)"
   ]
  },
  {
   "cell_type": "markdown",
   "id": "01f742bf-2e03-419c-a944-6136f9d57501",
   "metadata": {},
   "source": [
    "**Fitting the Model**"
   ]
  },
  {
   "cell_type": "code",
   "execution_count": 50,
   "id": "fd09dbee-9d09-4f8d-ba81-c7c06d8ff652",
   "metadata": {},
   "outputs": [
    {
     "name": "stdout",
     "output_type": "stream",
     "text": [
      "Train score: 0.8692269076305221\n",
      "Test score: 0.8091423836486673\n"
     ]
    }
   ],
   "source": [
    "# Standard scaling the features\n",
    "scaler = StandardScaler()\n",
    "X_train_ss = scaler.fit_transform(X_train_res)\n",
    "X_test_ss = scaler.transform(X_test)\n",
    "\n",
    "# Fitting the model\n",
    "logreg = LogisticRegression(random_state=123)\n",
    "logreg.fit(X_train_ss, y_train_res)\n",
    "\n",
    "# Training and test score\n",
    "print(f\"Train score: {logreg.score(X_train_ss, y_train_res)}\")\n",
    "print(f\"Test score: {logreg.score(X_test_ss, y_test)}\")"
   ]
  },
  {
   "cell_type": "markdown",
   "id": "eaa22acb-d30e-4d82-ba7a-1ed71b1730c9",
   "metadata": {},
   "source": [
    "**Evaluating the Model**"
   ]
  },
  {
   "cell_type": "code",
   "execution_count": 51,
   "id": "cb778ceb-19a4-4a09-bd1a-6f8d5cb6eff6",
   "metadata": {},
   "outputs": [
    {
     "data": {
      "image/png": "[encoded data removed]",
      "text/plain": [
       "<Figure size 640x480 with 2 Axes>"
      ]
     },
     "metadata": {},
     "output_type": "display_data"
    }
   ],
   "source": [
    "# Evaluate with confusion matrix\n",
    "ConfusionMatrixDisplay.from_estimator(logreg, X_test_ss, y_test)\n",
    "plt.show()"
   ]
  },
  {
   "cell_type": "code",
   "execution_count": 52,
   "id": "86bfb15d-eca1-486a-baf1-bd94db8e39e5",
   "metadata": {
    "scrolled": true
   },
   "outputs": [
    {
     "name": "stdout",
     "output_type": "stream",
     "text": [
      "              precision    recall  f1-score   support\n",
      "\n",
      "       False       0.97      0.81      0.88      6475\n",
      "        True       0.33      0.78      0.46       766\n",
      "\n",
      "    accuracy                           0.81      7241\n",
      "   macro avg       0.65      0.79      0.67      7241\n",
      "weighted avg       0.90      0.81      0.84      7241\n",
      "\n"
     ]
    }
   ],
   "source": [
    "# evaluate on the original test set\n",
    "y_pred = logreg.predict(X_test_ss)\n",
    "\n",
    "# classification report\n",
    "print(classification_report(y_test, y_pred))"
   ]
  },
  {
   "cell_type": "markdown",
   "id": "4abeb520-5751-4ee9-9858-cf16dda631ce",
   "metadata": {},
   "source": [
    "- Here we can see that we have a more satisfactory recall score, we can detect 78% of the trending items with this baseline model!"
   ]
  },
  {
   "cell_type": "code",
   "execution_count": 53,
   "id": "4f0c3fa6-e926-4798-adce-ce961db93549",
   "metadata": {},
   "outputs": [
    {
     "data": {
      "text/plain": [
       "0.18687258687258687"
      ]
     },
     "execution_count": 53,
     "metadata": {},
     "output_type": "execute_result"
    }
   ],
   "source": [
    "def false_positive_rate(y_true, y_pred):\n",
    "    \n",
    "    false_positives = (y_true == 0) & (y_pred == 1) # find all values where y is negative\n",
    "                                                    # but we predicted positive\n",
    "    false_positive_number = false_positives.sum()\n",
    "\n",
    "    true_negatives = (y_true == 0) & (y_pred == 0)  # find all values where y is negative\n",
    "                                                    # and we predicted negative\n",
    "    true_negative_number = true_negatives.sum()\n",
    "\n",
    "    # Finally, find the ratio of (FP) to (TN + FP)\n",
    "    FPR = false_positive_number/(true_negative_number + false_positive_number)\n",
    "    \n",
    "    return FPR\n",
    "fpr = false_positive_rate(y_test, y_pred)\n",
    "fpr"
   ]
  },
  {
   "cell_type": "markdown",
   "id": "626ddeea-d6c2-4c49-b9fc-09c198db925a",
   "metadata": {},
   "source": [
    "## Pipe"
   ]
  },
  {
   "cell_type": "code",
   "execution_count": 86,
   "id": "9e4c93a7-ca30-4eba-a08a-9993fa56d0ac",
   "metadata": {},
   "outputs": [
    {
     "name": "stdout",
     "output_type": "stream",
     "text": [
      "(28962, 9) (7241, 9)\n"
     ]
    }
   ],
   "source": [
    "# Spliting features X and target y (Reviewer Score)\n",
    "X = prod_df.drop('trending', axis=1)\n",
    "y = prod_df['trending']\n",
    "\n",
    "# Train/Test split\n",
    "X_train, X_test, y_train, y_test = train_test_split(X, y, test_size=0.2, stratify=y, random_state=123)\n",
    "print(X_train.shape, X_test.shape)\n",
    "\n",
    "# Columns for one-hot encoding\n",
    "categorical_columns = ['product_type_name', 'product_group_name', 'index_group_name', 'section_name', 'graphical_appearance_name']\n",
    "\n",
    "# Create the column transformations list + columns to which to apply\n",
    "col_transforms = [('desc', TfidfVectorizer(max_features=200, min_df=10, tokenizer=my_lemma_tokenizer, ngram_range=(1, 3)), 'detail_desc'),\n",
    "                  ('name', TfidfVectorizer(max_features=200, min_df=10, tokenizer=my_lemma_tokenizer, ngram_range=(1, 3)), 'prod_name'),\n",
    "                  ('normalise', StandardScaler(), ['unit_price']),\n",
    "                  ('cat', OneHotEncoder(drop='first'), categorical_columns)\n",
    "                 ]\n",
    "\n",
    "\n",
    "# Create the column transformer\n",
    "col_trans = ColumnTransformer(col_transforms)"
   ]
  },
  {
   "cell_type": "code",
   "execution_count": 87,
   "id": "cc3ff355-6e4e-4178-b689-d208aabcab85",
   "metadata": {},
   "outputs": [
    {
     "data": {
      "text/html": [
       "<div>\n",
       "<style scoped>\n",
       "    .dataframe tbody tr th:only-of-type {\n",
       "        vertical-align: middle;\n",
       "    }\n",
       "\n",
       "    .dataframe tbody tr th {\n",
       "        vertical-align: top;\n",
       "    }\n",
       "\n",
       "    .dataframe thead th {\n",
       "        text-align: right;\n",
       "    }\n",
       "</style>\n",
       "<table border=\"1\" class=\"dataframe\">\n",
       "  <thead>\n",
       "    <tr style=\"text-align: right;\">\n",
       "      <th></th>\n",
       "      <th>desc__5pocket</th>\n",
       "      <th>desc__adjustable</th>\n",
       "      <th>desc__adjustable shoulder</th>\n",
       "      <th>desc__adjustable shoulder strap</th>\n",
       "      <th>desc__airy</th>\n",
       "      <th>desc__anklelength</th>\n",
       "      <th>desc__around</th>\n",
       "      <th>desc__around neckline</th>\n",
       "      <th>desc__around neckline cuff</th>\n",
       "      <th>desc__back</th>\n",
       "      <th>...</th>\n",
       "      <th>cat__graphical_appearance_name_Other pattern</th>\n",
       "      <th>cat__graphical_appearance_name_Other structure</th>\n",
       "      <th>cat__graphical_appearance_name_Placement print</th>\n",
       "      <th>cat__graphical_appearance_name_Sequin</th>\n",
       "      <th>cat__graphical_appearance_name_Slub</th>\n",
       "      <th>cat__graphical_appearance_name_Solid</th>\n",
       "      <th>cat__graphical_appearance_name_Stripe</th>\n",
       "      <th>cat__graphical_appearance_name_Transparent</th>\n",
       "      <th>cat__graphical_appearance_name_Treatment</th>\n",
       "      <th>cat__graphical_appearance_name_Unknown</th>\n",
       "    </tr>\n",
       "  </thead>\n",
       "  <tbody>\n",
       "    <tr>\n",
       "      <th>0</th>\n",
       "      <td>0.0</td>\n",
       "      <td>0.000000</td>\n",
       "      <td>0.000000</td>\n",
       "      <td>0.000000</td>\n",
       "      <td>0.0</td>\n",
       "      <td>0.0</td>\n",
       "      <td>0.0</td>\n",
       "      <td>0.0</td>\n",
       "      <td>0.0</td>\n",
       "      <td>0.00000</td>\n",
       "      <td>...</td>\n",
       "      <td>0.0</td>\n",
       "      <td>0.0</td>\n",
       "      <td>0.0</td>\n",
       "      <td>0.0</td>\n",
       "      <td>0.0</td>\n",
       "      <td>1.0</td>\n",
       "      <td>0.0</td>\n",
       "      <td>0.0</td>\n",
       "      <td>0.0</td>\n",
       "      <td>0.0</td>\n",
       "    </tr>\n",
       "    <tr>\n",
       "      <th>1</th>\n",
       "      <td>0.0</td>\n",
       "      <td>0.000000</td>\n",
       "      <td>0.000000</td>\n",
       "      <td>0.000000</td>\n",
       "      <td>0.0</td>\n",
       "      <td>0.0</td>\n",
       "      <td>0.0</td>\n",
       "      <td>0.0</td>\n",
       "      <td>0.0</td>\n",
       "      <td>0.00000</td>\n",
       "      <td>...</td>\n",
       "      <td>0.0</td>\n",
       "      <td>0.0</td>\n",
       "      <td>0.0</td>\n",
       "      <td>0.0</td>\n",
       "      <td>0.0</td>\n",
       "      <td>1.0</td>\n",
       "      <td>0.0</td>\n",
       "      <td>0.0</td>\n",
       "      <td>0.0</td>\n",
       "      <td>0.0</td>\n",
       "    </tr>\n",
       "    <tr>\n",
       "      <th>2</th>\n",
       "      <td>0.0</td>\n",
       "      <td>0.000000</td>\n",
       "      <td>0.000000</td>\n",
       "      <td>0.000000</td>\n",
       "      <td>0.0</td>\n",
       "      <td>0.0</td>\n",
       "      <td>0.0</td>\n",
       "      <td>0.0</td>\n",
       "      <td>0.0</td>\n",
       "      <td>0.09945</td>\n",
       "      <td>...</td>\n",
       "      <td>0.0</td>\n",
       "      <td>0.0</td>\n",
       "      <td>0.0</td>\n",
       "      <td>0.0</td>\n",
       "      <td>0.0</td>\n",
       "      <td>1.0</td>\n",
       "      <td>0.0</td>\n",
       "      <td>0.0</td>\n",
       "      <td>0.0</td>\n",
       "      <td>0.0</td>\n",
       "    </tr>\n",
       "    <tr>\n",
       "      <th>3</th>\n",
       "      <td>0.0</td>\n",
       "      <td>0.251879</td>\n",
       "      <td>0.321534</td>\n",
       "      <td>0.321534</td>\n",
       "      <td>0.0</td>\n",
       "      <td>0.0</td>\n",
       "      <td>0.0</td>\n",
       "      <td>0.0</td>\n",
       "      <td>0.0</td>\n",
       "      <td>0.00000</td>\n",
       "      <td>...</td>\n",
       "      <td>0.0</td>\n",
       "      <td>0.0</td>\n",
       "      <td>0.0</td>\n",
       "      <td>1.0</td>\n",
       "      <td>0.0</td>\n",
       "      <td>0.0</td>\n",
       "      <td>0.0</td>\n",
       "      <td>0.0</td>\n",
       "      <td>0.0</td>\n",
       "      <td>0.0</td>\n",
       "    </tr>\n",
       "    <tr>\n",
       "      <th>4</th>\n",
       "      <td>0.0</td>\n",
       "      <td>0.000000</td>\n",
       "      <td>0.000000</td>\n",
       "      <td>0.000000</td>\n",
       "      <td>0.0</td>\n",
       "      <td>0.0</td>\n",
       "      <td>0.0</td>\n",
       "      <td>0.0</td>\n",
       "      <td>0.0</td>\n",
       "      <td>0.00000</td>\n",
       "      <td>...</td>\n",
       "      <td>0.0</td>\n",
       "      <td>0.0</td>\n",
       "      <td>0.0</td>\n",
       "      <td>0.0</td>\n",
       "      <td>0.0</td>\n",
       "      <td>0.0</td>\n",
       "      <td>0.0</td>\n",
       "      <td>0.0</td>\n",
       "      <td>0.0</td>\n",
       "      <td>0.0</td>\n",
       "    </tr>\n",
       "  </tbody>\n",
       "</table>\n",
       "<p>5 rows × 528 columns</p>\n",
       "</div>"
      ],
      "text/plain": [
       "   desc__5pocket  desc__adjustable  desc__adjustable shoulder  \\\n",
       "0            0.0          0.000000                   0.000000   \n",
       "1            0.0          0.000000                   0.000000   \n",
       "2            0.0          0.000000                   0.000000   \n",
       "3            0.0          0.251879                   0.321534   \n",
       "4            0.0          0.000000                   0.000000   \n",
       "\n",
       "   desc__adjustable shoulder strap  desc__airy  desc__anklelength  \\\n",
       "0                         0.000000         0.0                0.0   \n",
       "1                         0.000000         0.0                0.0   \n",
       "2                         0.000000         0.0                0.0   \n",
       "3                         0.321534         0.0                0.0   \n",
       "4                         0.000000         0.0                0.0   \n",
       "\n",
       "   desc__around  desc__around neckline  desc__around neckline cuff  \\\n",
       "0           0.0                    0.0                         0.0   \n",
       "1           0.0                    0.0                         0.0   \n",
       "2           0.0                    0.0                         0.0   \n",
       "3           0.0                    0.0                         0.0   \n",
       "4           0.0                    0.0                         0.0   \n",
       "\n",
       "   desc__back  ...  cat__graphical_appearance_name_Other pattern  \\\n",
       "0     0.00000  ...                                           0.0   \n",
       "1     0.00000  ...                                           0.0   \n",
       "2     0.09945  ...                                           0.0   \n",
       "3     0.00000  ...                                           0.0   \n",
       "4     0.00000  ...                                           0.0   \n",
       "\n",
       "   cat__graphical_appearance_name_Other structure  \\\n",
       "0                                             0.0   \n",
       "1                                             0.0   \n",
       "2                                             0.0   \n",
       "3                                             0.0   \n",
       "4                                             0.0   \n",
       "\n",
       "   cat__graphical_appearance_name_Placement print  \\\n",
       "0                                             0.0   \n",
       "1                                             0.0   \n",
       "2                                             0.0   \n",
       "3                                             0.0   \n",
       "4                                             0.0   \n",
       "\n",
       "   cat__graphical_appearance_name_Sequin  cat__graphical_appearance_name_Slub  \\\n",
       "0                                    0.0                                  0.0   \n",
       "1                                    0.0                                  0.0   \n",
       "2                                    0.0                                  0.0   \n",
       "3                                    1.0                                  0.0   \n",
       "4                                    0.0                                  0.0   \n",
       "\n",
       "   cat__graphical_appearance_name_Solid  \\\n",
       "0                                   1.0   \n",
       "1                                   1.0   \n",
       "2                                   1.0   \n",
       "3                                   0.0   \n",
       "4                                   0.0   \n",
       "\n",
       "   cat__graphical_appearance_name_Stripe  \\\n",
       "0                                    0.0   \n",
       "1                                    0.0   \n",
       "2                                    0.0   \n",
       "3                                    0.0   \n",
       "4                                    0.0   \n",
       "\n",
       "   cat__graphical_appearance_name_Transparent  \\\n",
       "0                                         0.0   \n",
       "1                                         0.0   \n",
       "2                                         0.0   \n",
       "3                                         0.0   \n",
       "4                                         0.0   \n",
       "\n",
       "   cat__graphical_appearance_name_Treatment  \\\n",
       "0                                       0.0   \n",
       "1                                       0.0   \n",
       "2                                       0.0   \n",
       "3                                       0.0   \n",
       "4                                       0.0   \n",
       "\n",
       "   cat__graphical_appearance_name_Unknown  \n",
       "0                                     0.0  \n",
       "1                                     0.0  \n",
       "2                                     0.0  \n",
       "3                                     0.0  \n",
       "4                                     0.0  \n",
       "\n",
       "[5 rows x 528 columns]"
      ]
     },
     "execution_count": 87,
     "metadata": {},
     "output_type": "execute_result"
    }
   ],
   "source": [
    "# Apply the transformations\n",
    "X_train = col_trans.fit_transform(X_train) \n",
    "X_test = col_trans.transform(X_test)\n",
    "\n",
    "# Put in a DataFrame\n",
    "transformed_df = pd.DataFrame(X_train.todense(), columns=col_trans.get_feature_names_out())\n",
    "transformed_df.head()"
   ]
  },
  {
   "cell_type": "markdown",
   "id": "4f0fdb2f-4118-4599-aa18-692dadfe10a3",
   "metadata": {},
   "source": [
    "# with default vectorizer"
   ]
  },
  {
   "cell_type": "code",
   "execution_count": 85,
   "id": "fdd3704a-faa3-4ff6-8657-22d1461e162d",
   "metadata": {},
   "outputs": [
    {
     "name": "stdout",
     "output_type": "stream",
     "text": [
      "(28962, 9) (7241, 9)\n"
     ]
    }
   ],
   "source": [
    "# Spliting features X and target y (Reviewer Score)\n",
    "X = prod_df.drop('trending', axis=1)\n",
    "y = prod_df['trending']\n",
    "\n",
    "# Train/Test split\n",
    "X_train, X_test, y_train, y_test = train_test_split(X, y, test_size=0.2, stratify=y, random_state=123)\n",
    "print(X_train.shape, X_test.shape)\n",
    "\n",
    "# Columns for one-hot encoding\n",
    "categorical_columns = ['product_type_name', 'product_group_name', 'index_group_name', 'section_name', 'graphical_appearance_name']\n",
    "\n",
    "# Create the column transformations list + columns to which to apply\n",
    "col_transforms = [('desc', TfidfVectorizer(), 'detail_desc'),\n",
    "                  ('name', TfidfVectorizer(), 'prod_name'),\n",
    "                  ('normalise', StandardScaler(), ['unit_price']),\n",
    "                  ('cat', OneHotEncoder(drop='first'), categorical_columns)\n",
    "                 ]\n",
    "\n",
    "# Create the column transformer\n",
    "col_trans = ColumnTransformer(col_transforms)"
   ]
  },
  {
   "cell_type": "code",
   "execution_count": 83,
   "id": "4cee0fa2-49da-4c56-9415-ec343e696633",
   "metadata": {},
   "outputs": [
    {
     "data": {
      "text/html": [
       "<div>\n",
       "<style scoped>\n",
       "    .dataframe tbody tr th:only-of-type {\n",
       "        vertical-align: middle;\n",
       "    }\n",
       "\n",
       "    .dataframe tbody tr th {\n",
       "        vertical-align: top;\n",
       "    }\n",
       "\n",
       "    .dataframe thead th {\n",
       "        text-align: right;\n",
       "    }\n",
       "</style>\n",
       "<table border=\"1\" class=\"dataframe\">\n",
       "  <thead>\n",
       "    <tr style=\"text-align: right;\">\n",
       "      <th></th>\n",
       "      <th>desc__0241590</th>\n",
       "      <th>desc__0391750</th>\n",
       "      <th>desc__0391772</th>\n",
       "      <th>desc__0451290</th>\n",
       "      <th>desc__0504415</th>\n",
       "      <th>desc__0504416</th>\n",
       "      <th>desc__0507864</th>\n",
       "      <th>desc__0518647</th>\n",
       "      <th>desc__0533000</th>\n",
       "      <th>desc__0575442</th>\n",
       "      <th>...</th>\n",
       "      <th>cat__graphical_appearance_name_Other pattern</th>\n",
       "      <th>cat__graphical_appearance_name_Other structure</th>\n",
       "      <th>cat__graphical_appearance_name_Placement print</th>\n",
       "      <th>cat__graphical_appearance_name_Sequin</th>\n",
       "      <th>cat__graphical_appearance_name_Slub</th>\n",
       "      <th>cat__graphical_appearance_name_Solid</th>\n",
       "      <th>cat__graphical_appearance_name_Stripe</th>\n",
       "      <th>cat__graphical_appearance_name_Transparent</th>\n",
       "      <th>cat__graphical_appearance_name_Treatment</th>\n",
       "      <th>cat__graphical_appearance_name_Unknown</th>\n",
       "    </tr>\n",
       "  </thead>\n",
       "  <tbody>\n",
       "    <tr>\n",
       "      <th>0</th>\n",
       "      <td>0.0</td>\n",
       "      <td>0.0</td>\n",
       "      <td>0.0</td>\n",
       "      <td>0.0</td>\n",
       "      <td>0.0</td>\n",
       "      <td>0.0</td>\n",
       "      <td>0.0</td>\n",
       "      <td>0.0</td>\n",
       "      <td>0.0</td>\n",
       "      <td>0.0</td>\n",
       "      <td>...</td>\n",
       "      <td>0.0</td>\n",
       "      <td>0.0</td>\n",
       "      <td>0.0</td>\n",
       "      <td>0.0</td>\n",
       "      <td>0.0</td>\n",
       "      <td>1.0</td>\n",
       "      <td>0.0</td>\n",
       "      <td>0.0</td>\n",
       "      <td>0.0</td>\n",
       "      <td>0.0</td>\n",
       "    </tr>\n",
       "    <tr>\n",
       "      <th>1</th>\n",
       "      <td>0.0</td>\n",
       "      <td>0.0</td>\n",
       "      <td>0.0</td>\n",
       "      <td>0.0</td>\n",
       "      <td>0.0</td>\n",
       "      <td>0.0</td>\n",
       "      <td>0.0</td>\n",
       "      <td>0.0</td>\n",
       "      <td>0.0</td>\n",
       "      <td>0.0</td>\n",
       "      <td>...</td>\n",
       "      <td>0.0</td>\n",
       "      <td>0.0</td>\n",
       "      <td>0.0</td>\n",
       "      <td>0.0</td>\n",
       "      <td>0.0</td>\n",
       "      <td>1.0</td>\n",
       "      <td>0.0</td>\n",
       "      <td>0.0</td>\n",
       "      <td>0.0</td>\n",
       "      <td>0.0</td>\n",
       "    </tr>\n",
       "    <tr>\n",
       "      <th>2</th>\n",
       "      <td>0.0</td>\n",
       "      <td>0.0</td>\n",
       "      <td>0.0</td>\n",
       "      <td>0.0</td>\n",
       "      <td>0.0</td>\n",
       "      <td>0.0</td>\n",
       "      <td>0.0</td>\n",
       "      <td>0.0</td>\n",
       "      <td>0.0</td>\n",
       "      <td>0.0</td>\n",
       "      <td>...</td>\n",
       "      <td>0.0</td>\n",
       "      <td>0.0</td>\n",
       "      <td>0.0</td>\n",
       "      <td>0.0</td>\n",
       "      <td>0.0</td>\n",
       "      <td>1.0</td>\n",
       "      <td>0.0</td>\n",
       "      <td>0.0</td>\n",
       "      <td>0.0</td>\n",
       "      <td>0.0</td>\n",
       "    </tr>\n",
       "    <tr>\n",
       "      <th>3</th>\n",
       "      <td>0.0</td>\n",
       "      <td>0.0</td>\n",
       "      <td>0.0</td>\n",
       "      <td>0.0</td>\n",
       "      <td>0.0</td>\n",
       "      <td>0.0</td>\n",
       "      <td>0.0</td>\n",
       "      <td>0.0</td>\n",
       "      <td>0.0</td>\n",
       "      <td>0.0</td>\n",
       "      <td>...</td>\n",
       "      <td>0.0</td>\n",
       "      <td>0.0</td>\n",
       "      <td>0.0</td>\n",
       "      <td>1.0</td>\n",
       "      <td>0.0</td>\n",
       "      <td>0.0</td>\n",
       "      <td>0.0</td>\n",
       "      <td>0.0</td>\n",
       "      <td>0.0</td>\n",
       "      <td>0.0</td>\n",
       "    </tr>\n",
       "    <tr>\n",
       "      <th>4</th>\n",
       "      <td>0.0</td>\n",
       "      <td>0.0</td>\n",
       "      <td>0.0</td>\n",
       "      <td>0.0</td>\n",
       "      <td>0.0</td>\n",
       "      <td>0.0</td>\n",
       "      <td>0.0</td>\n",
       "      <td>0.0</td>\n",
       "      <td>0.0</td>\n",
       "      <td>0.0</td>\n",
       "      <td>...</td>\n",
       "      <td>0.0</td>\n",
       "      <td>0.0</td>\n",
       "      <td>0.0</td>\n",
       "      <td>0.0</td>\n",
       "      <td>0.0</td>\n",
       "      <td>0.0</td>\n",
       "      <td>0.0</td>\n",
       "      <td>0.0</td>\n",
       "      <td>0.0</td>\n",
       "      <td>0.0</td>\n",
       "    </tr>\n",
       "  </tbody>\n",
       "</table>\n",
       "<p>5 rows × 11683 columns</p>\n",
       "</div>"
      ],
      "text/plain": [
       "   desc__0241590  desc__0391750  desc__0391772  desc__0451290  desc__0504415  \\\n",
       "0            0.0            0.0            0.0            0.0            0.0   \n",
       "1            0.0            0.0            0.0            0.0            0.0   \n",
       "2            0.0            0.0            0.0            0.0            0.0   \n",
       "3            0.0            0.0            0.0            0.0            0.0   \n",
       "4            0.0            0.0            0.0            0.0            0.0   \n",
       "\n",
       "   desc__0504416  desc__0507864  desc__0518647  desc__0533000  desc__0575442  \\\n",
       "0            0.0            0.0            0.0            0.0            0.0   \n",
       "1            0.0            0.0            0.0            0.0            0.0   \n",
       "2            0.0            0.0            0.0            0.0            0.0   \n",
       "3            0.0            0.0            0.0            0.0            0.0   \n",
       "4            0.0            0.0            0.0            0.0            0.0   \n",
       "\n",
       "   ...  cat__graphical_appearance_name_Other pattern  \\\n",
       "0  ...                                           0.0   \n",
       "1  ...                                           0.0   \n",
       "2  ...                                           0.0   \n",
       "3  ...                                           0.0   \n",
       "4  ...                                           0.0   \n",
       "\n",
       "   cat__graphical_appearance_name_Other structure  \\\n",
       "0                                             0.0   \n",
       "1                                             0.0   \n",
       "2                                             0.0   \n",
       "3                                             0.0   \n",
       "4                                             0.0   \n",
       "\n",
       "   cat__graphical_appearance_name_Placement print  \\\n",
       "0                                             0.0   \n",
       "1                                             0.0   \n",
       "2                                             0.0   \n",
       "3                                             0.0   \n",
       "4                                             0.0   \n",
       "\n",
       "   cat__graphical_appearance_name_Sequin  cat__graphical_appearance_name_Slub  \\\n",
       "0                                    0.0                                  0.0   \n",
       "1                                    0.0                                  0.0   \n",
       "2                                    0.0                                  0.0   \n",
       "3                                    1.0                                  0.0   \n",
       "4                                    0.0                                  0.0   \n",
       "\n",
       "   cat__graphical_appearance_name_Solid  \\\n",
       "0                                   1.0   \n",
       "1                                   1.0   \n",
       "2                                   1.0   \n",
       "3                                   0.0   \n",
       "4                                   0.0   \n",
       "\n",
       "   cat__graphical_appearance_name_Stripe  \\\n",
       "0                                    0.0   \n",
       "1                                    0.0   \n",
       "2                                    0.0   \n",
       "3                                    0.0   \n",
       "4                                    0.0   \n",
       "\n",
       "   cat__graphical_appearance_name_Transparent  \\\n",
       "0                                         0.0   \n",
       "1                                         0.0   \n",
       "2                                         0.0   \n",
       "3                                         0.0   \n",
       "4                                         0.0   \n",
       "\n",
       "   cat__graphical_appearance_name_Treatment  \\\n",
       "0                                       0.0   \n",
       "1                                       0.0   \n",
       "2                                       0.0   \n",
       "3                                       0.0   \n",
       "4                                       0.0   \n",
       "\n",
       "   cat__graphical_appearance_name_Unknown  \n",
       "0                                     0.0  \n",
       "1                                     0.0  \n",
       "2                                     0.0  \n",
       "3                                     0.0  \n",
       "4                                     0.0  \n",
       "\n",
       "[5 rows x 11683 columns]"
      ]
     },
     "execution_count": 83,
     "metadata": {},
     "output_type": "execute_result"
    }
   ],
   "source": [
    "# Apply the transformations\n",
    "X_train = col_trans.fit_transform(X_train) \n",
    "X_test = col_trans.transform(X_test)\n",
    "\n",
    "# Put in a DataFrame\n",
    "transformed_df = pd.DataFrame(X_train.todense(), columns=col_trans.get_feature_names_out())\n",
    "transformed_df.head()"
   ]
  },
  {
   "cell_type": "markdown",
   "id": "182534c6-38a4-41a0-8626-b3a5111d2eea",
   "metadata": {
    "id": "flutCahiL23l"
   },
   "source": [
    "The new feature names are contained in the fitted transformer as we saw before with FeatureUnion:"
   ]
  },
  {
   "cell_type": "markdown",
   "id": "f1b0cf6a-31bc-4328-8038-f1af42e88037",
   "metadata": {
    "id": "h-z8Ijb4L23l"
   },
   "source": [
    "Now we can apply the transformation and create a new DataFrame:"
   ]
  },
  {
   "cell_type": "code",
   "execution_count": 44,
   "id": "932a4341-6e78-4808-80be-8e64a70bd11f",
   "metadata": {},
   "outputs": [
    {
     "data": {
      "text/plain": [
       "(28962, 1127)"
      ]
     },
     "execution_count": 44,
     "metadata": {},
     "output_type": "execute_result"
    }
   ],
   "source": [
    "transformed_df.shape"
   ]
  },
  {
   "cell_type": "markdown",
   "id": "10c00164-aea7-46c6-ab4f-b5ec666c9337",
   "metadata": {},
   "source": [
    "# together"
   ]
  },
  {
   "cell_type": "code",
   "execution_count": 102,
   "id": "28229c4b-4bd5-4290-ba6d-217305180b3c",
   "metadata": {},
   "outputs": [
    {
     "name": "stdout",
     "output_type": "stream",
     "text": [
      "(28962, 8) (7241, 8)\n",
      "              precision    recall  f1-score   support\n",
      "\n",
      "       False       0.98      0.74      0.84      6475\n",
      "        True       0.28      0.86      0.42       766\n",
      "\n",
      "    accuracy                           0.75      7241\n",
      "   macro avg       0.63      0.80      0.63      7241\n",
      "weighted avg       0.90      0.75      0.80      7241\n",
      "\n"
     ]
    }
   ],
   "source": [
    "from sklearn.pipeline import Pipeline\n",
    "\n",
    "# Spliting features X and target y (Reviewer Score)\n",
    "X = prod_df.drop(['trending', 'product_id'], axis=1)\n",
    "y = prod_df['trending']\n",
    "\n",
    "# Train/Test split\n",
    "X_train, X_test, y_train, y_test = train_test_split(X, y, test_size=0.2, stratify=y, random_state=123)\n",
    "print(X_train.shape, X_test.shape)\n",
    "\n",
    "# Columns for one-hot encoding\n",
    "categorical_columns = ['product_type_name', 'product_group_name', 'index_group_name', 'section_name', 'graphical_appearance_name']\n",
    "\n",
    "# Create the column transformations list + columns to which to apply\n",
    "col_transforms = [('desc', TfidfVectorizer(max_features=50, min_df=10, tokenizer=my_lemma_tokenizer, ngram_range=(1, 3)), 'detail_desc'),\n",
    "                  ('name', TfidfVectorizer(max_features=50, min_df=10, tokenizer=my_lemma_tokenizer, ngram_range=(1, 3)), 'prod_name'),\n",
    "                  ('normalise', StandardScaler(), ['unit_price']),\n",
    "                  ('cat', OneHotEncoder(drop='first'), categorical_columns)\n",
    "                 ]\n",
    "\n",
    "# Create the column transformer\n",
    "col_trans = ColumnTransformer(col_transforms)\n",
    "\n",
    "\n",
    "#we give our estimators as a list of tuples: name:function.\n",
    "estimators = [('feature_eng', col_trans),\n",
    "              ('smote', SMOTE(random_state=123)),\n",
    "              ('logreg', LogisticRegression(random_state=123))\n",
    "             ] #Step3 -> Calssifier\n",
    "\n",
    "pipe = ImbPipeline(estimators)\n",
    "\n",
    "pipe.fit(X_train, y_train)\n",
    "\n",
    "y_pred = pipe.predict(X_test)\n",
    "\n",
    "# classification report\n",
    "print(classification_report(y_test, y_pred))"
   ]
  },
  {
   "cell_type": "code",
   "execution_count": 103,
   "id": "0faa3544-1185-4fb9-94d5-260979dfffdc",
   "metadata": {},
   "outputs": [
    {
     "data": {
      "image/png": "[encoded data removed]",
      "text/plain": [
       "<Figure size 640x480 with 2 Axes>"
      ]
     },
     "metadata": {},
     "output_type": "display_data"
    }
   ],
   "source": [
    "# Evaluate with confusion matrix\n",
    "ConfusionMatrixDisplay.from_estimator(pipe, X_test, y_test)\n",
    "plt.show()"
   ]
  },
  {
   "cell_type": "code",
   "execution_count": 99,
   "id": "2df6480b-9077-44f4-b703-4087bac2b33b",
   "metadata": {},
   "outputs": [
    {
     "name": "stdout",
     "output_type": "stream",
     "text": [
      "(28962, 8) (7241, 8)\n",
      "              precision    recall  f1-score   support\n",
      "\n",
      "       False       0.97      0.85      0.90      6475\n",
      "        True       0.37      0.75      0.49       766\n",
      "\n",
      "    accuracy                           0.84      7241\n",
      "   macro avg       0.67      0.80      0.70      7241\n",
      "weighted avg       0.90      0.84      0.86      7241\n",
      "\n"
     ]
    }
   ],
   "source": [
    "from sklearn.pipeline import Pipeline\n",
    "from imblearn.pipeline import Pipeline as ImbPipeline\n",
    "# Upsampling with SMOTE\n",
    "from imblearn.over_sampling import SMOTE\n",
    "\n",
    "# Spliting features X and target y (Reviewer Score)\n",
    "X = prod_df.drop(['trending', 'product_id'], axis=1)\n",
    "y = prod_df['trending']\n",
    "\n",
    "# Train/Test split\n",
    "X_train, X_test, y_train, y_test = train_test_split(X, y, test_size=0.2, stratify=y, random_state=123)\n",
    "print(X_train.shape, X_test.shape)\n",
    "\n",
    "\n",
    "# Columns for one-hot encoding\n",
    "categorical_columns = ['product_type_name', 'product_group_name', 'index_group_name', 'section_name', 'graphical_appearance_name']\n",
    "\n",
    "# Create the column transformations list + columns to which to apply\n",
    "col_transforms = [('desc', TfidfVectorizer(), 'detail_desc'),\n",
    "                  ('name', TfidfVectorizer(), 'prod_name'),\n",
    "                  ('normalise', StandardScaler(), ['unit_price']),\n",
    "                  ('cat', OneHotEncoder(drop='first'), categorical_columns)\n",
    "                 ]\n",
    "\n",
    "# Create the column transformer\n",
    "col_trans = ColumnTransformer(col_transforms)\n",
    "\n",
    "\n",
    "#we give our estimators as a list of tuples: name:function.\n",
    "estimators = [('feature_eng', col_trans),\n",
    "              ('smote', SMOTE(random_state=123)),\n",
    "              ('logreg', LogisticRegression(random_state=123))\n",
    "             ] #Step3 -> Calssifier\n",
    "\n",
    "pipe = ImbPipeline(estimators)\n",
    "\n",
    "pipe.fit(X_train, y_train)\n",
    "\n",
    "y_pred = pipe.predict(X_test)\n",
    "\n",
    "# classification report\n",
    "print(classification_report(y_test, y_pred))"
   ]
  },
  {
   "cell_type": "code",
   "execution_count": 66,
   "id": "fc99c095-23ea-46bb-8d5e-1fcaef3f7341",
   "metadata": {},
   "outputs": [
    {
     "data": {
      "text/html": [
       "<div>\n",
       "<style scoped>\n",
       "    .dataframe tbody tr th:only-of-type {\n",
       "        vertical-align: middle;\n",
       "    }\n",
       "\n",
       "    .dataframe tbody tr th {\n",
       "        vertical-align: top;\n",
       "    }\n",
       "\n",
       "    .dataframe thead th {\n",
       "        text-align: right;\n",
       "    }\n",
       "</style>\n",
       "<table border=\"1\" class=\"dataframe\">\n",
       "  <thead>\n",
       "    <tr style=\"text-align: right;\">\n",
       "      <th></th>\n",
       "      <th>product_id</th>\n",
       "      <th>prod_name</th>\n",
       "      <th>detail_desc</th>\n",
       "      <th>product_type_name</th>\n",
       "      <th>product_group_name</th>\n",
       "      <th>index_group_name</th>\n",
       "      <th>section_name</th>\n",
       "      <th>graphical_appearance_name</th>\n",
       "      <th>unit_price</th>\n",
       "      <th>trending</th>\n",
       "    </tr>\n",
       "  </thead>\n",
       "  <tbody>\n",
       "    <tr>\n",
       "      <th>0</th>\n",
       "      <td>541518</td>\n",
       "      <td>Rae Push (Melbourne) 2p</td>\n",
       "      <td>Lace push-up bras with underwired, moulded, pa...</td>\n",
       "      <td>Bra</td>\n",
       "      <td>Underwear</td>\n",
       "      <td>Ladieswear</td>\n",
       "      <td>Womens Lingerie</td>\n",
       "      <td>Solid</td>\n",
       "      <td>0.030492</td>\n",
       "      <td>True</td>\n",
       "    </tr>\n",
       "    <tr>\n",
       "      <th>1</th>\n",
       "      <td>663713</td>\n",
       "      <td>Atlanta Push Body Harlow</td>\n",
       "      <td>Lace push-up body with underwired, moulded, pa...</td>\n",
       "      <td>Underwear body</td>\n",
       "      <td>Underwear</td>\n",
       "      <td>Ladieswear</td>\n",
       "      <td>Womens Lingerie</td>\n",
       "      <td>Solid</td>\n",
       "      <td>0.050831</td>\n",
       "      <td>False</td>\n",
       "    </tr>\n",
       "    <tr>\n",
       "      <th>2</th>\n",
       "      <td>505221</td>\n",
       "      <td>Inca Jumper</td>\n",
       "      <td>Jumper in rib-knit cotton with hard-worn detai...</td>\n",
       "      <td>Sweater</td>\n",
       "      <td>Garment Upper body</td>\n",
       "      <td>Divided</td>\n",
       "      <td>Divided Selected</td>\n",
       "      <td>Melange</td>\n",
       "      <td>0.020322</td>\n",
       "      <td>False</td>\n",
       "    </tr>\n",
       "    <tr>\n",
       "      <th>3</th>\n",
       "      <td>685687</td>\n",
       "      <td>W YODA KNIT OL OFFER</td>\n",
       "      <td>V-neck knitted jumper with long sleeves and ri...</td>\n",
       "      <td>Sweater</td>\n",
       "      <td>Garment Upper body</td>\n",
       "      <td>Ladieswear</td>\n",
       "      <td>Womens Everyday Collection</td>\n",
       "      <td>Melange</td>\n",
       "      <td>0.016932</td>\n",
       "      <td>True</td>\n",
       "    </tr>\n",
       "    <tr>\n",
       "      <th>4</th>\n",
       "      <td>501323</td>\n",
       "      <td>Thomas paperbag wide</td>\n",
       "      <td>Trousers in woven fabric with a high, paper ba...</td>\n",
       "      <td>Trousers</td>\n",
       "      <td>Garment Lower body</td>\n",
       "      <td>Ladieswear</td>\n",
       "      <td>Womens Tailoring</td>\n",
       "      <td>Check</td>\n",
       "      <td>0.059305</td>\n",
       "      <td>True</td>\n",
       "    </tr>\n",
       "  </tbody>\n",
       "</table>\n",
       "</div>"
      ],
      "text/plain": [
       "   product_id                 prod_name  \\\n",
       "0      541518   Rae Push (Melbourne) 2p   \n",
       "1      663713  Atlanta Push Body Harlow   \n",
       "2      505221               Inca Jumper   \n",
       "3      685687      W YODA KNIT OL OFFER   \n",
       "4      501323      Thomas paperbag wide   \n",
       "\n",
       "                                         detail_desc product_type_name  \\\n",
       "0  Lace push-up bras with underwired, moulded, pa...               Bra   \n",
       "1  Lace push-up body with underwired, moulded, pa...    Underwear body   \n",
       "2  Jumper in rib-knit cotton with hard-worn detai...           Sweater   \n",
       "3  V-neck knitted jumper with long sleeves and ri...           Sweater   \n",
       "4  Trousers in woven fabric with a high, paper ba...          Trousers   \n",
       "\n",
       "   product_group_name index_group_name                section_name  \\\n",
       "0           Underwear       Ladieswear             Womens Lingerie   \n",
       "1           Underwear       Ladieswear             Womens Lingerie   \n",
       "2  Garment Upper body          Divided            Divided Selected   \n",
       "3  Garment Upper body       Ladieswear  Womens Everyday Collection   \n",
       "4  Garment Lower body       Ladieswear            Womens Tailoring   \n",
       "\n",
       "  graphical_appearance_name  unit_price  trending  \n",
       "0                     Solid    0.030492      True  \n",
       "1                     Solid    0.050831     False  \n",
       "2                   Melange    0.020322     False  \n",
       "3                   Melange    0.016932      True  \n",
       "4                     Check    0.059305      True  "
      ]
     },
     "execution_count": 66,
     "metadata": {},
     "output_type": "execute_result"
    }
   ],
   "source": [
    "prod_df.head()"
   ]
  },
  {
   "cell_type": "code",
   "execution_count": 70,
   "id": "87a5968d-da8a-45ab-b2e8-45541afd16ad",
   "metadata": {},
   "outputs": [
    {
     "name": "stdout",
     "output_type": "stream",
     "text": [
      "<class 'pandas.core.frame.DataFrame'>\n",
      "RangeIndex: 36203 entries, 0 to 36202\n",
      "Data columns (total 10 columns):\n",
      " #   Column                     Non-Null Count  Dtype  \n",
      "---  ------                     --------------  -----  \n",
      " 0   product_id                 36203 non-null  int64  \n",
      " 1   prod_name                  36203 non-null  object \n",
      " 2   detail_desc                36203 non-null  object \n",
      " 3   product_type_name          36203 non-null  object \n",
      " 4   product_group_name         36203 non-null  object \n",
      " 5   index_group_name           36203 non-null  object \n",
      " 6   section_name               36203 non-null  object \n",
      " 7   graphical_appearance_name  36203 non-null  object \n",
      " 8   unit_price                 36203 non-null  float64\n",
      " 9   trending                   36203 non-null  bool   \n",
      "dtypes: bool(1), float64(1), int64(1), object(7)\n",
      "memory usage: 2.5+ MB\n"
     ]
    }
   ],
   "source": [
    "prod_df.info()"
   ]
  },
  {
   "cell_type": "code",
   "execution_count": null,
   "id": "37fe326e-6482-4d52-93a4-0e1eabdd9ce0",
   "metadata": {},
   "outputs": [],
   "source": []
  }
 ],
 "metadata": {
  "kernelspec": {
   "display_name": "capstone",
   "language": "python",
   "name": "capstone"
  },
  "language_info": {
   "codemirror_mode": {
    "name": "ipython",
    "version": 3
   },
   "file_extension": ".py",
   "mimetype": "text/x-python",
   "name": "python",
   "nbconvert_exporter": "python",
   "pygments_lexer": "ipython3",
   "version": "3.9.18"
  }
 },
 "nbformat": 4,
 "nbformat_minor": 5
}
